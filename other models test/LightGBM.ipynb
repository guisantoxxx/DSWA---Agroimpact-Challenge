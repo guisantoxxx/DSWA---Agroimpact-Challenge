{
 "cells": [
  {
   "cell_type": "code",
   "execution_count": 19,
   "id": "30e67c73",
   "metadata": {},
   "outputs": [],
   "source": [
    "from xgboost import XGBRegressor\n",
    "from sklearn.model_selection import train_test_split\n",
    "from sklearn.metrics import mean_squared_error\n",
    "import pandas as pd\n",
    "from sklearn.model_selection import cross_val_score, KFold\n",
    "from sklearn.metrics import make_scorer, mean_squared_error\n",
    "import numpy as np\n",
    "import mlflow"
   ]
  },
  {
   "cell_type": "code",
   "execution_count": 20,
   "id": "a8b905db",
   "metadata": {},
   "outputs": [],
   "source": [
    "train = pd.read_csv('../data/train.csv')"
   ]
  },
  {
   "cell_type": "code",
   "execution_count": 21,
   "id": "d6633906",
   "metadata": {},
   "outputs": [],
   "source": [
    "X = train.drop(columns=[\n",
    "    'ID', 'target1', 'target2', 'target3', 'target4', 'target5',\n",
    "    'target6', 'target7', 'target8', 'target9', 'target10', 'target11'\n",
    "])\n",
    "\n",
    "y = train.drop(columns=[\n",
    "    'ID', 'feature2', 'feature3', 'feature4', 'feature5', 'feature6',\n",
    "    'feature7', 'feature8', 'feature9', 'feature10', 'feature11',\n",
    "    'feature12', 'feature13', 'feature14', 'feature15'\n",
    "])\n"
   ]
  },
  {
   "cell_type": "code",
   "execution_count": 22,
   "id": "13fa9eb1",
   "metadata": {},
   "outputs": [],
   "source": [
    "#X_train, X_test, y_train, y_test = train_test_split(X, y, test_size=0.2)"
   ]
  },
  {
   "cell_type": "markdown",
   "id": "61d7ff3b",
   "metadata": {},
   "source": [
    "Hyper-param optmization"
   ]
  },
  {
   "cell_type": "code",
   "execution_count": 23,
   "id": "8e58d24f",
   "metadata": {},
   "outputs": [],
   "source": [
    "import optuna\n",
    "from lightgbm import LGBMRegressor, callback\n",
    "from sklearn.multioutput import MultiOutputRegressor\n",
    "from sklearn.model_selection import KFold\n",
    "import mlflow\n",
    "import numpy as np\n",
    "import warnings\n",
    "from sklearn.metrics import root_mean_squared_error\n",
    "\n",
    "warnings.filterwarnings('ignore')\n",
    "\n",
    "def objective(trial):\n",
    "    with mlflow.start_run(run_name=f'Trial-{trial.number}', nested=True):\n",
    "        # 1) Defino max_depth antes de num_leaves\n",
    "        max_depth = trial.suggest_int('max_depth', 4, 12)\n",
    "        num_leaves = trial.suggest_int(\n",
    "            'num_leaves',\n",
    "            min(2**(max_depth-1), 31),\n",
    "            min(2**max_depth, 512)\n",
    "        )\n",
    "\n",
    "        params = {\n",
    "            'n_estimators': trial.suggest_int('n_estimators', 500, 5000),\n",
    "            'learning_rate': trial.suggest_float('learning_rate', 1e-3, 0.3, log=True),\n",
    "            'max_depth': max_depth,\n",
    "            'num_leaves': num_leaves,\n",
    "            'min_child_samples': trial.suggest_int('min_child_samples', 5, 50),\n",
    "            'subsample': trial.suggest_float('subsample', 0.5, 1.0),\n",
    "            'colsample_bytree': trial.suggest_float('colsample_bytree', 0.5, 1.0),\n",
    "            'reg_alpha': trial.suggest_float('reg_alpha', 1e-4, 2.0, log=True),\n",
    "            'reg_lambda': trial.suggest_float('reg_lambda', 1e-4, 2.0, log=True),\n",
    "            'min_split_gain': trial.suggest_float('min_split_gain', 0.0, 0.1),\n",
    "            'random_state': 42,\n",
    "            'n_jobs': 1,\n",
    "            'device': 'gpu',      # ou 'cpu' se preferir\n",
    "            'verbose': -1         # silencia todas as mensagens de treino\n",
    "        }\n",
    "\n",
    "        mlflow.log_params(params)\n",
    "\n",
    "        base = LGBMRegressor(**params)\n",
    "        model = MultiOutputRegressor(base, n_jobs=1)\n",
    "\n",
    "        kf = KFold(n_splits=10, shuffle=True, random_state=42)\n",
    "        rmses = []\n",
    "\n",
    "        for train_idx, val_idx in kf.split(X):\n",
    "            X_tr, X_va = X.iloc[train_idx], X.iloc[val_idx]\n",
    "            y_tr, y_va = y.iloc[train_idx], y.iloc[val_idx]\n",
    "\n",
    "            model.fit(\n",
    "                X_tr, y_tr,\n",
    "            )\n",
    "\n",
    "            y_pred = model.predict(X_va)\n",
    "            rmses.append(root_mean_squared_error(y_va, y_pred))\n",
    "\n",
    "        rmse_mean = np.mean(rmses)\n",
    "        mlflow.log_metric('rmse', rmse_mean)\n",
    "        return rmse_mean\n"
   ]
  },
  {
   "cell_type": "code",
   "execution_count": null,
   "id": "d9c5c052",
   "metadata": {},
   "outputs": [
    {
     "name": "stderr",
     "output_type": "stream",
     "text": [
      "[I 2025-07-28 13:45:36,804] A new study created in memory with name: no-name-0d98d14e-2aff-4fc6-aa9e-a560498bbd93\n",
      "[I 2025-07-28 13:47:31,548] Trial 0 finished with value: 0.5190559942493607 and parameters: {'max_depth': 7, 'num_leaves': 124, 'n_estimators': 3794, 'learning_rate': 0.030405325392865647, 'min_child_samples': 12, 'subsample': 0.5779972601681014, 'colsample_bytree': 0.5290418060840998, 'reg_alpha': 0.531434303862503, 'reg_lambda': 0.038495830758681175, 'min_split_gain': 0.07080725777960455}. Best is trial 0 with value: 0.5190559942493607.\n"
     ]
    },
    {
     "name": "stdout",
     "output_type": "stream",
     "text": [
      "🏃 View run Trial-0 at: http://127.0.0.1:5000/#/experiments/962208812792484732/runs/5ee7818c3782416a865b5f189be14311\n",
      "🧪 View experiment at: http://127.0.0.1:5000/#/experiments/962208812792484732\n"
     ]
    },
    {
     "name": "stderr",
     "output_type": "stream",
     "text": [
      "[I 2025-07-28 13:53:28,768] Trial 1 finished with value: 0.5104698205733434 and parameters: {'max_depth': 4, 'num_leaves': 16, 'n_estimators': 4246, 'learning_rate': 0.0033572967053517922, 'min_child_samples': 13, 'subsample': 0.5917022549267169, 'colsample_bytree': 0.6521211214797689, 'reg_alpha': 0.0180714563413956, 'reg_lambda': 0.007207895500630222, 'min_split_gain': 0.029122914019804193}. Best is trial 1 with value: 0.5104698205733434.\n"
     ]
    },
    {
     "name": "stdout",
     "output_type": "stream",
     "text": [
      "🏃 View run Trial-1 at: http://127.0.0.1:5000/#/experiments/962208812792484732/runs/0dcab82499864bf89e5c86898d437668\n",
      "🧪 View experiment at: http://127.0.0.1:5000/#/experiments/962208812792484732\n"
     ]
    },
    {
     "name": "stderr",
     "output_type": "stream",
     "text": [
      "[I 2025-07-28 14:00:32,905] Trial 2 finished with value: 0.5222964105364192 and parameters: {'max_depth': 9, 'num_leaves': 98, 'n_estimators': 1814, 'learning_rate': 0.008082071885709252, 'min_child_samples': 25, 'subsample': 0.8925879806965068, 'colsample_bytree': 0.5998368910791798, 'reg_alpha': 0.016283124535115105, 'reg_lambda': 0.035317733939252895, 'min_split_gain': 0.0046450412719997725}. Best is trial 1 with value: 0.5104698205733434.\n"
     ]
    },
    {
     "name": "stdout",
     "output_type": "stream",
     "text": [
      "🏃 View run Trial-2 at: http://127.0.0.1:5000/#/experiments/962208812792484732/runs/0847770b433846809464fac7d4834677\n",
      "🧪 View experiment at: http://127.0.0.1:5000/#/experiments/962208812792484732\n"
     ]
    },
    {
     "name": "stderr",
     "output_type": "stream",
     "text": [
      "[I 2025-07-28 14:01:40,524] Trial 3 finished with value: 0.5273146622882883 and parameters: {'max_depth': 9, 'num_leaves': 113, 'n_estimators': 792, 'learning_rate': 0.22413234378101138, 'min_child_samples': 49, 'subsample': 0.9041986740582306, 'colsample_bytree': 0.6523068845866853, 'reg_alpha': 0.00026308173182110325, 'reg_lambda': 0.08768125777016172, 'min_split_gain': 0.04401524937396013}. Best is trial 1 with value: 0.5104698205733434.\n"
     ]
    },
    {
     "name": "stdout",
     "output_type": "stream",
     "text": [
      "🏃 View run Trial-3 at: http://127.0.0.1:5000/#/experiments/962208812792484732/runs/04efae6266a94873a69b7563afd1f5b4\n",
      "🧪 View experiment at: http://127.0.0.1:5000/#/experiments/962208812792484732\n"
     ]
    },
    {
     "name": "stderr",
     "output_type": "stream",
     "text": [
      "[I 2025-07-28 14:02:19,876] Trial 4 finished with value: 0.5046989575767495 and parameters: {'max_depth': 5, 'num_leaves': 24, 'n_estimators': 654, 'learning_rate': 0.1788532743297921, 'min_child_samples': 16, 'subsample': 0.831261142176991, 'colsample_bytree': 0.6558555380447055, 'reg_alpha': 0.017251551495698965, 'reg_lambda': 0.02246039089758695, 'min_split_gain': 0.018485445552552705}. Best is trial 4 with value: 0.5046989575767495.\n"
     ]
    },
    {
     "name": "stdout",
     "output_type": "stream",
     "text": [
      "🏃 View run Trial-4 at: http://127.0.0.1:5000/#/experiments/962208812792484732/runs/46e1d956aa184a93bddce63b5b5f94b0\n",
      "🧪 View experiment at: http://127.0.0.1:5000/#/experiments/962208812792484732\n"
     ]
    },
    {
     "name": "stderr",
     "output_type": "stream",
     "text": [
      "[I 2025-07-28 14:05:11,058] Trial 5 finished with value: 0.5179366887327361 and parameters: {'max_depth': 12, 'num_leaves': 404, 'n_estimators': 4728, 'learning_rate': 0.16466293382966793, 'min_child_samples': 32, 'subsample': 0.9609371175115584, 'colsample_bytree': 0.5442462510259598, 'reg_alpha': 0.0006965113051550307, 'reg_lambda': 0.0001565034538003577, 'min_split_gain': 0.032533033076326434}. Best is trial 4 with value: 0.5046989575767495.\n"
     ]
    },
    {
     "name": "stdout",
     "output_type": "stream",
     "text": [
      "🏃 View run Trial-5 at: http://127.0.0.1:5000/#/experiments/962208812792484732/runs/f100dca38b334967a2f449ad7f913c0e\n",
      "🧪 View experiment at: http://127.0.0.1:5000/#/experiments/962208812792484732\n"
     ]
    },
    {
     "name": "stderr",
     "output_type": "stream",
     "text": [
      "[I 2025-07-28 14:17:13,262] Trial 6 finished with value: 0.5172303115491712 and parameters: {'max_depth': 7, 'num_leaves': 57, 'n_estimators': 4230, 'learning_rate': 0.0076510536667541975, 'min_child_samples': 17, 'subsample': 0.7713480415791243, 'colsample_bytree': 0.5704621124873813, 'reg_alpha': 0.282015693637274, 'reg_lambda': 0.00020923992450660843, 'min_split_gain': 0.09868869366005173}. Best is trial 4 with value: 0.5046989575767495.\n"
     ]
    },
    {
     "name": "stdout",
     "output_type": "stream",
     "text": [
      "🏃 View run Trial-6 at: http://127.0.0.1:5000/#/experiments/962208812792484732/runs/4e78260d5e3b4d62a5f1f829d13fa83f\n",
      "🧪 View experiment at: http://127.0.0.1:5000/#/experiments/962208812792484732\n"
     ]
    },
    {
     "name": "stderr",
     "output_type": "stream",
     "text": [
      "[I 2025-07-28 14:20:22,283] Trial 7 finished with value: 0.5105335346812032 and parameters: {'max_depth': 10, 'num_leaves': 126, 'n_estimators': 524, 'learning_rate': 0.10471209213501693, 'min_child_samples': 37, 'subsample': 0.8645035840204937, 'colsample_bytree': 0.8856351733429728, 'reg_alpha': 0.00020819402819919692, 'reg_lambda': 0.0034815437009482735, 'min_split_gain': 0.011586905952512973}. Best is trial 4 with value: 0.5046989575767495.\n"
     ]
    },
    {
     "name": "stdout",
     "output_type": "stream",
     "text": [
      "🏃 View run Trial-7 at: http://127.0.0.1:5000/#/experiments/962208812792484732/runs/b33f6a562b354e78b0d2ae7b63088027\n",
      "🧪 View experiment at: http://127.0.0.1:5000/#/experiments/962208812792484732\n"
     ]
    },
    {
     "name": "stderr",
     "output_type": "stream",
     "text": [
      "[I 2025-07-28 14:29:05,992] Trial 8 finished with value: 0.5862828135402516 and parameters: {'max_depth': 11, 'num_leaves': 331, 'n_estimators': 1989, 'learning_rate': 0.0014369502768990666, 'min_child_samples': 19, 'subsample': 0.6625916610133735, 'colsample_bytree': 0.864803089169032, 'reg_alpha': 0.05522729957780637, 'reg_lambda': 0.6545285853960306, 'min_split_gain': 0.04722149251619493}. Best is trial 4 with value: 0.5046989575767495.\n"
     ]
    },
    {
     "name": "stdout",
     "output_type": "stream",
     "text": [
      "🏃 View run Trial-8 at: http://127.0.0.1:5000/#/experiments/962208812792484732/runs/9357fb6d14b741c98dc2d9f356dba2a6\n",
      "🧪 View experiment at: http://127.0.0.1:5000/#/experiments/962208812792484732\n"
     ]
    },
    {
     "name": "stderr",
     "output_type": "stream",
     "text": [
      "[I 2025-07-28 14:34:02,391] Trial 9 finished with value: 0.5189070648051214 and parameters: {'max_depth': 5, 'num_leaves': 28, 'n_estimators': 3924, 'learning_rate': 0.024566974547738343, 'min_child_samples': 40, 'subsample': 0.7468977981821954, 'colsample_bytree': 0.7613664146909971, 'reg_alpha': 0.006900280483215906, 'reg_lambda': 0.0001286259000103281, 'min_split_gain': 0.010789142699330446}. Best is trial 4 with value: 0.5046989575767495.\n"
     ]
    },
    {
     "name": "stdout",
     "output_type": "stream",
     "text": [
      "🏃 View run Trial-9 at: http://127.0.0.1:5000/#/experiments/962208812792484732/runs/c55d5013bba74fa08c6758ed2940e9a6\n",
      "🧪 View experiment at: http://127.0.0.1:5000/#/experiments/962208812792484732\n"
     ]
    },
    {
     "name": "stderr",
     "output_type": "stream",
     "text": [
      "[I 2025-07-28 14:35:04,233] Trial 10 finished with value: 0.4701979642747592 and parameters: {'max_depth': 6, 'num_leaves': 43, 'n_estimators': 2831, 'learning_rate': 0.0590231325021108, 'min_child_samples': 5, 'subsample': 0.770471954087774, 'colsample_bytree': 0.9798853729727102, 'reg_alpha': 0.00250832097992474, 'reg_lambda': 1.182800324777683, 'min_split_gain': 0.0738405544725021}. Best is trial 10 with value: 0.4701979642747592.\n"
     ]
    },
    {
     "name": "stdout",
     "output_type": "stream",
     "text": [
      "🏃 View run Trial-10 at: http://127.0.0.1:5000/#/experiments/962208812792484732/runs/4b1bd75fc13341a4bacd079811cbefb7\n",
      "🧪 View experiment at: http://127.0.0.1:5000/#/experiments/962208812792484732\n"
     ]
    },
    {
     "name": "stderr",
     "output_type": "stream",
     "text": [
      "[I 2025-07-28 14:36:05,922] Trial 11 finished with value: 0.46871354376919394 and parameters: {'max_depth': 6, 'num_leaves': 42, 'n_estimators': 2829, 'learning_rate': 0.05884206632618343, 'min_child_samples': 5, 'subsample': 0.7776450799851002, 'colsample_bytree': 0.9954751604555587, 'reg_alpha': 0.0024050306501921114, 'reg_lambda': 1.1406302521871943, 'min_split_gain': 0.0733413175114044}. Best is trial 11 with value: 0.46871354376919394.\n"
     ]
    },
    {
     "name": "stdout",
     "output_type": "stream",
     "text": [
      "🏃 View run Trial-11 at: http://127.0.0.1:5000/#/experiments/962208812792484732/runs/3dff65df0d06400bad656cc3c406df66\n",
      "🧪 View experiment at: http://127.0.0.1:5000/#/experiments/962208812792484732\n"
     ]
    },
    {
     "name": "stderr",
     "output_type": "stream",
     "text": [
      "[I 2025-07-28 14:37:08,630] Trial 12 finished with value: 0.49162214399612864 and parameters: {'max_depth': 6, 'num_leaves': 44, 'n_estimators': 2854, 'learning_rate': 0.057925057996204746, 'min_child_samples': 6, 'subsample': 0.7114369173562873, 'colsample_bytree': 0.9960184854215255, 'reg_alpha': 0.0029811925092801212, 'reg_lambda': 1.7865477538071795, 'min_split_gain': 0.07637203413795038}. Best is trial 11 with value: 0.46871354376919394.\n"
     ]
    },
    {
     "name": "stdout",
     "output_type": "stream",
     "text": [
      "🏃 View run Trial-12 at: http://127.0.0.1:5000/#/experiments/962208812792484732/runs/fd67b0fac7434275b7a82a33597f9317\n",
      "🧪 View experiment at: http://127.0.0.1:5000/#/experiments/962208812792484732\n"
     ]
    },
    {
     "name": "stderr",
     "output_type": "stream",
     "text": [
      "[I 2025-07-28 14:39:14,324] Trial 13 finished with value: 0.49365069698670705 and parameters: {'max_depth': 7, 'num_leaves': 63, 'n_estimators': 2946, 'learning_rate': 0.057308952194720736, 'min_child_samples': 6, 'subsample': 0.8037084548610568, 'colsample_bytree': 0.993483630254652, 'reg_alpha': 0.0014691115149008018, 'reg_lambda': 0.2988933499945716, 'min_split_gain': 0.07181413812685644}. Best is trial 11 with value: 0.46871354376919394.\n"
     ]
    },
    {
     "name": "stdout",
     "output_type": "stream",
     "text": [
      "🏃 View run Trial-13 at: http://127.0.0.1:5000/#/experiments/962208812792484732/runs/4fb0e66aad1948528fe26c0b8ad2d10a\n",
      "🧪 View experiment at: http://127.0.0.1:5000/#/experiments/962208812792484732\n"
     ]
    },
    {
     "name": "stderr",
     "output_type": "stream",
     "text": [
      "[I 2025-07-28 14:41:35,033] Trial 14 finished with value: 0.49857795904634716 and parameters: {'max_depth': 4, 'num_leaves': 8, 'n_estimators': 2368, 'learning_rate': 0.060103551361669574, 'min_child_samples': 6, 'subsample': 0.6924745509172272, 'colsample_bytree': 0.8999487987995394, 'reg_alpha': 0.0009131688622501143, 'reg_lambda': 0.21363226319498144, 'min_split_gain': 0.08924639199676937}. Best is trial 11 with value: 0.46871354376919394.\n"
     ]
    },
    {
     "name": "stdout",
     "output_type": "stream",
     "text": [
      "🏃 View run Trial-14 at: http://127.0.0.1:5000/#/experiments/962208812792484732/runs/cd523ea9613f4f31a88f603c86c30753\n",
      "🧪 View experiment at: http://127.0.0.1:5000/#/experiments/962208812792484732\n"
     ]
    },
    {
     "name": "stderr",
     "output_type": "stream",
     "text": [
      "[I 2025-07-28 14:53:06,896] Trial 15 finished with value: 0.5056072534953675 and parameters: {'max_depth': 6, 'num_leaves': 43, 'n_estimators': 3355, 'learning_rate': 0.01017560877001317, 'min_child_samples': 24, 'subsample': 0.510456783241702, 'colsample_bytree': 0.9351755911350292, 'reg_alpha': 0.07866148978053203, 'reg_lambda': 1.5253334135072207, 'min_split_gain': 0.06048951186846229}. Best is trial 11 with value: 0.46871354376919394.\n"
     ]
    },
    {
     "name": "stdout",
     "output_type": "stream",
     "text": [
      "🏃 View run Trial-15 at: http://127.0.0.1:5000/#/experiments/962208812792484732/runs/10acec71909a471da9f7d14377c1016a\n",
      "🧪 View experiment at: http://127.0.0.1:5000/#/experiments/962208812792484732\n"
     ]
    },
    {
     "name": "stderr",
     "output_type": "stream",
     "text": [
      "[I 2025-07-28 14:54:27,228] Trial 16 finished with value: 0.5128459093684039 and parameters: {'max_depth': 8, 'num_leaves': 176, 'n_estimators': 1661, 'learning_rate': 0.033856510165070776, 'min_child_samples': 10, 'subsample': 0.9659084100735005, 'colsample_bytree': 0.8033335157062427, 'reg_alpha': 0.004026224498316709, 'reg_lambda': 0.0010749697588100585, 'min_split_gain': 0.0832738872556575}. Best is trial 11 with value: 0.46871354376919394.\n"
     ]
    },
    {
     "name": "stdout",
     "output_type": "stream",
     "text": [
      "🏃 View run Trial-16 at: http://127.0.0.1:5000/#/experiments/962208812792484732/runs/c12389a281784d8586c5134bf4579abe\n",
      "🧪 View experiment at: http://127.0.0.1:5000/#/experiments/962208812792484732\n"
     ]
    },
    {
     "name": "stderr",
     "output_type": "stream",
     "text": [
      "[I 2025-07-28 14:57:47,567] Trial 17 finished with value: 0.516653074144636 and parameters: {'max_depth': 6, 'num_leaves': 40, 'n_estimators': 3258, 'learning_rate': 0.01647545485879233, 'min_child_samples': 22, 'subsample': 0.6461286194383516, 'colsample_bytree': 0.946799673803901, 'reg_alpha': 0.00047791788070284936, 'reg_lambda': 0.332275040603596, 'min_split_gain': 0.05894307527751663}. Best is trial 11 with value: 0.46871354376919394.\n"
     ]
    },
    {
     "name": "stdout",
     "output_type": "stream",
     "text": [
      "🏃 View run Trial-17 at: http://127.0.0.1:5000/#/experiments/962208812792484732/runs/7cef97039645446bb431f4fa666304b2\n",
      "🧪 View experiment at: http://127.0.0.1:5000/#/experiments/962208812792484732\n"
     ]
    },
    {
     "name": "stderr",
     "output_type": "stream",
     "text": [
      "[I 2025-07-28 14:59:01,167] Trial 18 finished with value: 0.521742471768113 and parameters: {'max_depth': 8, 'num_leaves': 168, 'n_estimators': 2431, 'learning_rate': 0.10018993089201074, 'min_child_samples': 30, 'subsample': 0.7738948772932828, 'colsample_bytree': 0.8017287766156608, 'reg_alpha': 0.06181431471482183, 'reg_lambda': 0.6671083045328, 'min_split_gain': 0.06359949482126176}. Best is trial 11 with value: 0.46871354376919394.\n"
     ]
    },
    {
     "name": "stdout",
     "output_type": "stream",
     "text": [
      "🏃 View run Trial-18 at: http://127.0.0.1:5000/#/experiments/962208812792484732/runs/203bdfa7e4f6486ca82978c270d155b2\n",
      "🧪 View experiment at: http://127.0.0.1:5000/#/experiments/962208812792484732\n"
     ]
    },
    {
     "name": "stderr",
     "output_type": "stream",
     "text": [
      "[I 2025-07-28 14:59:56,866] Trial 19 finished with value: 0.5154377014354106 and parameters: {'max_depth': 5, 'num_leaves': 22, 'n_estimators': 1218, 'learning_rate': 0.09890283467444486, 'min_child_samples': 11, 'subsample': 0.8425054101541488, 'colsample_bytree': 0.8490483200027008, 'reg_alpha': 0.00011219722215609709, 'reg_lambda': 0.12095678811633517, 'min_split_gain': 0.09603453156200563}. Best is trial 11 with value: 0.46871354376919394.\n"
     ]
    },
    {
     "name": "stdout",
     "output_type": "stream",
     "text": [
      "🏃 View run Trial-19 at: http://127.0.0.1:5000/#/experiments/962208812792484732/runs/b6b44e394ecc44188d240d5dafdaaa65\n",
      "🧪 View experiment at: http://127.0.0.1:5000/#/experiments/962208812792484732\n"
     ]
    },
    {
     "name": "stderr",
     "output_type": "stream",
     "text": [
      "[I 2025-07-28 15:08:56,034] Trial 20 finished with value: 0.5373939873307745 and parameters: {'max_depth': 6, 'num_leaves': 39, 'n_estimators': 2384, 'learning_rate': 0.018936202972394563, 'min_child_samples': 48, 'subsample': 0.752357138047601, 'colsample_bytree': 0.9349101204891608, 'reg_alpha': 0.002140816636327399, 'reg_lambda': 0.8223340325705367, 'min_split_gain': 0.08425399800928265}. Best is trial 11 with value: 0.46871354376919394.\n"
     ]
    },
    {
     "name": "stdout",
     "output_type": "stream",
     "text": [
      "🏃 View run Trial-20 at: http://127.0.0.1:5000/#/experiments/962208812792484732/runs/a215f2e87e4e4fe6b417e6430bdde525\n",
      "🧪 View experiment at: http://127.0.0.1:5000/#/experiments/962208812792484732\n"
     ]
    },
    {
     "name": "stderr",
     "output_type": "stream",
     "text": [
      "[I 2025-07-28 15:12:00,240] Trial 21 finished with value: 0.49267062633880193 and parameters: {'max_depth': 6, 'num_leaves': 45, 'n_estimators': 2908, 'learning_rate': 0.05370773969129543, 'min_child_samples': 6, 'subsample': 0.7105728711349295, 'colsample_bytree': 0.9858648383500557, 'reg_alpha': 0.004151488970461557, 'reg_lambda': 1.686229011917129, 'min_split_gain': 0.0762380965313215}. Best is trial 11 with value: 0.46871354376919394.\n"
     ]
    },
    {
     "name": "stdout",
     "output_type": "stream",
     "text": [
      "🏃 View run Trial-21 at: http://127.0.0.1:5000/#/experiments/962208812792484732/runs/cea3e500a5c242f985b76deaa2fa2a2e\n",
      "🧪 View experiment at: http://127.0.0.1:5000/#/experiments/962208812792484732\n"
     ]
    },
    {
     "name": "stderr",
     "output_type": "stream",
     "text": [
      "[I 2025-07-28 15:15:16,564] Trial 22 finished with value: 0.5053855500552616 and parameters: {'max_depth': 7, 'num_leaves': 61, 'n_estimators': 3362, 'learning_rate': 0.03905116303051647, 'min_child_samples': 5, 'subsample': 0.7068642713840017, 'colsample_bytree': 0.9955207988485744, 'reg_alpha': 1.9884167649063045, 'reg_lambda': 1.4532347046447263, 'min_split_gain': 0.07737315615226893}. Best is trial 11 with value: 0.46871354376919394.\n"
     ]
    },
    {
     "name": "stdout",
     "output_type": "stream",
     "text": [
      "🏃 View run Trial-22 at: http://127.0.0.1:5000/#/experiments/962208812792484732/runs/add45be6ced84aeb98c678140e3830bc\n",
      "🧪 View experiment at: http://127.0.0.1:5000/#/experiments/962208812792484732\n"
     ]
    },
    {
     "name": "stderr",
     "output_type": "stream",
     "text": [
      "[I 2025-07-28 15:16:39,309] Trial 23 finished with value: 0.509774692897259 and parameters: {'max_depth': 5, 'num_leaves': 32, 'n_estimators': 2728, 'learning_rate': 0.07588214791381849, 'min_child_samples': 11, 'subsample': 0.6222389549341986, 'colsample_bytree': 0.9440092562034204, 'reg_alpha': 0.001769084378422199, 'reg_lambda': 0.09684635209531849, 'min_split_gain': 0.053972032755886246}. Best is trial 11 with value: 0.46871354376919394.\n"
     ]
    },
    {
     "name": "stdout",
     "output_type": "stream",
     "text": [
      "🏃 View run Trial-23 at: http://127.0.0.1:5000/#/experiments/962208812792484732/runs/91bcb2cca0474f828fabd70eb4bd7979\n",
      "🧪 View experiment at: http://127.0.0.1:5000/#/experiments/962208812792484732\n"
     ]
    },
    {
     "name": "stderr",
     "output_type": "stream",
     "text": [
      "[I 2025-07-28 15:17:23,751] Trial 24 finished with value: 0.5084126899765078 and parameters: {'max_depth': 4, 'num_leaves': 8, 'n_estimators': 2082, 'learning_rate': 0.2587463213982136, 'min_child_samples': 9, 'subsample': 0.806728824660996, 'colsample_bytree': 0.9637299351846887, 'reg_alpha': 0.007072267816953302, 'reg_lambda': 0.48231442246510225, 'min_split_gain': 0.06784141115769811}. Best is trial 11 with value: 0.46871354376919394.\n"
     ]
    },
    {
     "name": "stdout",
     "output_type": "stream",
     "text": [
      "🏃 View run Trial-24 at: http://127.0.0.1:5000/#/experiments/962208812792484732/runs/a8fc4ccecfce4a96b71aac9ac12ac22f\n",
      "🧪 View experiment at: http://127.0.0.1:5000/#/experiments/962208812792484732\n"
     ]
    },
    {
     "name": "stderr",
     "output_type": "stream",
     "text": [
      "[I 2025-07-28 15:20:30,424] Trial 25 finished with value: 0.515318204368163 and parameters: {'max_depth': 8, 'num_leaves': 86, 'n_estimators': 2704, 'learning_rate': 0.01468472451442381, 'min_child_samples': 15, 'subsample': 0.7244278109981885, 'colsample_bytree': 0.9056412078095433, 'reg_alpha': 0.0033580267476582162, 'reg_lambda': 1.829734914431479, 'min_split_gain': 0.08982061172136437}. Best is trial 11 with value: 0.46871354376919394.\n"
     ]
    },
    {
     "name": "stdout",
     "output_type": "stream",
     "text": [
      "🏃 View run Trial-25 at: http://127.0.0.1:5000/#/experiments/962208812792484732/runs/ec0b18232c604b75b23613408a7d2156\n",
      "🧪 View experiment at: http://127.0.0.1:5000/#/experiments/962208812792484732\n"
     ]
    },
    {
     "name": "stderr",
     "output_type": "stream",
     "text": [
      "[I 2025-07-28 15:22:25,590] Trial 26 finished with value: 0.5264903729080185 and parameters: {'max_depth': 6, 'num_leaves': 48, 'n_estimators': 3705, 'learning_rate': 0.04265183782462962, 'min_child_samples': 19, 'subsample': 0.6742920596694331, 'colsample_bytree': 0.8309465729538978, 'reg_alpha': 0.00040818675649192016, 'reg_lambda': 0.1646487393602507, 'min_split_gain': 0.07871225587874597}. Best is trial 11 with value: 0.46871354376919394.\n"
     ]
    },
    {
     "name": "stdout",
     "output_type": "stream",
     "text": [
      "🏃 View run Trial-26 at: http://127.0.0.1:5000/#/experiments/962208812792484732/runs/ba57d5a561f14e61a251a8d2b8f1e6c4\n",
      "🧪 View experiment at: http://127.0.0.1:5000/#/experiments/962208812792484732\n"
     ]
    },
    {
     "name": "stderr",
     "output_type": "stream",
     "text": [
      "[I 2025-07-28 15:23:35,541] Trial 27 finished with value: 0.5023505673938924 and parameters: {'max_depth': 7, 'num_leaves': 53, 'n_estimators': 3093, 'learning_rate': 0.13513057772531917, 'min_child_samples': 9, 'subsample': 0.7913604326880045, 'colsample_bytree': 0.7032199442171575, 'reg_alpha': 0.008987131398454811, 'reg_lambda': 0.8517158334149649, 'min_split_gain': 0.03896933219139106}. Best is trial 11 with value: 0.46871354376919394.\n"
     ]
    },
    {
     "name": "stdout",
     "output_type": "stream",
     "text": [
      "🏃 View run Trial-27 at: http://127.0.0.1:5000/#/experiments/962208812792484732/runs/490c830cac0b434391e569ee52e8737f\n",
      "🧪 View experiment at: http://127.0.0.1:5000/#/experiments/962208812792484732\n"
     ]
    },
    {
     "name": "stderr",
     "output_type": "stream",
     "text": [
      "[I 2025-07-28 15:24:48,492] Trial 28 finished with value: 0.47172861779957903 and parameters: {'max_depth': 5, 'num_leaves': 21, 'n_estimators': 3545, 'learning_rate': 0.07867857942152638, 'min_child_samples': 5, 'subsample': 0.7399728211369858, 'colsample_bytree': 0.9191155232275932, 'reg_alpha': 0.0009801725037184106, 'reg_lambda': 0.0013266599344432797, 'min_split_gain': 0.053284437295720105}. Best is trial 11 with value: 0.46871354376919394.\n"
     ]
    },
    {
     "name": "stdout",
     "output_type": "stream",
     "text": [
      "🏃 View run Trial-28 at: http://127.0.0.1:5000/#/experiments/962208812792484732/runs/696d643f59da469092de304d155c32ca\n",
      "🧪 View experiment at: http://127.0.0.1:5000/#/experiments/962208812792484732\n"
     ]
    },
    {
     "name": "stderr",
     "output_type": "stream",
     "text": [
      "[I 2025-07-28 15:27:15,049] Trial 29 finished with value: 0.5146535799520484 and parameters: {'max_depth': 5, 'num_leaves': 18, 'n_estimators': 3613, 'learning_rate': 0.024922674877608415, 'min_child_samples': 14, 'subsample': 0.5428302927353553, 'colsample_bytree': 0.9223673020452586, 'reg_alpha': 0.0011433504349891083, 'reg_lambda': 0.0009029348953624744, 'min_split_gain': 0.05364047743521939}. Best is trial 11 with value: 0.46871354376919394.\n"
     ]
    },
    {
     "name": "stdout",
     "output_type": "stream",
     "text": [
      "🏃 View run Trial-29 at: http://127.0.0.1:5000/#/experiments/962208812792484732/runs/a43c17b7ad6949eb994477e4dbf2ecde\n",
      "🧪 View experiment at: http://127.0.0.1:5000/#/experiments/962208812792484732\n"
     ]
    },
    {
     "name": "stderr",
     "output_type": "stream",
     "text": [
      "[I 2025-07-28 15:29:13,520] Trial 30 finished with value: 0.5312528386161801 and parameters: {'max_depth': 4, 'num_leaves': 11, 'n_estimators': 4128, 'learning_rate': 0.2911364478518856, 'min_child_samples': 20, 'subsample': 0.9152776379062714, 'colsample_bytree': 0.8681184599316228, 'reg_alpha': 0.033165856721374516, 'reg_lambda': 0.009075184790812334, 'min_split_gain': 0.06834257282127885}. Best is trial 11 with value: 0.46871354376919394.\n"
     ]
    },
    {
     "name": "stdout",
     "output_type": "stream",
     "text": [
      "🏃 View run Trial-30 at: http://127.0.0.1:5000/#/experiments/962208812792484732/runs/e6f0f85aaaaa4129b4eb79f8bc84e20b\n",
      "🧪 View experiment at: http://127.0.0.1:5000/#/experiments/962208812792484732\n"
     ]
    },
    {
     "name": "stderr",
     "output_type": "stream",
     "text": [
      "[I 2025-07-28 15:31:14,273] Trial 31 finished with value: 0.5020139915541855 and parameters: {'max_depth': 6, 'num_leaves': 38, 'n_estimators': 3559, 'learning_rate': 0.08501639914398385, 'min_child_samples': 8, 'subsample': 0.7442850509668517, 'colsample_bytree': 0.9668081741553062, 'reg_alpha': 0.002595493708358151, 'reg_lambda': 0.001614233557307672, 'min_split_gain': 0.07220858485698063}. Best is trial 11 with value: 0.46871354376919394.\n"
     ]
    },
    {
     "name": "stdout",
     "output_type": "stream",
     "text": [
      "🏃 View run Trial-31 at: http://127.0.0.1:5000/#/experiments/962208812792484732/runs/141a3fbdc7b1440c98580d47f0f10d17\n",
      "🧪 View experiment at: http://127.0.0.1:5000/#/experiments/962208812792484732\n"
     ]
    },
    {
     "name": "stderr",
     "output_type": "stream",
     "text": [
      "[I 2025-07-28 15:33:02,770] Trial 32 finished with value: 0.47148821741269725 and parameters: {'max_depth': 7, 'num_leaves': 68, 'n_estimators': 4653, 'learning_rate': 0.04716274673946273, 'min_child_samples': 5, 'subsample': 0.618993358152237, 'colsample_bytree': 0.9661172675343827, 'reg_alpha': 0.0007695033827887013, 'reg_lambda': 0.0003968175030993295, 'min_split_gain': 0.060433719837134685}. Best is trial 11 with value: 0.46871354376919394.\n"
     ]
    },
    {
     "name": "stdout",
     "output_type": "stream",
     "text": [
      "🏃 View run Trial-32 at: http://127.0.0.1:5000/#/experiments/962208812792484732/runs/a0026f4cc3d94dbb87a46685daa526ae\n",
      "🧪 View experiment at: http://127.0.0.1:5000/#/experiments/962208812792484732\n"
     ]
    },
    {
     "name": "stderr",
     "output_type": "stream",
     "text": [
      "[I 2025-07-28 15:36:35,529] Trial 33 finished with value: 0.5148929512484328 and parameters: {'max_depth': 7, 'num_leaves': 67, 'n_estimators': 4873, 'learning_rate': 0.029966186116969332, 'min_child_samples': 13, 'subsample': 0.6120303262629481, 'colsample_bytree': 0.9641616900760803, 'reg_alpha': 0.0006079605674034956, 'reg_lambda': 0.00035092312649084064, 'min_split_gain': 0.05737767822076602}. Best is trial 11 with value: 0.46871354376919394.\n"
     ]
    },
    {
     "name": "stdout",
     "output_type": "stream",
     "text": [
      "🏃 View run Trial-33 at: http://127.0.0.1:5000/#/experiments/962208812792484732/runs/1313a88504894c8c9f075acae82115ff\n",
      "🧪 View experiment at: http://127.0.0.1:5000/#/experiments/962208812792484732\n"
     ]
    },
    {
     "name": "stderr",
     "output_type": "stream",
     "text": [
      "[I 2025-07-28 15:39:05,575] Trial 34 finished with value: 0.5026307649829166 and parameters: {'max_depth': 8, 'num_leaves': 82, 'n_estimators': 4475, 'learning_rate': 0.1403634926742854, 'min_child_samples': 8, 'subsample': 0.5698435273428073, 'colsample_bytree': 0.9091782546152267, 'reg_alpha': 0.0002340394630334321, 'reg_lambda': 0.00038435355591199643, 'min_split_gain': 0.042481053508617764}. Best is trial 11 with value: 0.46871354376919394.\n"
     ]
    },
    {
     "name": "stdout",
     "output_type": "stream",
     "text": [
      "🏃 View run Trial-34 at: http://127.0.0.1:5000/#/experiments/962208812792484732/runs/803caaecd4db44929f02f67a03aba184\n",
      "🧪 View experiment at: http://127.0.0.1:5000/#/experiments/962208812792484732\n"
     ]
    },
    {
     "name": "stderr",
     "output_type": "stream",
     "text": [
      "[I 2025-07-28 15:41:36,262] Trial 35 finished with value: 0.5189284337034212 and parameters: {'max_depth': 5, 'num_leaves': 21, 'n_estimators': 3890, 'learning_rate': 0.04586672112975937, 'min_child_samples': 12, 'subsample': 0.8333337163096792, 'colsample_bytree': 0.9533019022223166, 'reg_alpha': 0.0011195753889514737, 'reg_lambda': 0.034389580731365284, 'min_split_gain': 0.06518074134368941}. Best is trial 11 with value: 0.46871354376919394.\n"
     ]
    },
    {
     "name": "stdout",
     "output_type": "stream",
     "text": [
      "🏃 View run Trial-35 at: http://127.0.0.1:5000/#/experiments/962208812792484732/runs/20f687c79fd64ecd8b8673ba41b24e09\n",
      "🧪 View experiment at: http://127.0.0.1:5000/#/experiments/962208812792484732\n"
     ]
    },
    {
     "name": "stderr",
     "output_type": "stream",
     "text": [
      "[I 2025-07-28 15:43:49,037] Trial 36 finished with value: 0.46988153106471275 and parameters: {'max_depth': 9, 'num_leaves': 124, 'n_estimators': 4537, 'learning_rate': 0.07236037049257664, 'min_child_samples': 5, 'subsample': 0.8711640681706166, 'colsample_bytree': 0.7448784175434054, 'reg_alpha': 0.00033768218408293364, 'reg_lambda': 0.0036006377726825333, 'min_split_gain': 0.0500006767809659}. Best is trial 11 with value: 0.46871354376919394.\n"
     ]
    },
    {
     "name": "stdout",
     "output_type": "stream",
     "text": [
      "🏃 View run Trial-36 at: http://127.0.0.1:5000/#/experiments/962208812792484732/runs/076dbcecbda84641af6dbd625ed02e72\n",
      "🧪 View experiment at: http://127.0.0.1:5000/#/experiments/962208812792484732\n"
     ]
    }
   ],
   "source": [
    "study = optuna.create_study(\n",
    "    direction='minimize',\n",
    "    sampler=optuna.samplers.TPESampler(seed=42),\n",
    "    pruner=optuna.pruners.MedianPruner(\n",
    "        n_startup_trials=20,\n",
    "        n_warmup_steps=10,\n",
    "        interval_steps=5\n",
    "    )\n",
    ")\n",
    "\n",
    "mlflow.set_tracking_uri('http://127.0.0.1:5000')\n",
    "mlflow.set_experiment('DSWA - Competicao3')\n",
    "with mlflow.start_run(run_name='LightGBM optimization'):\n",
    "    study.optimize(objective, n_trials=50)\n",
    "    \n",
    "    print(\"Melhores hiperparâmetros:\")\n",
    "    print(study.best_params)\n",
    "    print(f\"Melhor RMSE: {study.best_value:.4f}\")\n",
    "\n",
    "    # Loga os melhores parâmetros e métrica no MLflow\n",
    "    mlflow.log_params(study.best_params)\n",
    "    mlflow.log_metric(\"best_rmse\", study.best_value)\n"
   ]
  }
 ],
 "metadata": {
  "kernelspec": {
   "display_name": "Python 3",
   "language": "python",
   "name": "python3"
  },
  "language_info": {
   "codemirror_mode": {
    "name": "ipython",
    "version": 3
   },
   "file_extension": ".py",
   "mimetype": "text/x-python",
   "name": "python",
   "nbconvert_exporter": "python",
   "pygments_lexer": "ipython3",
   "version": "3.11.5"
  }
 },
 "nbformat": 4,
 "nbformat_minor": 5
}
