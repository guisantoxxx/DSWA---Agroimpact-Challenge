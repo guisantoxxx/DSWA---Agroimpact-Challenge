{
 "cells": [
  {
   "cell_type": "code",
   "execution_count": 1,
   "id": "30e67c73",
   "metadata": {},
   "outputs": [],
   "source": [
    "from xgboost import XGBRegressor\n",
    "from sklearn.model_selection import train_test_split\n",
    "from sklearn.metrics import mean_squared_error\n",
    "import pandas as pd\n",
    "from sklearn.model_selection import cross_val_score, KFold\n",
    "from sklearn.metrics import make_scorer, mean_squared_error\n",
    "import numpy as np\n",
    "import mlflow"
   ]
  },
  {
   "cell_type": "code",
   "execution_count": 2,
   "id": "a8b905db",
   "metadata": {},
   "outputs": [],
   "source": [
    "train = pd.read_csv('../data/train.csv')"
   ]
  },
  {
   "cell_type": "code",
   "execution_count": 3,
   "id": "d6633906",
   "metadata": {},
   "outputs": [],
   "source": [
    "X = train.drop(columns=[\n",
    "    'ID', 'target1', 'target2', 'target3', 'target4', 'target5',\n",
    "    'target6', 'target7', 'target8', 'target9', 'target10', 'target11'\n",
    "])\n",
    "\n",
    "y = train.drop(columns=[\n",
    "    'ID', 'feature2', 'feature3', 'feature4', 'feature5', 'feature6',\n",
    "    'feature7', 'feature8', 'feature9', 'feature10', 'feature11',\n",
    "    'feature12', 'feature13', 'feature14', 'feature15'\n",
    "])\n"
   ]
  },
  {
   "cell_type": "code",
   "execution_count": 4,
   "id": "13fa9eb1",
   "metadata": {},
   "outputs": [],
   "source": [
    "#X_train, X_test, y_train, y_test = train_test_split(X, y, test_size=0.2)"
   ]
  },
  {
   "cell_type": "markdown",
   "id": "61d7ff3b",
   "metadata": {},
   "source": [
    "Hyper-param optmization"
   ]
  },
  {
   "cell_type": "code",
   "execution_count": 5,
   "id": "8e58d24f",
   "metadata": {},
   "outputs": [
    {
     "name": "stderr",
     "output_type": "stream",
     "text": [
      "c:\\Users\\Guilherme\\AppData\\Local\\Programs\\Python\\Python311\\Lib\\site-packages\\tqdm\\auto.py:21: TqdmWarning: IProgress not found. Please update jupyter and ipywidgets. See https://ipywidgets.readthedocs.io/en/stable/user_install.html\n",
      "  from .autonotebook import tqdm as notebook_tqdm\n"
     ]
    }
   ],
   "source": [
    "import optuna\n",
    "from sklearn.linear_model import LinearRegression\n",
    "from sklearn.model_selection import cross_val_score, KFold\n",
    "import mlflow\n",
    "import numpy as np\n",
    "import warnings\n",
    "from sklearn.linear_model import Ridge\n",
    "\n",
    "\n",
    "\n",
    "\n",
    "warnings.filterwarnings('ignore')\n",
    "\n",
    "def objective(trial):\n",
    "    with mlflow.start_run(run_name=f'Trial - {trial.number}', nested=True):\n",
    "        # único \"hiperparâmetro\" do LinearRegression\n",
    "                # dentro do objective:\n",
    "        params = {\n",
    "            'alpha': trial.suggest_float('alpha', 1e-6, 10.0, log=True),\n",
    "            'fit_intercept': True,\n",
    "            'random_state': 42\n",
    "        }\n",
    "        mlflow.log_params(params)\n",
    "        model = Ridge(**params)\n",
    "        # e o restante é igual\n",
    "\n",
    "        kf = KFold(n_splits=10, shuffle=True, random_state=42)\n",
    "        # scikit-learn >=1.0 tem scoring 'neg_root_mean_squared_error'\n",
    "        scores = cross_val_score(\n",
    "            model, X, y,\n",
    "            scoring='neg_root_mean_squared_error',\n",
    "            cv=kf\n",
    "        )\n",
    "        rmse = -scores.mean()\n",
    "        mlflow.log_metric(\"rmse\", rmse)\n",
    "\n",
    "        return rmse\n",
    "\n",
    "# Exemplo de uso:\n",
    "# study = optuna.create_study(direction='minimize')\n",
    "# study.optimize(objective, n_trials=10)\n"
   ]
  },
  {
   "cell_type": "code",
   "execution_count": 6,
   "id": "d9c5c052",
   "metadata": {},
   "outputs": [
    {
     "name": "stderr",
     "output_type": "stream",
     "text": [
      "[I 2025-07-27 17:21:42,777] A new study created in memory with name: no-name-3125e739-eeeb-4740-bb13-e330b9fdd494\n",
      "[I 2025-07-27 17:21:43,163] Trial 0 finished with value: 0.5916354365724268 and parameters: {'alpha': 0.0004185822729546974}. Best is trial 0 with value: 0.5916354365724268.\n",
      "[I 2025-07-27 17:21:43,317] Trial 1 finished with value: 0.5943263595950357 and parameters: {'alpha': 4.518560951024111}. Best is trial 0 with value: 0.5916354365724268.\n"
     ]
    },
    {
     "name": "stdout",
     "output_type": "stream",
     "text": [
      "🏃 View run Trial - 0 at: http://127.0.0.1:5000/#/experiments/962208812792484732/runs/ef6696ba9d43456f8c89ae48fb319642\n",
      "🧪 View experiment at: http://127.0.0.1:5000/#/experiments/962208812792484732\n",
      "🏃 View run Trial - 1 at: http://127.0.0.1:5000/#/experiments/962208812792484732/runs/e8247708fed544e6b63ec403fec35d8b\n",
      "🧪 View experiment at: http://127.0.0.1:5000/#/experiments/962208812792484732\n"
     ]
    },
    {
     "name": "stderr",
     "output_type": "stream",
     "text": [
      "[I 2025-07-27 17:21:43,472] Trial 2 finished with value: 0.5952192107716853 and parameters: {'alpha': 0.1330324510152292}. Best is trial 0 with value: 0.5916354365724268.\n",
      "[I 2025-07-27 17:21:43,627] Trial 3 finished with value: 0.593588301703565 and parameters: {'alpha': 0.015509913987594319}. Best is trial 0 with value: 0.5916354365724268.\n"
     ]
    },
    {
     "name": "stdout",
     "output_type": "stream",
     "text": [
      "🏃 View run Trial - 2 at: http://127.0.0.1:5000/#/experiments/962208812792484732/runs/a136605fcb8d4394b30a7dc9206f4203\n",
      "🧪 View experiment at: http://127.0.0.1:5000/#/experiments/962208812792484732\n",
      "🏃 View run Trial - 3 at: http://127.0.0.1:5000/#/experiments/962208812792484732/runs/474211bf44874d909be852710e4bb07b\n",
      "🧪 View experiment at: http://127.0.0.1:5000/#/experiments/962208812792484732\n"
     ]
    },
    {
     "name": "stderr",
     "output_type": "stream",
     "text": [
      "[I 2025-07-27 17:21:43,782] Trial 4 finished with value: 0.5922842251368544 and parameters: {'alpha': 1.2363188277052228e-05}. Best is trial 0 with value: 0.5916354365724268.\n",
      "[I 2025-07-27 17:21:43,935] Trial 5 finished with value: 0.5922842355704422 and parameters: {'alpha': 1.2358382772306929e-05}. Best is trial 0 with value: 0.5916354365724268.\n"
     ]
    },
    {
     "name": "stdout",
     "output_type": "stream",
     "text": [
      "🏃 View run Trial - 4 at: http://127.0.0.1:5000/#/experiments/962208812792484732/runs/af0af566c2134fae99782c1b68b911ad\n",
      "🧪 View experiment at: http://127.0.0.1:5000/#/experiments/962208812792484732\n",
      "🏃 View run Trial - 5 at: http://127.0.0.1:5000/#/experiments/962208812792484732/runs/8facff21969a49bca7e2389ef03f923a\n",
      "🧪 View experiment at: http://127.0.0.1:5000/#/experiments/962208812792484732\n"
     ]
    },
    {
     "name": "stderr",
     "output_type": "stream",
     "text": [
      "[I 2025-07-27 17:21:44,091] Trial 6 finished with value: 0.5923056964304463 and parameters: {'alpha': 2.550264850403287e-06}. Best is trial 0 with value: 0.5916354365724268.\n",
      "[I 2025-07-27 17:21:44,239] Trial 7 finished with value: 0.5951863556881184 and parameters: {'alpha': 1.156732719914599}. Best is trial 0 with value: 0.5916354365724268.\n"
     ]
    },
    {
     "name": "stdout",
     "output_type": "stream",
     "text": [
      "🏃 View run Trial - 6 at: http://127.0.0.1:5000/#/experiments/962208812792484732/runs/2beb519933974828ae0f62986f90b69b\n",
      "🧪 View experiment at: http://127.0.0.1:5000/#/experiments/962208812792484732\n",
      "🏃 View run Trial - 7 at: http://127.0.0.1:5000/#/experiments/962208812792484732/runs/16b0644e7bb84f76b60b385e48aa1340\n",
      "🧪 View experiment at: http://127.0.0.1:5000/#/experiments/962208812792484732\n"
     ]
    },
    {
     "name": "stderr",
     "output_type": "stream",
     "text": [
      "[I 2025-07-27 17:21:44,394] Trial 8 finished with value: 0.5936431478852174 and parameters: {'alpha': 0.016136341713591334}. Best is trial 0 with value: 0.5916354365724268.\n",
      "[I 2025-07-27 17:21:44,546] Trial 9 finished with value: 0.5950975884466448 and parameters: {'alpha': 0.090470719575684}. Best is trial 0 with value: 0.5916354365724268.\n"
     ]
    },
    {
     "name": "stdout",
     "output_type": "stream",
     "text": [
      "🏃 View run Trial - 8 at: http://127.0.0.1:5000/#/experiments/962208812792484732/runs/68bc931d2ccc48879ccf10689cb0cc42\n",
      "🧪 View experiment at: http://127.0.0.1:5000/#/experiments/962208812792484732\n",
      "🏃 View run Trial - 9 at: http://127.0.0.1:5000/#/experiments/962208812792484732/runs/279ce3b41f464a939ca5bbf4cf62d3dd\n",
      "🧪 View experiment at: http://127.0.0.1:5000/#/experiments/962208812792484732\n"
     ]
    },
    {
     "name": "stderr",
     "output_type": "stream",
     "text": [
      "[I 2025-07-27 17:21:44,704] Trial 10 finished with value: 0.5916359189023332 and parameters: {'alpha': 0.00041815414919126883}. Best is trial 0 with value: 0.5916354365724268.\n",
      "[I 2025-07-27 17:21:44,856] Trial 11 finished with value: 0.5916133789376803 and parameters: {'alpha': 0.00043849781873246197}. Best is trial 11 with value: 0.5916133789376803.\n"
     ]
    },
    {
     "name": "stdout",
     "output_type": "stream",
     "text": [
      "🏃 View run Trial - 10 at: http://127.0.0.1:5000/#/experiments/962208812792484732/runs/2769eefac0bf4a8d9fc3439a24585868\n",
      "🧪 View experiment at: http://127.0.0.1:5000/#/experiments/962208812792484732\n",
      "🏃 View run Trial - 11 at: http://127.0.0.1:5000/#/experiments/962208812792484732/runs/138ba1f417ab44e8b015353765053449\n",
      "🧪 View experiment at: http://127.0.0.1:5000/#/experiments/962208812792484732\n"
     ]
    },
    {
     "name": "stderr",
     "output_type": "stream",
     "text": [
      "[I 2025-07-27 17:21:45,014] Trial 12 finished with value: 0.5917852795330533 and parameters: {'alpha': 0.00029837668744492416}. Best is trial 11 with value: 0.5916133789376803.\n"
     ]
    },
    {
     "name": "stdout",
     "output_type": "stream",
     "text": [
      "🏃 View run Trial - 12 at: http://127.0.0.1:5000/#/experiments/962208812792484732/runs/da825164a0314436b6d832855af999d3\n",
      "🧪 View experiment at: http://127.0.0.1:5000/#/experiments/962208812792484732\n",
      "🏃 View run Trial - 13 at: http://127.0.0.1:5000/#/experiments/962208812792484732/runs/b18d98258f014d65a3a40729947fe9bb\n",
      "🧪 View experiment at: http://127.0.0.1:5000/#/experiments/962208812792484732\n"
     ]
    },
    {
     "name": "stderr",
     "output_type": "stream",
     "text": [
      "[I 2025-07-27 17:21:45,189] Trial 13 finished with value: 0.5914295704173608 and parameters: {'alpha': 0.0006379392055618105}. Best is trial 13 with value: 0.5914295704173608.\n",
      "[I 2025-07-27 17:21:45,379] Trial 14 finished with value: 0.5911680336184795 and parameters: {'alpha': 0.0021008469056904146}. Best is trial 14 with value: 0.5911680336184795.\n",
      "[I 2025-07-27 17:21:45,536] Trial 15 finished with value: 0.5914869597624103 and parameters: {'alpha': 0.0035007694079467787}. Best is trial 14 with value: 0.5911680336184795.\n"
     ]
    },
    {
     "name": "stdout",
     "output_type": "stream",
     "text": [
      "🏃 View run Trial - 14 at: http://127.0.0.1:5000/#/experiments/962208812792484732/runs/15716b56b1134494858ff944e62244c1\n",
      "🧪 View experiment at: http://127.0.0.1:5000/#/experiments/962208812792484732\n",
      "🏃 View run Trial - 15 at: http://127.0.0.1:5000/#/experiments/962208812792484732/runs/16515c095e454b4d805c53f2380d246e\n",
      "🧪 View experiment at: http://127.0.0.1:5000/#/experiments/962208812792484732\n"
     ]
    },
    {
     "name": "stderr",
     "output_type": "stream",
     "text": [
      "[I 2025-07-27 17:21:45,689] Trial 16 finished with value: 0.5921817954400707 and parameters: {'alpha': 6.139092984144986e-05}. Best is trial 14 with value: 0.5911680336184795.\n",
      "[I 2025-07-27 17:21:45,846] Trial 17 finished with value: 0.5911341057935446 and parameters: {'alpha': 0.001485172890556584}. Best is trial 17 with value: 0.5911341057935446.\n"
     ]
    },
    {
     "name": "stdout",
     "output_type": "stream",
     "text": [
      "🏃 View run Trial - 16 at: http://127.0.0.1:5000/#/experiments/962208812792484732/runs/d0186c1b6b6a4220b45559500781267b\n",
      "🧪 View experiment at: http://127.0.0.1:5000/#/experiments/962208812792484732\n",
      "🏃 View run Trial - 17 at: http://127.0.0.1:5000/#/experiments/962208812792484732/runs/d0f2a118528847cba06ed810bf2a7346\n",
      "🧪 View experiment at: http://127.0.0.1:5000/#/experiments/962208812792484732\n"
     ]
    },
    {
     "name": "stderr",
     "output_type": "stream",
     "text": [
      "[I 2025-07-27 17:21:46,009] Trial 18 finished with value: 0.5923370342085518 and parameters: {'alpha': 0.00680624671504588}. Best is trial 17 with value: 0.5911341057935446.\n",
      "[I 2025-07-27 17:21:46,164] Trial 19 finished with value: 0.595184266827254 and parameters: {'alpha': 0.11696768895597359}. Best is trial 17 with value: 0.5911341057935446.\n"
     ]
    },
    {
     "name": "stdout",
     "output_type": "stream",
     "text": [
      "🏃 View run Trial - 18 at: http://127.0.0.1:5000/#/experiments/962208812792484732/runs/11085ffc91664e62a55586a615af1e0a\n",
      "🧪 View experiment at: http://127.0.0.1:5000/#/experiments/962208812792484732\n",
      "🏃 View run Trial - 19 at: http://127.0.0.1:5000/#/experiments/962208812792484732/runs/707bafd39b1a437293adf35e5cba5a1c\n",
      "🧪 View experiment at: http://127.0.0.1:5000/#/experiments/962208812792484732\n"
     ]
    },
    {
     "name": "stderr",
     "output_type": "stream",
     "text": [
      "[I 2025-07-27 17:21:46,318] Trial 20 finished with value: 0.5922338649111594 and parameters: {'alpha': 3.5993596812917634e-05}. Best is trial 17 with value: 0.5911341057935446.\n",
      "[I 2025-07-27 17:21:46,480] Trial 21 finished with value: 0.5912125806871428 and parameters: {'alpha': 0.0010486449424777214}. Best is trial 17 with value: 0.5911341057935446.\n"
     ]
    },
    {
     "name": "stdout",
     "output_type": "stream",
     "text": [
      "🏃 View run Trial - 20 at: http://127.0.0.1:5000/#/experiments/962208812792484732/runs/b28b522cccbc4ab486fd4ee4ea7db18c\n",
      "🧪 View experiment at: http://127.0.0.1:5000/#/experiments/962208812792484732\n",
      "🏃 View run Trial - 21 at: http://127.0.0.1:5000/#/experiments/962208812792484732/runs/a560b220cffa43179d136d021fe5e131\n",
      "🧪 View experiment at: http://127.0.0.1:5000/#/experiments/962208812792484732\n"
     ]
    },
    {
     "name": "stderr",
     "output_type": "stream",
     "text": [
      "[I 2025-07-27 17:21:46,642] Trial 22 finished with value: 0.5911434557978233 and parameters: {'alpha': 0.0018910348607869066}. Best is trial 17 with value: 0.5911341057935446.\n",
      "[I 2025-07-27 17:21:46,803] Trial 23 finished with value: 0.5912607851677436 and parameters: {'alpha': 0.0026026140701582642}. Best is trial 17 with value: 0.5911341057935446.\n"
     ]
    },
    {
     "name": "stdout",
     "output_type": "stream",
     "text": [
      "🏃 View run Trial - 22 at: http://127.0.0.1:5000/#/experiments/962208812792484732/runs/45a01cd2c15d44a6b4c6fd6dda9dfa61\n",
      "🧪 View experiment at: http://127.0.0.1:5000/#/experiments/962208812792484732\n",
      "🏃 View run Trial - 23 at: http://127.0.0.1:5000/#/experiments/962208812792484732/runs/687dd082058a4f65a87996d9f119b437\n",
      "🧪 View experiment at: http://127.0.0.1:5000/#/experiments/962208812792484732\n"
     ]
    },
    {
     "name": "stderr",
     "output_type": "stream",
     "text": [
      "[I 2025-07-27 17:21:46,957] Trial 24 finished with value: 0.5944216923736693 and parameters: {'alpha': 0.031493472150649605}. Best is trial 17 with value: 0.5911341057935446.\n",
      "[I 2025-07-27 17:21:47,110] Trial 25 finished with value: 0.5921634414797745 and parameters: {'alpha': 7.059221753661729e-05}. Best is trial 17 with value: 0.5911341057935446.\n"
     ]
    },
    {
     "name": "stdout",
     "output_type": "stream",
     "text": [
      "🏃 View run Trial - 24 at: http://127.0.0.1:5000/#/experiments/962208812792484732/runs/8d4abda28e604fbb80020ef2c40b53c3\n",
      "🧪 View experiment at: http://127.0.0.1:5000/#/experiments/962208812792484732\n",
      "🏃 View run Trial - 25 at: http://127.0.0.1:5000/#/experiments/962208812792484732/runs/eadbbebed52a4e729f4d99971bef8522\n",
      "🧪 View experiment at: http://127.0.0.1:5000/#/experiments/962208812792484732\n"
     ]
    },
    {
     "name": "stderr",
     "output_type": "stream",
     "text": [
      "[I 2025-07-27 17:21:47,268] Trial 26 finished with value: 0.5911911851331395 and parameters: {'alpha': 0.0022489425297828928}. Best is trial 17 with value: 0.5911341057935446.\n",
      "[I 2025-07-27 17:21:47,424] Trial 27 finished with value: 0.5920133888523444 and parameters: {'alpha': 0.0001513283076274594}. Best is trial 17 with value: 0.5911341057935446.\n"
     ]
    },
    {
     "name": "stdout",
     "output_type": "stream",
     "text": [
      "🏃 View run Trial - 26 at: http://127.0.0.1:5000/#/experiments/962208812792484732/runs/9183cdbcdd9a495ba989e9262c251e67\n",
      "🧪 View experiment at: http://127.0.0.1:5000/#/experiments/962208812792484732\n",
      "🏃 View run Trial - 27 at: http://127.0.0.1:5000/#/experiments/962208812792484732/runs/a23cf5df867946b19998bb406bb8acf5\n",
      "🧪 View experiment at: http://127.0.0.1:5000/#/experiments/962208812792484732\n"
     ]
    },
    {
     "name": "stderr",
     "output_type": "stream",
     "text": [
      "[I 2025-07-27 17:21:47,588] Trial 28 finished with value: 0.5953193345771395 and parameters: {'alpha': 0.5718055340161678}. Best is trial 17 with value: 0.5911341057935446.\n",
      "[I 2025-07-27 17:21:47,740] Trial 29 finished with value: 0.5924469394191887 and parameters: {'alpha': 0.007314483768835007}. Best is trial 17 with value: 0.5911341057935446.\n"
     ]
    },
    {
     "name": "stdout",
     "output_type": "stream",
     "text": [
      "🏃 View run Trial - 28 at: http://127.0.0.1:5000/#/experiments/962208812792484732/runs/026cf1aa072c4653a0dc12fde0a410ba\n",
      "🧪 View experiment at: http://127.0.0.1:5000/#/experiments/962208812792484732\n",
      "🏃 View run Trial - 29 at: http://127.0.0.1:5000/#/experiments/962208812792484732/runs/caaddb5afa4b414da88e1d96549e9d7b\n",
      "🧪 View experiment at: http://127.0.0.1:5000/#/experiments/962208812792484732\n"
     ]
    },
    {
     "name": "stderr",
     "output_type": "stream",
     "text": [
      "[I 2025-07-27 17:21:47,898] Trial 30 finished with value: 0.5912296709336852 and parameters: {'alpha': 0.0009995333299940257}. Best is trial 17 with value: 0.5911341057935446.\n",
      "[I 2025-07-27 17:21:48,070] Trial 31 finished with value: 0.5912948754789656 and parameters: {'alpha': 0.0027527506897476652}. Best is trial 17 with value: 0.5911341057935446.\n"
     ]
    },
    {
     "name": "stdout",
     "output_type": "stream",
     "text": [
      "🏃 View run Trial - 30 at: http://127.0.0.1:5000/#/experiments/962208812792484732/runs/598a2c5a164d4986afdfed215546882d\n",
      "🧪 View experiment at: http://127.0.0.1:5000/#/experiments/962208812792484732\n",
      "🏃 View run Trial - 31 at: http://127.0.0.1:5000/#/experiments/962208812792484732/runs/b83188b52efb4a118bb6355580cc38cc\n",
      "🧪 View experiment at: http://127.0.0.1:5000/#/experiments/962208812792484732\n"
     ]
    },
    {
     "name": "stderr",
     "output_type": "stream",
     "text": [
      "[I 2025-07-27 17:21:48,234] Trial 32 finished with value: 0.591130458981255 and parameters: {'alpha': 0.001632253674509904}. Best is trial 32 with value: 0.591130458981255.\n",
      "[I 2025-07-27 17:21:48,409] Trial 33 finished with value: 0.5945775587229865 and parameters: {'alpha': 0.037537395428456376}. Best is trial 32 with value: 0.591130458981255.\n"
     ]
    },
    {
     "name": "stdout",
     "output_type": "stream",
     "text": [
      "🏃 View run Trial - 32 at: http://127.0.0.1:5000/#/experiments/962208812792484732/runs/9767457896d742cfbcf596dce7f99e91\n",
      "🧪 View experiment at: http://127.0.0.1:5000/#/experiments/962208812792484732\n",
      "🏃 View run Trial - 33 at: http://127.0.0.1:5000/#/experiments/962208812792484732/runs/0acfef1e129e4c26980c210785847e6b\n",
      "🧪 View experiment at: http://127.0.0.1:5000/#/experiments/962208812792484732\n"
     ]
    },
    {
     "name": "stderr",
     "output_type": "stream",
     "text": [
      "[I 2025-07-27 17:21:48,566] Trial 34 finished with value: 0.5929324222557331 and parameters: {'alpha': 0.009988759739301389}. Best is trial 32 with value: 0.591130458981255.\n",
      "[I 2025-07-27 17:21:48,726] Trial 35 finished with value: 0.5919659077003335 and parameters: {'alpha': 0.00017920145645337676}. Best is trial 32 with value: 0.591130458981255.\n"
     ]
    },
    {
     "name": "stdout",
     "output_type": "stream",
     "text": [
      "🏃 View run Trial - 34 at: http://127.0.0.1:5000/#/experiments/962208812792484732/runs/d4b08333850045da841e4b8d0771031c\n",
      "🧪 View experiment at: http://127.0.0.1:5000/#/experiments/962208812792484732\n",
      "🏃 View run Trial - 35 at: http://127.0.0.1:5000/#/experiments/962208812792484732/runs/b4ab466ebbc340b8957a43c11f1fa1ef\n",
      "🧪 View experiment at: http://127.0.0.1:5000/#/experiments/962208812792484732\n"
     ]
    },
    {
     "name": "stderr",
     "output_type": "stream",
     "text": [
      "[I 2025-07-27 17:21:48,889] Trial 36 finished with value: 0.591136886972821 and parameters: {'alpha': 0.0014434979948768744}. Best is trial 32 with value: 0.591130458981255.\n"
     ]
    },
    {
     "name": "stdout",
     "output_type": "stream",
     "text": [
      "🏃 View run Trial - 36 at: http://127.0.0.1:5000/#/experiments/962208812792484732/runs/03573cfce6794eb5a5c4a5d5f202a1ec\n",
      "🧪 View experiment at: http://127.0.0.1:5000/#/experiments/962208812792484732\n",
      "🏃 View run Trial - 37 at: http://127.0.0.1:5000/#/experiments/962208812792484732/runs/4700d8a29fda4c1b9de9243b301ee6ad\n",
      "🧪 View experiment at: http://127.0.0.1:5000/#/experiments/962208812792484732\n"
     ]
    },
    {
     "name": "stderr",
     "output_type": "stream",
     "text": [
      "[I 2025-07-27 17:21:49,061] Trial 37 finished with value: 0.5932799429443328 and parameters: {'alpha': 9.378118632537213}. Best is trial 32 with value: 0.591130458981255.\n",
      "[I 2025-07-27 17:21:49,224] Trial 38 finished with value: 0.592276801498703 and parameters: {'alpha': 1.579164198027731e-05}. Best is trial 32 with value: 0.591130458981255.\n",
      "[I 2025-07-27 17:21:49,373] Trial 39 finished with value: 0.5923061290049751 and parameters: {'alpha': 2.3541202434265394e-06}. Best is trial 32 with value: 0.591130458981255.\n"
     ]
    },
    {
     "name": "stdout",
     "output_type": "stream",
     "text": [
      "🏃 View run Trial - 38 at: http://127.0.0.1:5000/#/experiments/962208812792484732/runs/005366cde6524782b16a04a6db084999\n",
      "🧪 View experiment at: http://127.0.0.1:5000/#/experiments/962208812792484732\n",
      "🏃 View run Trial - 39 at: http://127.0.0.1:5000/#/experiments/962208812792484732/runs/ae0ae335c61541f88486942735401ccf\n",
      "🧪 View experiment at: http://127.0.0.1:5000/#/experiments/962208812792484732\n"
     ]
    },
    {
     "name": "stderr",
     "output_type": "stream",
     "text": [
      "[I 2025-07-27 17:21:49,499] Trial 40 finished with value: 0.591179297117411 and parameters: {'alpha': 0.0011665709903702862}. Best is trial 32 with value: 0.591130458981255.\n",
      "[I 2025-07-27 17:21:49,666] Trial 41 finished with value: 0.5911329722200949 and parameters: {'alpha': 0.0015070259540360847}. Best is trial 32 with value: 0.591130458981255.\n"
     ]
    },
    {
     "name": "stdout",
     "output_type": "stream",
     "text": [
      "🏃 View run Trial - 40 at: http://127.0.0.1:5000/#/experiments/962208812792484732/runs/37dc9c91ec5e421b999ed52abefb51ae\n",
      "🧪 View experiment at: http://127.0.0.1:5000/#/experiments/962208812792484732\n",
      "🏃 View run Trial - 41 at: http://127.0.0.1:5000/#/experiments/962208812792484732/runs/8ef0391077384c07b1d9bb9c69ffe637\n",
      "🧪 View experiment at: http://127.0.0.1:5000/#/experiments/962208812792484732\n"
     ]
    },
    {
     "name": "stderr",
     "output_type": "stream",
     "text": [
      "[I 2025-07-27 17:21:49,862] Trial 42 finished with value: 0.5940176414403184 and parameters: {'alpha': 0.02158614757566955}. Best is trial 32 with value: 0.591130458981255.\n"
     ]
    },
    {
     "name": "stdout",
     "output_type": "stream",
     "text": [
      "🏃 View run Trial - 42 at: http://127.0.0.1:5000/#/experiments/962208812792484732/runs/d5ae1eb722d5410ba9d4d29afd83cc4a\n",
      "🧪 View experiment at: http://127.0.0.1:5000/#/experiments/962208812792484732\n"
     ]
    },
    {
     "name": "stderr",
     "output_type": "stream",
     "text": [
      "[I 2025-07-27 17:21:50,037] Trial 43 finished with value: 0.5921320623244045 and parameters: {'alpha': 0.005926972423926948}. Best is trial 32 with value: 0.591130458981255.\n",
      "[I 2025-07-27 17:21:50,200] Trial 44 finished with value: 0.5919790957250417 and parameters: {'alpha': 0.00017133416353822995}. Best is trial 32 with value: 0.591130458981255.\n"
     ]
    },
    {
     "name": "stdout",
     "output_type": "stream",
     "text": [
      "🏃 View run Trial - 43 at: http://127.0.0.1:5000/#/experiments/962208812792484732/runs/e0817e8f1b584c9792255616e82f7cf8\n",
      "🧪 View experiment at: http://127.0.0.1:5000/#/experiments/962208812792484732\n",
      "🏃 View run Trial - 44 at: http://127.0.0.1:5000/#/experiments/962208812792484732/runs/7f078d3b064846b58906482a18c958c7\n",
      "🧪 View experiment at: http://127.0.0.1:5000/#/experiments/962208812792484732\n"
     ]
    },
    {
     "name": "stderr",
     "output_type": "stream",
     "text": [
      "[I 2025-07-27 17:21:50,361] Trial 45 finished with value: 0.5911828699716206 and parameters: {'alpha': 0.0011519390597967433}. Best is trial 32 with value: 0.591130458981255.\n",
      "[I 2025-07-27 17:21:50,522] Trial 46 finished with value: 0.5915205200735592 and parameters: {'alpha': 0.000530626614159817}. Best is trial 32 with value: 0.591130458981255.\n"
     ]
    },
    {
     "name": "stdout",
     "output_type": "stream",
     "text": [
      "🏃 View run Trial - 45 at: http://127.0.0.1:5000/#/experiments/962208812792484732/runs/d9409fbf60f24e5b9dc23630388af105\n",
      "🧪 View experiment at: http://127.0.0.1:5000/#/experiments/962208812792484732\n",
      "🏃 View run Trial - 46 at: http://127.0.0.1:5000/#/experiments/962208812792484732/runs/884f7f49cf19461a858833b5ef23481a\n",
      "🧪 View experiment at: http://127.0.0.1:5000/#/experiments/962208812792484732\n"
     ]
    },
    {
     "name": "stderr",
     "output_type": "stream",
     "text": [
      "[I 2025-07-27 17:21:50,690] Trial 47 finished with value: 0.591695966375936 and parameters: {'alpha': 0.004260543887658976}. Best is trial 32 with value: 0.591130458981255.\n",
      "[I 2025-07-27 17:21:50,856] Trial 48 finished with value: 0.594859788524526 and parameters: {'alpha': 0.05568690718275339}. Best is trial 32 with value: 0.591130458981255.\n"
     ]
    },
    {
     "name": "stdout",
     "output_type": "stream",
     "text": [
      "🏃 View run Trial - 47 at: http://127.0.0.1:5000/#/experiments/962208812792484732/runs/11d88a703209400989b56327cbd99d89\n",
      "🧪 View experiment at: http://127.0.0.1:5000/#/experiments/962208812792484732\n",
      "🏃 View run Trial - 48 at: http://127.0.0.1:5000/#/experiments/962208812792484732/runs/df640213ec56404a92e1b70288ba793c\n",
      "🧪 View experiment at: http://127.0.0.1:5000/#/experiments/962208812792484732\n"
     ]
    },
    {
     "name": "stderr",
     "output_type": "stream",
     "text": [
      "[I 2025-07-27 17:21:51,035] Trial 49 finished with value: 0.5928852174668885 and parameters: {'alpha': 0.009690722746900563}. Best is trial 32 with value: 0.591130458981255.\n"
     ]
    },
    {
     "name": "stdout",
     "output_type": "stream",
     "text": [
      "🏃 View run Trial - 49 at: http://127.0.0.1:5000/#/experiments/962208812792484732/runs/f5b1ca4b858c45b6afeabd5c3dbb401b\n",
      "🧪 View experiment at: http://127.0.0.1:5000/#/experiments/962208812792484732\n",
      "Melhores hiperparâmetros:\n",
      "{'alpha': 0.001632253674509904}\n",
      "Melhor RMSE: 0.5911\n",
      "🏃 View run Linear Regression optimization at: http://127.0.0.1:5000/#/experiments/962208812792484732/runs/66615588c03b473483a81964b6ba6d48\n",
      "🧪 View experiment at: http://127.0.0.1:5000/#/experiments/962208812792484732\n"
     ]
    }
   ],
   "source": [
    "study = optuna.create_study(\n",
    "    direction='minimize',\n",
    "    sampler=optuna.samplers.TPESampler(seed=42),\n",
    "    pruner=optuna.pruners.MedianPruner(\n",
    "        n_startup_trials=20,\n",
    "        n_warmup_steps=10,\n",
    "        interval_steps=5\n",
    "    )\n",
    ")\n",
    "\n",
    "mlflow.set_tracking_uri('http://127.0.0.1:5000')\n",
    "mlflow.set_experiment('DSWA - Competicao3')\n",
    "with mlflow.start_run(run_name='Linear Regression optimization'):\n",
    "    study.optimize(objective, n_trials=50)\n",
    "    \n",
    "    print(\"Melhores hiperparâmetros:\")\n",
    "    print(study.best_params)\n",
    "    print(f\"Melhor RMSE: {study.best_value:.4f}\")\n",
    "\n",
    "    # Loga os melhores parâmetros e métrica no MLflow\n",
    "    mlflow.log_params(study.best_params)\n",
    "    mlflow.log_metric(\"best_rmse\", study.best_value)\n"
   ]
  }
 ],
 "metadata": {
  "kernelspec": {
   "display_name": "Python 3",
   "language": "python",
   "name": "python3"
  },
  "language_info": {
   "codemirror_mode": {
    "name": "ipython",
    "version": 3
   },
   "file_extension": ".py",
   "mimetype": "text/x-python",
   "name": "python",
   "nbconvert_exporter": "python",
   "pygments_lexer": "ipython3",
   "version": "3.11.5"
  }
 },
 "nbformat": 4,
 "nbformat_minor": 5
}
