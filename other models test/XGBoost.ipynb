{
 "cells": [
  {
   "cell_type": "code",
   "execution_count": 7,
   "id": "30e67c73",
   "metadata": {},
   "outputs": [],
   "source": [
    "from xgboost import XGBRegressor\n",
    "from sklearn.model_selection import train_test_split\n",
    "from sklearn.metrics import mean_squared_error\n",
    "import pandas as pd\n",
    "from sklearn.model_selection import cross_val_score, KFold\n",
    "from sklearn.metrics import make_scorer, mean_squared_error\n",
    "import numpy as np\n",
    "import mlflow"
   ]
  },
  {
   "cell_type": "code",
   "execution_count": 8,
   "id": "a8b905db",
   "metadata": {},
   "outputs": [],
   "source": [
    "train = pd.read_csv('data/train.csv')"
   ]
  },
  {
   "cell_type": "code",
   "execution_count": 9,
   "id": "d6633906",
   "metadata": {},
   "outputs": [],
   "source": [
    "X = train.drop(columns=[\n",
    "    'ID', 'target1', 'target2', 'target3', 'target4', 'target5',\n",
    "    'target6', 'target7', 'target8', 'target9', 'target10', 'target11'\n",
    "])\n",
    "\n",
    "y = train.drop(columns=[\n",
    "    'ID', 'feature2', 'feature3', 'feature4', 'feature5', 'feature6',\n",
    "    'feature7', 'feature8', 'feature9', 'feature10', 'feature11',\n",
    "    'feature12', 'feature13', 'feature14', 'feature15'\n",
    "])\n"
   ]
  },
  {
   "cell_type": "code",
   "execution_count": 10,
   "id": "13fa9eb1",
   "metadata": {},
   "outputs": [],
   "source": [
    "#X_train, X_test, y_train, y_test = train_test_split(X, y, test_size=0.2)"
   ]
  },
  {
   "cell_type": "markdown",
   "id": "61d7ff3b",
   "metadata": {},
   "source": [
    "Hyper-param optmization"
   ]
  },
  {
   "cell_type": "code",
   "execution_count": 11,
   "id": "8e58d24f",
   "metadata": {},
   "outputs": [],
   "source": [
    "import optuna\n",
    "import xgboost as xgb\n",
    "from sklearn.model_selection import cross_val_score, KFold\n",
    "from sklearn.metrics import make_scorer, mean_squared_error\n",
    "import numpy as np\n",
    "\n",
    "import warnings\n",
    "warnings.filterwarnings('ignore', message='.*Falling back to prediction using DMatrix.*')\n",
    "\n",
    "def objective(trial):\n",
    "    with mlflow.start_run(run_name=f'Trial - {trial.number}', nested=True):\n",
    "        params = {\n",
    "            'n_estimators': trial.suggest_int('n_estimators', 100, 2000),\n",
    "            'learning_rate': trial.suggest_float('learning_rate', 0.01, 0.3, log=True),\n",
    "            'max_depth': trial.suggest_int('max_depth', 3, 12),\n",
    "            'min_child_weight': trial.suggest_int('min_child_weight', 1, 10),\n",
    "            'subsample': trial.suggest_float('subsample', 0.5, 1.0),\n",
    "            'reg_alpha': trial.suggest_float('reg_alpha', 1e-8, 10.0, log=True),\n",
    "            'reg_lambda': trial.suggest_float('reg_lambda', 1e-8, 10.0, log=True),\n",
    "            'gamma': trial.suggest_float('gamma', 1e-8, 1.0, log=True),\n",
    "            'random_state': 42,\n",
    "            'n_jobs': 1,\n",
    "            'tree_method': 'hist',       # para usar GPU corretamente em XGBoost >= 2.0\n",
    "            'device': 'cuda'             # ativa a GPU\n",
    "        }\n",
    "\n",
    "        mlflow.log_params(params)\n",
    "\n",
    "        model = xgb.XGBRegressor(**params)\n",
    "\n",
    "        rmse_scorer = make_scorer(mean_squared_error, greater_is_better=False, squared=False)\n",
    "\n",
    "        kf = KFold(n_splits=10, shuffle=True, random_state=42)\n",
    "        # Retorna o MSE médio negativo (Optuna minimiza)\n",
    "        print(\"Ate aqui chega!\\n\")\n",
    "        scores = cross_val_score(\n",
    "            model, X, y,\n",
    "            scoring= 'neg_root_mean_squared_error',\n",
    "            cv=kf\n",
    "        )\n",
    "        print(\"Saiu do cross!\\n\")\n",
    "\n",
    "        rmse = -scores.mean()\n",
    "\n",
    "        mlflow.log_metric(\"rmse\", rmse)\n",
    "\n",
    "        return rmse\n"
   ]
  },
  {
   "cell_type": "code",
   "execution_count": null,
   "id": "d9c5c052",
   "metadata": {},
   "outputs": [],
   "source": [
    "study = optuna.create_study(\n",
    "    direction='minimize',\n",
    "    sampler=optuna.samplers.TPESampler(seed=42),\n",
    "    pruner=optuna.pruners.MedianPruner(\n",
    "        n_startup_trials=20,\n",
    "        n_warmup_steps=10,\n",
    "        interval_steps=5\n",
    "    )\n",
    ")\n",
    "\n",
    "mlflow.set_tracking_uri('http://127.0.0.1:5000')\n",
    "mlflow.set_experiment('DSWA - Competicao3')\n",
    "with mlflow.start_run(run_name='XGBoost optimization'):\n",
    "    study.optimize(objective, n_trials=50)\n",
    "    \n",
    "    print(\"Melhores hiperparâmetros:\")\n",
    "    print(study.best_params)\n",
    "    print(f\"Melhor RMSE: {study.best_value:.4f}\")\n",
    "\n",
    "    # Loga os melhores parâmetros e métrica no MLflow\n",
    "    mlflow.log_params(study.best_params)\n",
    "    mlflow.log_metric(\"best_rmse\", study.best_value)\n"
   ]
  },
  {
   "cell_type": "code",
   "execution_count": 14,
   "id": "3b2b2e9c",
   "metadata": {},
   "outputs": [
    {
     "name": "stdout",
     "output_type": "stream",
     "text": [
      "Método 1: DataFrame completo\n",
      "----------------------------------------\n",
      "#1 - Trial  45 | RMSE: 0.430616\n",
      "     Params: gamma: 0.0017610181848471591 | learning_rate: 0.0176491247294085 | max_depth: 7...\n",
      "\n",
      "#2 - Trial  31 | RMSE: 0.431177\n",
      "     Params: gamma: 0.00280025701803661 | learning_rate: 0.010175958490020839 | max_depth: 7...\n",
      "\n",
      "#3 - Trial  10 | RMSE: 0.431233\n",
      "     Params: gamma: 0.0021620523265932262 | learning_rate: 0.010206070557576998 | max_depth: 7...\n",
      "\n",
      "#4 - Trial  13 | RMSE: 0.431320\n",
      "     Params: gamma: 0.0036889263417112447 | learning_rate: 0.01121012420535718 | max_depth: 6...\n",
      "\n",
      "#5 - Trial  21 | RMSE: 0.431352\n",
      "     Params: gamma: 0.002941833408211296 | learning_rate: 0.01073186868662129 | max_depth: 8...\n",
      "\n",
      "#6 - Trial  11 | RMSE: 0.431765\n",
      "     Params: gamma: 0.0018504237648254234 | learning_rate: 0.010233524192808546 | max_depth: 7...\n",
      "\n",
      "#7 - Trial  12 | RMSE: 0.431959\n",
      "     Params: gamma: 0.003050995871074158 | learning_rate: 0.010269786859910212 | max_depth: 7...\n",
      "\n",
      "#8 - Trial  41 | RMSE: 0.432492\n",
      "     Params: gamma: 0.0016014029618868796 | learning_rate: 0.0100294274123095 | max_depth: 7...\n",
      "\n",
      "#9 - Trial  22 | RMSE: 0.433047\n",
      "     Params: gamma: 0.00746457529712609 | learning_rate: 0.01381879931668273 | max_depth: 6...\n",
      "\n",
      "#10 - Trial  32 | RMSE: 0.435089\n",
      "     Params: gamma: 0.0046922682437423955 | learning_rate: 0.012731114553686218 | max_depth: 8...\n",
      "\n",
      "\n",
      "------------------------------------------------------------\n"
     ]
    }
   ],
   "source": [
    "# Método 1: Usando trials_dataframe() [MAIS COMPLETO]\n",
    "df_trials = study.trials_dataframe()\n",
    "df_best = df_trials.nsmallest(10, 'value')  # 10 menores valores (minimize)\n",
    "    \n",
    "print(\"Método 1: DataFrame completo\")\n",
    "print(\"-\" * 40)\n",
    "for i, (idx, row) in enumerate(df_best.iterrows(), 1):\n",
    "    print(f\"#{i} - Trial {row['number']:3d} | RMSE: {row['value']:.6f}\")\n",
    "        # Mostra apenas alguns parâmetros principais\n",
    "    params_str = \" | \".join([f\"{k.replace('params_', '')}: {v}\" \n",
    "                            for k, v in row.items() \n",
    "                            if k.startswith('params_') and pd.notnull(v)][:3])\n",
    "    print(f\"     Params: {params_str}...\")\n",
    "    print()\n",
    "    \n",
    "print(\"\\n\" + \"-\"*60)"
   ]
  }
 ],
 "metadata": {
  "kernelspec": {
   "display_name": "Python 3",
   "language": "python",
   "name": "python3"
  },
  "language_info": {
   "codemirror_mode": {
    "name": "ipython",
    "version": 3
   },
   "file_extension": ".py",
   "mimetype": "text/x-python",
   "name": "python",
   "nbconvert_exporter": "python",
   "pygments_lexer": "ipython3",
   "version": "3.11.5"
  }
 },
 "nbformat": 4,
 "nbformat_minor": 5
}
