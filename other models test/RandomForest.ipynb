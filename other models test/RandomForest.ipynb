{
 "cells": [
  {
   "cell_type": "code",
   "execution_count": 3,
   "id": "30e67c73",
   "metadata": {},
   "outputs": [],
   "source": [
    "from xgboost import XGBRegressor\n",
    "from sklearn.model_selection import train_test_split\n",
    "from sklearn.metrics import mean_squared_error\n",
    "import pandas as pd\n",
    "from sklearn.model_selection import cross_val_score, KFold\n",
    "from sklearn.metrics import make_scorer, mean_squared_error\n",
    "import numpy as np\n",
    "import mlflow"
   ]
  },
  {
   "cell_type": "code",
   "execution_count": 4,
   "id": "a8b905db",
   "metadata": {},
   "outputs": [],
   "source": [
    "train = pd.read_csv('../data/train.csv')"
   ]
  },
  {
   "cell_type": "code",
   "execution_count": 5,
   "id": "d6633906",
   "metadata": {},
   "outputs": [],
   "source": [
    "X = train.drop(columns=[\n",
    "    'ID', 'target1', 'target2', 'target3', 'target4', 'target5',\n",
    "    'target6', 'target7', 'target8', 'target9', 'target10', 'target11'\n",
    "])\n",
    "\n",
    "y = train.drop(columns=[\n",
    "    'ID', 'feature2', 'feature3', 'feature4', 'feature5', 'feature6',\n",
    "    'feature7', 'feature8', 'feature9', 'feature10', 'feature11',\n",
    "    'feature12', 'feature13', 'feature14', 'feature15'\n",
    "])\n"
   ]
  },
  {
   "cell_type": "code",
   "execution_count": 6,
   "id": "13fa9eb1",
   "metadata": {},
   "outputs": [],
   "source": [
    "#X_train, X_test, y_train, y_test = train_test_split(X, y, test_size=0.2)"
   ]
  },
  {
   "cell_type": "markdown",
   "id": "61d7ff3b",
   "metadata": {},
   "source": [
    "Hyper-param optmization"
   ]
  },
  {
   "cell_type": "code",
   "execution_count": 7,
   "id": "8e58d24f",
   "metadata": {},
   "outputs": [
    {
     "name": "stderr",
     "output_type": "stream",
     "text": [
      "c:\\Users\\Guilherme\\AppData\\Local\\Programs\\Python\\Python311\\Lib\\site-packages\\tqdm\\auto.py:21: TqdmWarning: IProgress not found. Please update jupyter and ipywidgets. See https://ipywidgets.readthedocs.io/en/stable/user_install.html\n",
      "  from .autonotebook import tqdm as notebook_tqdm\n"
     ]
    }
   ],
   "source": [
    "import optuna\n",
    "from sklearn.ensemble import RandomForestRegressor\n",
    "from sklearn.model_selection import cross_val_score, KFold\n",
    "from sklearn.metrics import make_scorer, mean_squared_error\n",
    "import numpy as np\n",
    "import mlflow\n",
    "import warnings\n",
    "\n",
    "warnings.filterwarnings('ignore', message='.*Falling back to prediction using DMatrix.*')\n",
    "\n",
    "def objective(trial):\n",
    "    with mlflow.start_run(run_name=f'Trial - {trial.number}', nested=True):\n",
    "        # Define aqui os hyperparâmetros do RandomForest\n",
    "        params = {\n",
    "            'n_estimators': trial.suggest_int('n_estimators', 100, 2000),\n",
    "            'max_depth': trial.suggest_int('max_depth', 3, 30),\n",
    "            'min_samples_split': trial.suggest_int('min_samples_split', 2, 20),\n",
    "            'min_samples_leaf': trial.suggest_int('min_samples_leaf', 1, 20),\n",
    "            'max_features': trial.suggest_categorical('max_features', ['sqrt', 'log2', 0.5, 0.75]),\n",
    "            'bootstrap': trial.suggest_categorical('bootstrap', [True, False]),\n",
    "            'random_state': 42,\n",
    "            'n_jobs': 1\n",
    "        }\n",
    "\n",
    "        mlflow.log_params(params)\n",
    "\n",
    "        # Instancia o modelo RF\n",
    "        model = RandomForestRegressor(**params)\n",
    "\n",
    "        # Usa RMSE negativo como métrica para o cross_val_score\n",
    "        scoring = 'neg_root_mean_squared_error'\n",
    "        kf = KFold(n_splits=10, shuffle=True, random_state=42)\n",
    "\n",
    "        scores = cross_val_score(\n",
    "            model, X, y,\n",
    "            scoring=scoring,\n",
    "            cv=kf\n",
    "        )\n",
    "\n",
    "        rmse = -scores.mean()  # torna positivo\n",
    "        mlflow.log_metric(\"rmse\", rmse)\n",
    "\n",
    "        return rmse\n"
   ]
  },
  {
   "cell_type": "code",
   "execution_count": 8,
   "id": "d9c5c052",
   "metadata": {},
   "outputs": [
    {
     "name": "stderr",
     "output_type": "stream",
     "text": [
      "[I 2025-07-27 17:18:27,549] A new study created in memory with name: no-name-da863fff-8642-427d-9b22-99a7f95fda73\n",
      "[I 2025-07-27 17:18:59,757] Trial 0 finished with value: 0.6204136240175848 and parameters: {'n_estimators': 812, 'max_depth': 29, 'min_samples_split': 15, 'min_samples_leaf': 12, 'max_features': 0.75, 'bootstrap': False}. Best is trial 0 with value: 0.6204136240175848.\n"
     ]
    },
    {
     "name": "stdout",
     "output_type": "stream",
     "text": [
      "🏃 View run Trial - 0 at: http://127.0.0.1:5000/#/experiments/962208812792484732/runs/cf570a9a4524420b96f5b318e749ee99\n",
      "🧪 View experiment at: http://127.0.0.1:5000/#/experiments/962208812792484732\n"
     ]
    },
    {
     "name": "stderr",
     "output_type": "stream",
     "text": [
      "[I 2025-07-27 17:19:03,111] Trial 1 finished with value: 0.5817238950076484 and parameters: {'n_estimators': 139, 'max_depth': 30, 'min_samples_split': 17, 'min_samples_leaf': 5, 'max_features': 0.75, 'bootstrap': True}. Best is trial 1 with value: 0.5817238950076484.\n"
     ]
    },
    {
     "name": "stdout",
     "output_type": "stream",
     "text": [
      "🏃 View run Trial - 1 at: http://127.0.0.1:5000/#/experiments/962208812792484732/runs/11a13852945e4ade970a50b0ac2f8e8d\n",
      "🧪 View experiment at: http://127.0.0.1:5000/#/experiments/962208812792484732\n"
     ]
    },
    {
     "name": "stderr",
     "output_type": "stream",
     "text": [
      "[I 2025-07-27 17:19:13,808] Trial 2 finished with value: 0.6263932402455473 and parameters: {'n_estimators': 1263, 'max_depth': 6, 'min_samples_split': 7, 'min_samples_leaf': 8, 'max_features': 'log2', 'bootstrap': True}. Best is trial 1 with value: 0.5817238950076484.\n"
     ]
    },
    {
     "name": "stdout",
     "output_type": "stream",
     "text": [
      "🏃 View run Trial - 2 at: http://127.0.0.1:5000/#/experiments/962208812792484732/runs/02cbc452f6584824910eff915936bb74\n",
      "🧪 View experiment at: http://127.0.0.1:5000/#/experiments/962208812792484732\n"
     ]
    },
    {
     "name": "stderr",
     "output_type": "stream",
     "text": [
      "[I 2025-07-27 17:19:23,853] Trial 3 finished with value: 0.6684844975085447 and parameters: {'n_estimators': 1254, 'max_depth': 7, 'min_samples_split': 3, 'min_samples_leaf': 19, 'max_features': 'sqrt', 'bootstrap': True}. Best is trial 1 with value: 0.5817238950076484.\n"
     ]
    },
    {
     "name": "stdout",
     "output_type": "stream",
     "text": [
      "🏃 View run Trial - 3 at: http://127.0.0.1:5000/#/experiments/962208812792484732/runs/17def9bd467149639a480a351f5e59e0\n",
      "🧪 View experiment at: http://127.0.0.1:5000/#/experiments/962208812792484732\n"
     ]
    },
    {
     "name": "stderr",
     "output_type": "stream",
     "text": [
      "[I 2025-07-27 17:19:26,695] Trial 4 finished with value: 0.6664185470223086 and parameters: {'n_estimators': 331, 'max_depth': 16, 'min_samples_split': 2, 'min_samples_leaf': 19, 'max_features': 'log2', 'bootstrap': True}. Best is trial 1 with value: 0.5817238950076484.\n"
     ]
    },
    {
     "name": "stdout",
     "output_type": "stream",
     "text": [
      "🏃 View run Trial - 4 at: http://127.0.0.1:5000/#/experiments/962208812792484732/runs/63c098d3a0474344b08dba301464a1ba\n",
      "🧪 View experiment at: http://127.0.0.1:5000/#/experiments/962208812792484732\n"
     ]
    },
    {
     "name": "stderr",
     "output_type": "stream",
     "text": [
      "[I 2025-07-27 17:19:44,782] Trial 5 finished with value: 0.6320938263168034 and parameters: {'n_estimators': 1943, 'max_depth': 24, 'min_samples_split': 19, 'min_samples_leaf': 18, 'max_features': 'log2', 'bootstrap': False}. Best is trial 1 with value: 0.5817238950076484.\n"
     ]
    },
    {
     "name": "stdout",
     "output_type": "stream",
     "text": [
      "🏃 View run Trial - 5 at: http://127.0.0.1:5000/#/experiments/962208812792484732/runs/b94170de89b84760b16da9c9525e3463\n",
      "🧪 View experiment at: http://127.0.0.1:5000/#/experiments/962208812792484732\n"
     ]
    },
    {
     "name": "stderr",
     "output_type": "stream",
     "text": [
      "[I 2025-07-27 17:20:13,786] Trial 6 finished with value: 0.6027955880652595 and parameters: {'n_estimators': 838, 'max_depth': 10, 'min_samples_split': 17, 'min_samples_leaf': 8, 'max_features': 0.75, 'bootstrap': False}. Best is trial 1 with value: 0.5817238950076484.\n"
     ]
    },
    {
     "name": "stdout",
     "output_type": "stream",
     "text": [
      "🏃 View run Trial - 6 at: http://127.0.0.1:5000/#/experiments/962208812792484732/runs/7353db9d078d447f93e28befd430def2\n",
      "🧪 View experiment at: http://127.0.0.1:5000/#/experiments/962208812792484732\n"
     ]
    },
    {
     "name": "stderr",
     "output_type": "stream",
     "text": [
      "[I 2025-07-27 17:20:46,452] Trial 7 finished with value: 0.6490279475734889 and parameters: {'n_estimators': 1568, 'max_depth': 8, 'min_samples_split': 2, 'min_samples_leaf': 17, 'max_features': 0.5, 'bootstrap': True}. Best is trial 1 with value: 0.5817238950076484.\n"
     ]
    },
    {
     "name": "stdout",
     "output_type": "stream",
     "text": [
      "🏃 View run Trial - 7 at: http://127.0.0.1:5000/#/experiments/962208812792484732/runs/e634773ecaed4edea84e710d26160334\n",
      "🧪 View experiment at: http://127.0.0.1:5000/#/experiments/962208812792484732\n"
     ]
    },
    {
     "name": "stderr",
     "output_type": "stream",
     "text": [
      "[I 2025-07-27 17:21:45,213] Trial 8 finished with value: 0.5297198126778555 and parameters: {'n_estimators': 1740, 'max_depth': 20, 'min_samples_split': 8, 'min_samples_leaf': 2, 'max_features': 0.5, 'bootstrap': True}. Best is trial 8 with value: 0.5297198126778555.\n"
     ]
    },
    {
     "name": "stdout",
     "output_type": "stream",
     "text": [
      "🏃 View run Trial - 8 at: http://127.0.0.1:5000/#/experiments/962208812792484732/runs/ff2955c92fa94307a3dd10477e02b4d0\n",
      "🧪 View experiment at: http://127.0.0.1:5000/#/experiments/962208812792484732\n"
     ]
    },
    {
     "name": "stderr",
     "output_type": "stream",
     "text": [
      "[I 2025-07-27 17:21:51,307] Trial 9 finished with value: 0.6053599934418402 and parameters: {'n_estimators': 327, 'max_depth': 22, 'min_samples_split': 16, 'min_samples_leaf': 12, 'max_features': 'sqrt', 'bootstrap': False}. Best is trial 8 with value: 0.5297198126778555.\n"
     ]
    },
    {
     "name": "stdout",
     "output_type": "stream",
     "text": [
      "🏃 View run Trial - 9 at: http://127.0.0.1:5000/#/experiments/962208812792484732/runs/b56a2da666a1480989999bb0ea8055e7\n",
      "🧪 View experiment at: http://127.0.0.1:5000/#/experiments/962208812792484732\n"
     ]
    },
    {
     "name": "stderr",
     "output_type": "stream",
     "text": [
      "[I 2025-07-27 17:22:57,079] Trial 10 finished with value: 0.5264279129834597 and parameters: {'n_estimators': 1960, 'max_depth': 15, 'min_samples_split': 10, 'min_samples_leaf': 1, 'max_features': 0.5, 'bootstrap': True}. Best is trial 10 with value: 0.5264279129834597.\n"
     ]
    },
    {
     "name": "stdout",
     "output_type": "stream",
     "text": [
      "🏃 View run Trial - 10 at: http://127.0.0.1:5000/#/experiments/962208812792484732/runs/7ed52752c50a42bea6bc04423db33e5a\n",
      "🧪 View experiment at: http://127.0.0.1:5000/#/experiments/962208812792484732\n"
     ]
    },
    {
     "name": "stderr",
     "output_type": "stream",
     "text": [
      "[I 2025-07-27 17:24:00,534] Trial 11 finished with value: 0.526434926056066 and parameters: {'n_estimators': 1977, 'max_depth': 15, 'min_samples_split': 10, 'min_samples_leaf': 1, 'max_features': 0.5, 'bootstrap': True}. Best is trial 10 with value: 0.5264279129834597.\n"
     ]
    },
    {
     "name": "stdout",
     "output_type": "stream",
     "text": [
      "🏃 View run Trial - 11 at: http://127.0.0.1:5000/#/experiments/962208812792484732/runs/a61aae9ba49448f7b9149068e46e7016\n",
      "🧪 View experiment at: http://127.0.0.1:5000/#/experiments/962208812792484732\n"
     ]
    },
    {
     "name": "stderr",
     "output_type": "stream",
     "text": [
      "[I 2025-07-27 17:24:59,801] Trial 12 finished with value: 0.5355991351055448 and parameters: {'n_estimators': 1951, 'max_depth': 13, 'min_samples_split': 12, 'min_samples_leaf': 1, 'max_features': 0.5, 'bootstrap': True}. Best is trial 10 with value: 0.5264279129834597.\n"
     ]
    },
    {
     "name": "stdout",
     "output_type": "stream",
     "text": [
      "🏃 View run Trial - 12 at: http://127.0.0.1:5000/#/experiments/962208812792484732/runs/57ebeb8d34cb45168fb0d5381550940c\n",
      "🧪 View experiment at: http://127.0.0.1:5000/#/experiments/962208812792484732\n"
     ]
    },
    {
     "name": "stderr",
     "output_type": "stream",
     "text": [
      "[I 2025-07-27 17:25:53,546] Trial 13 finished with value: 0.5624661598981159 and parameters: {'n_estimators': 1510, 'max_depth': 16, 'min_samples_split': 11, 'min_samples_leaf': 4, 'max_features': 0.5, 'bootstrap': True}. Best is trial 10 with value: 0.5264279129834597.\n"
     ]
    },
    {
     "name": "stdout",
     "output_type": "stream",
     "text": [
      "🏃 View run Trial - 13 at: http://127.0.0.1:5000/#/experiments/962208812792484732/runs/f405fb94e3ca4841a3cbdb4abce0ef2a\n",
      "🧪 View experiment at: http://127.0.0.1:5000/#/experiments/962208812792484732\n"
     ]
    },
    {
     "name": "stderr",
     "output_type": "stream",
     "text": [
      "[I 2025-07-27 17:26:25,346] Trial 14 finished with value: 0.670688761679396 and parameters: {'n_estimators': 1731, 'max_depth': 3, 'min_samples_split': 9, 'min_samples_leaf': 5, 'max_features': 0.5, 'bootstrap': True}. Best is trial 10 with value: 0.5264279129834597.\n"
     ]
    },
    {
     "name": "stdout",
     "output_type": "stream",
     "text": [
      "🏃 View run Trial - 14 at: http://127.0.0.1:5000/#/experiments/962208812792484732/runs/60e7cbd1020a43a49b23ce812f094450\n",
      "🧪 View experiment at: http://127.0.0.1:5000/#/experiments/962208812792484732\n"
     ]
    },
    {
     "name": "stderr",
     "output_type": "stream",
     "text": [
      "[I 2025-07-27 17:27:34,783] Trial 15 finished with value: 0.4993530796272487 and parameters: {'n_estimators': 1999, 'max_depth': 12, 'min_samples_split': 6, 'min_samples_leaf': 1, 'max_features': 0.5, 'bootstrap': True}. Best is trial 15 with value: 0.4993530796272487.\n"
     ]
    },
    {
     "name": "stdout",
     "output_type": "stream",
     "text": [
      "🏃 View run Trial - 15 at: http://127.0.0.1:5000/#/experiments/962208812792484732/runs/75c6e650f38c43f8925e4c246ff5a7f7\n",
      "🧪 View experiment at: http://127.0.0.1:5000/#/experiments/962208812792484732\n"
     ]
    },
    {
     "name": "stderr",
     "output_type": "stream",
     "text": [
      "[I 2025-07-27 17:28:19,568] Trial 16 finished with value: 0.594798289219033 and parameters: {'n_estimators': 1367, 'max_depth': 11, 'min_samples_split': 5, 'min_samples_leaf': 8, 'max_features': 0.5, 'bootstrap': True}. Best is trial 15 with value: 0.4993530796272487.\n"
     ]
    },
    {
     "name": "stdout",
     "output_type": "stream",
     "text": [
      "🏃 View run Trial - 16 at: http://127.0.0.1:5000/#/experiments/962208812792484732/runs/5163236a149049e9bbf9ceeebfcc749f\n",
      "🧪 View experiment at: http://127.0.0.1:5000/#/experiments/962208812792484732\n"
     ]
    },
    {
     "name": "stderr",
     "output_type": "stream",
     "text": [
      "[I 2025-07-27 17:28:57,295] Trial 17 finished with value: 0.559006003303482 and parameters: {'n_estimators': 974, 'max_depth': 20, 'min_samples_split': 13, 'min_samples_leaf': 3, 'max_features': 0.5, 'bootstrap': True}. Best is trial 15 with value: 0.4993530796272487.\n"
     ]
    },
    {
     "name": "stdout",
     "output_type": "stream",
     "text": [
      "🏃 View run Trial - 17 at: http://127.0.0.1:5000/#/experiments/962208812792484732/runs/d6263e31b093487d8fd96d65953a3897\n",
      "🧪 View experiment at: http://127.0.0.1:5000/#/experiments/962208812792484732\n"
     ]
    },
    {
     "name": "stderr",
     "output_type": "stream",
     "text": [
      "[I 2025-07-27 17:29:28,559] Trial 18 finished with value: 0.614234378080007 and parameters: {'n_estimators': 1715, 'max_depth': 12, 'min_samples_split': 6, 'min_samples_leaf': 14, 'max_features': 'sqrt', 'bootstrap': False}. Best is trial 15 with value: 0.4993530796272487.\n"
     ]
    },
    {
     "name": "stdout",
     "output_type": "stream",
     "text": [
      "🏃 View run Trial - 18 at: http://127.0.0.1:5000/#/experiments/962208812792484732/runs/d447690da31445d4aad89ad86ce19206\n",
      "🧪 View experiment at: http://127.0.0.1:5000/#/experiments/962208812792484732\n"
     ]
    },
    {
     "name": "stderr",
     "output_type": "stream",
     "text": [
      "[I 2025-07-27 17:30:12,519] Trial 19 finished with value: 0.5778061257427819 and parameters: {'n_estimators': 1531, 'max_depth': 19, 'min_samples_split': 5, 'min_samples_leaf': 6, 'max_features': 0.5, 'bootstrap': True}. Best is trial 15 with value: 0.4993530796272487.\n"
     ]
    },
    {
     "name": "stdout",
     "output_type": "stream",
     "text": [
      "🏃 View run Trial - 19 at: http://127.0.0.1:5000/#/experiments/962208812792484732/runs/2a8f73eddc084950843ffbf4fdb69537\n",
      "🧪 View experiment at: http://127.0.0.1:5000/#/experiments/962208812792484732\n"
     ]
    },
    {
     "name": "stderr",
     "output_type": "stream",
     "text": [
      "[I 2025-07-27 17:30:28,949] Trial 20 finished with value: 0.6712460574813497 and parameters: {'n_estimators': 1098, 'max_depth': 3, 'min_samples_split': 14, 'min_samples_leaf': 7, 'max_features': 0.5, 'bootstrap': True}. Best is trial 15 with value: 0.4993530796272487.\n"
     ]
    },
    {
     "name": "stdout",
     "output_type": "stream",
     "text": [
      "🏃 View run Trial - 20 at: http://127.0.0.1:5000/#/experiments/962208812792484732/runs/0812426887044838981d28e2f321ccfd\n",
      "🧪 View experiment at: http://127.0.0.1:5000/#/experiments/962208812792484732\n"
     ]
    },
    {
     "name": "stderr",
     "output_type": "stream",
     "text": [
      "[I 2025-07-27 17:31:27,735] Trial 21 finished with value: 0.5270823956028894 and parameters: {'n_estimators': 1934, 'max_depth': 14, 'min_samples_split': 10, 'min_samples_leaf': 1, 'max_features': 0.5, 'bootstrap': True}. Best is trial 15 with value: 0.4993530796272487.\n"
     ]
    },
    {
     "name": "stdout",
     "output_type": "stream",
     "text": [
      "🏃 View run Trial - 21 at: http://127.0.0.1:5000/#/experiments/962208812792484732/runs/acd0e20da29a4275ac91916941f40d9b\n",
      "🧪 View experiment at: http://127.0.0.1:5000/#/experiments/962208812792484732\n"
     ]
    },
    {
     "name": "stderr",
     "output_type": "stream",
     "text": [
      "[I 2025-07-27 17:32:28,167] Trial 22 finished with value: 0.5468300621354398 and parameters: {'n_estimators': 1999, 'max_depth': 15, 'min_samples_split': 9, 'min_samples_leaf': 3, 'max_features': 0.5, 'bootstrap': True}. Best is trial 15 with value: 0.4993530796272487.\n"
     ]
    },
    {
     "name": "stdout",
     "output_type": "stream",
     "text": [
      "🏃 View run Trial - 22 at: http://127.0.0.1:5000/#/experiments/962208812792484732/runs/4dc86e8160bb4f94b59f38fdb82eabcf\n",
      "🧪 View experiment at: http://127.0.0.1:5000/#/experiments/962208812792484732\n"
     ]
    },
    {
     "name": "stderr",
     "output_type": "stream",
     "text": [
      "[I 2025-07-27 17:33:24,126] Trial 23 finished with value: 0.5301290978160762 and parameters: {'n_estimators': 1788, 'max_depth': 17, 'min_samples_split': 11, 'min_samples_leaf': 1, 'max_features': 0.5, 'bootstrap': True}. Best is trial 15 with value: 0.4993530796272487.\n"
     ]
    },
    {
     "name": "stdout",
     "output_type": "stream",
     "text": [
      "🏃 View run Trial - 23 at: http://127.0.0.1:5000/#/experiments/962208812792484732/runs/ec35858b1f0f4b5a849e807e5eb1589a\n",
      "🧪 View experiment at: http://127.0.0.1:5000/#/experiments/962208812792484732\n"
     ]
    },
    {
     "name": "stderr",
     "output_type": "stream",
     "text": [
      "[I 2025-07-27 17:34:07,599] Trial 24 finished with value: 0.5473624710117154 and parameters: {'n_estimators': 1834, 'max_depth': 9, 'min_samples_split': 7, 'min_samples_leaf': 3, 'max_features': 0.5, 'bootstrap': True}. Best is trial 15 with value: 0.4993530796272487.\n"
     ]
    },
    {
     "name": "stdout",
     "output_type": "stream",
     "text": [
      "🏃 View run Trial - 24 at: http://127.0.0.1:5000/#/experiments/962208812792484732/runs/9ad2607630e542a2843d97eb24d96d9d\n",
      "🧪 View experiment at: http://127.0.0.1:5000/#/experiments/962208812792484732\n"
     ]
    },
    {
     "name": "stderr",
     "output_type": "stream",
     "text": [
      "[I 2025-07-27 17:34:52,078] Trial 25 finished with value: 0.5515983577366581 and parameters: {'n_estimators': 1614, 'max_depth': 18, 'min_samples_split': 4, 'min_samples_leaf': 4, 'max_features': 0.5, 'bootstrap': True}. Best is trial 15 with value: 0.4993530796272487.\n"
     ]
    },
    {
     "name": "stdout",
     "output_type": "stream",
     "text": [
      "🏃 View run Trial - 25 at: http://127.0.0.1:5000/#/experiments/962208812792484732/runs/77a706493e124c4191520a5c1e5d2009\n",
      "🧪 View experiment at: http://127.0.0.1:5000/#/experiments/962208812792484732\n"
     ]
    },
    {
     "name": "stderr",
     "output_type": "stream",
     "text": [
      "[I 2025-07-27 17:35:19,490] Trial 26 finished with value: 0.4942517716825224 and parameters: {'n_estimators': 1422, 'max_depth': 24, 'min_samples_split': 9, 'min_samples_leaf': 1, 'max_features': 'log2', 'bootstrap': False}. Best is trial 26 with value: 0.4942517716825224.\n"
     ]
    },
    {
     "name": "stdout",
     "output_type": "stream",
     "text": [
      "🏃 View run Trial - 26 at: http://127.0.0.1:5000/#/experiments/962208812792484732/runs/48676b611cbb4262a2f5ea3991df25da\n",
      "🧪 View experiment at: http://127.0.0.1:5000/#/experiments/962208812792484732\n"
     ]
    },
    {
     "name": "stderr",
     "output_type": "stream",
     "text": [
      "[I 2025-07-27 17:35:41,023] Trial 27 finished with value: 0.5938871410653215 and parameters: {'n_estimators': 1471, 'max_depth': 27, 'min_samples_split': 8, 'min_samples_leaf': 10, 'max_features': 'log2', 'bootstrap': False}. Best is trial 26 with value: 0.4942517716825224.\n"
     ]
    },
    {
     "name": "stdout",
     "output_type": "stream",
     "text": [
      "🏃 View run Trial - 27 at: http://127.0.0.1:5000/#/experiments/962208812792484732/runs/fb3e2a3a81404063a1aed0a3a1d2ce4f\n",
      "🧪 View experiment at: http://127.0.0.1:5000/#/experiments/962208812792484732\n"
     ]
    },
    {
     "name": "stderr",
     "output_type": "stream",
     "text": [
      "[I 2025-07-27 17:36:06,248] Trial 28 finished with value: 0.5200001277919596 and parameters: {'n_estimators': 1352, 'max_depth': 27, 'min_samples_split': 6, 'min_samples_leaf': 3, 'max_features': 'log2', 'bootstrap': False}. Best is trial 26 with value: 0.4942517716825224.\n"
     ]
    },
    {
     "name": "stdout",
     "output_type": "stream",
     "text": [
      "🏃 View run Trial - 28 at: http://127.0.0.1:5000/#/experiments/962208812792484732/runs/eda6bc701e224276a0788587f6b5c4e5\n",
      "🧪 View experiment at: http://127.0.0.1:5000/#/experiments/962208812792484732\n"
     ]
    },
    {
     "name": "stderr",
     "output_type": "stream",
     "text": [
      "[I 2025-07-27 17:36:15,774] Trial 29 finished with value: 0.6187987095994353 and parameters: {'n_estimators': 701, 'max_depth': 24, 'min_samples_split': 6, 'min_samples_leaf': 15, 'max_features': 'log2', 'bootstrap': False}. Best is trial 26 with value: 0.4942517716825224.\n"
     ]
    },
    {
     "name": "stdout",
     "output_type": "stream",
     "text": [
      "🏃 View run Trial - 29 at: http://127.0.0.1:5000/#/experiments/962208812792484732/runs/ec916d1c750f496bb51152ec58c3784c\n",
      "🧪 View experiment at: http://127.0.0.1:5000/#/experiments/962208812792484732\n"
     ]
    },
    {
     "name": "stderr",
     "output_type": "stream",
     "text": [
      "[I 2025-07-27 17:36:35,170] Trial 30 finished with value: 0.5547444377008595 and parameters: {'n_estimators': 1138, 'max_depth': 27, 'min_samples_split': 4, 'min_samples_leaf': 5, 'max_features': 'log2', 'bootstrap': False}. Best is trial 26 with value: 0.4942517716825224.\n"
     ]
    },
    {
     "name": "stdout",
     "output_type": "stream",
     "text": [
      "🏃 View run Trial - 30 at: http://127.0.0.1:5000/#/experiments/962208812792484732/runs/d93d4c29997c47da9220252942019b35\n",
      "🧪 View experiment at: http://127.0.0.1:5000/#/experiments/962208812792484732\n"
     ]
    },
    {
     "name": "stderr",
     "output_type": "stream",
     "text": [
      "[I 2025-07-27 17:37:00,227] Trial 31 finished with value: 0.4992215098688747 and parameters: {'n_estimators': 1269, 'max_depth': 28, 'min_samples_split': 7, 'min_samples_leaf': 2, 'max_features': 'log2', 'bootstrap': False}. Best is trial 26 with value: 0.4942517716825224.\n"
     ]
    },
    {
     "name": "stdout",
     "output_type": "stream",
     "text": [
      "🏃 View run Trial - 31 at: http://127.0.0.1:5000/#/experiments/962208812792484732/runs/e3cebf42822c43fa849716fc3b187244\n",
      "🧪 View experiment at: http://127.0.0.1:5000/#/experiments/962208812792484732\n"
     ]
    },
    {
     "name": "stderr",
     "output_type": "stream",
     "text": [
      "[I 2025-07-27 17:37:25,493] Trial 32 finished with value: 0.5235232386787345 and parameters: {'n_estimators': 1367, 'max_depth': 28, 'min_samples_split': 7, 'min_samples_leaf': 3, 'max_features': 'log2', 'bootstrap': False}. Best is trial 26 with value: 0.4942517716825224.\n"
     ]
    },
    {
     "name": "stdout",
     "output_type": "stream",
     "text": [
      "🏃 View run Trial - 32 at: http://127.0.0.1:5000/#/experiments/962208812792484732/runs/0ac5d16e9a494a02a60fea4ef3ec8a7c\n",
      "🧪 View experiment at: http://127.0.0.1:5000/#/experiments/962208812792484732\n"
     ]
    },
    {
     "name": "stderr",
     "output_type": "stream",
     "text": [
      "[I 2025-07-27 17:37:44,694] Trial 33 finished with value: 0.4898250656584141 and parameters: {'n_estimators': 975, 'max_depth': 25, 'min_samples_split': 6, 'min_samples_leaf': 2, 'max_features': 'log2', 'bootstrap': False}. Best is trial 33 with value: 0.4898250656584141.\n"
     ]
    },
    {
     "name": "stdout",
     "output_type": "stream",
     "text": [
      "🏃 View run Trial - 33 at: http://127.0.0.1:5000/#/experiments/962208812792484732/runs/073e7f7c008a4a19bb47a122d746bf1b\n",
      "🧪 View experiment at: http://127.0.0.1:5000/#/experiments/962208812792484732\n"
     ]
    },
    {
     "name": "stderr",
     "output_type": "stream",
     "text": [
      "[I 2025-07-27 17:38:27,390] Trial 34 finished with value: 0.5027956079085248 and parameters: {'n_estimators': 934, 'max_depth': 30, 'min_samples_split': 4, 'min_samples_leaf': 2, 'max_features': 0.75, 'bootstrap': False}. Best is trial 33 with value: 0.4898250656584141.\n"
     ]
    },
    {
     "name": "stdout",
     "output_type": "stream",
     "text": [
      "🏃 View run Trial - 34 at: http://127.0.0.1:5000/#/experiments/962208812792484732/runs/ce358fd5cdc9421090d9b69290f28e2b\n",
      "🧪 View experiment at: http://127.0.0.1:5000/#/experiments/962208812792484732\n"
     ]
    },
    {
     "name": "stderr",
     "output_type": "stream",
     "text": [
      "[I 2025-07-27 17:38:38,290] Trial 35 finished with value: 0.5668236516500756 and parameters: {'n_estimators': 654, 'max_depth': 25, 'min_samples_split': 8, 'min_samples_leaf': 6, 'max_features': 'log2', 'bootstrap': False}. Best is trial 33 with value: 0.4898250656584141.\n"
     ]
    },
    {
     "name": "stdout",
     "output_type": "stream",
     "text": [
      "🏃 View run Trial - 35 at: http://127.0.0.1:5000/#/experiments/962208812792484732/runs/d194273a68004162b65dc19d0aa025bb\n",
      "🧪 View experiment at: http://127.0.0.1:5000/#/experiments/962208812792484732\n"
     ]
    },
    {
     "name": "stderr",
     "output_type": "stream",
     "text": [
      "[I 2025-07-27 17:39:00,993] Trial 36 finished with value: 0.4992827322462282 and parameters: {'n_estimators': 1168, 'max_depth': 22, 'min_samples_split': 7, 'min_samples_leaf': 2, 'max_features': 'log2', 'bootstrap': False}. Best is trial 33 with value: 0.4898250656584141.\n"
     ]
    },
    {
     "name": "stdout",
     "output_type": "stream",
     "text": [
      "🏃 View run Trial - 36 at: http://127.0.0.1:5000/#/experiments/962208812792484732/runs/b3e4fc6c3b114ac2b75650cb6d0d8371\n",
      "🧪 View experiment at: http://127.0.0.1:5000/#/experiments/962208812792484732\n"
     ]
    },
    {
     "name": "stderr",
     "output_type": "stream",
     "text": [
      "[I 2025-07-27 17:39:21,575] Trial 37 finished with value: 0.5411685602111322 and parameters: {'n_estimators': 1195, 'max_depth': 22, 'min_samples_split': 9, 'min_samples_leaf': 4, 'max_features': 'log2', 'bootstrap': False}. Best is trial 33 with value: 0.4898250656584141.\n"
     ]
    },
    {
     "name": "stdout",
     "output_type": "stream",
     "text": [
      "🏃 View run Trial - 37 at: http://127.0.0.1:5000/#/experiments/962208812792484732/runs/461ca33c57744589bf63892977721b7f\n",
      "🧪 View experiment at: http://127.0.0.1:5000/#/experiments/962208812792484732\n"
     ]
    },
    {
     "name": "stderr",
     "output_type": "stream",
     "text": [
      "[I 2025-07-27 17:39:36,543] Trial 38 finished with value: 0.5871625049397196 and parameters: {'n_estimators': 1006, 'max_depth': 25, 'min_samples_split': 3, 'min_samples_leaf': 9, 'max_features': 'log2', 'bootstrap': False}. Best is trial 33 with value: 0.4898250656584141.\n"
     ]
    },
    {
     "name": "stdout",
     "output_type": "stream",
     "text": [
      "🏃 View run Trial - 38 at: http://127.0.0.1:5000/#/experiments/962208812792484732/runs/9825003dd13b4b0ead3753628065e445\n",
      "🧪 View experiment at: http://127.0.0.1:5000/#/experiments/962208812792484732\n"
     ]
    },
    {
     "name": "stderr",
     "output_type": "stream",
     "text": [
      "[I 2025-07-27 17:39:50,038] Trial 39 finished with value: 0.5669587897926818 and parameters: {'n_estimators': 840, 'max_depth': 22, 'min_samples_split': 7, 'min_samples_leaf': 6, 'max_features': 'log2', 'bootstrap': False}. Best is trial 33 with value: 0.4898250656584141.\n"
     ]
    },
    {
     "name": "stdout",
     "output_type": "stream",
     "text": [
      "🏃 View run Trial - 39 at: http://127.0.0.1:5000/#/experiments/962208812792484732/runs/d5aef8a796b04befa7cd2ea4c1d4b6ad\n",
      "🧪 View experiment at: http://127.0.0.1:5000/#/experiments/962208812792484732\n"
     ]
    },
    {
     "name": "stderr",
     "output_type": "stream",
     "text": [
      "[I 2025-07-27 17:40:16,799] Trial 40 finished with value: 0.4840972558961177 and parameters: {'n_estimators': 1260, 'max_depth': 29, 'min_samples_split': 5, 'min_samples_leaf': 2, 'max_features': 'log2', 'bootstrap': False}. Best is trial 40 with value: 0.4840972558961177.\n"
     ]
    },
    {
     "name": "stdout",
     "output_type": "stream",
     "text": [
      "🏃 View run Trial - 40 at: http://127.0.0.1:5000/#/experiments/962208812792484732/runs/0704b0e919474312a17ceb624d9072f8\n",
      "🧪 View experiment at: http://127.0.0.1:5000/#/experiments/962208812792484732\n"
     ]
    },
    {
     "name": "stderr",
     "output_type": "stream",
     "text": [
      "[I 2025-07-27 17:40:45,322] Trial 41 finished with value: 0.4840324586143165 and parameters: {'n_estimators': 1247, 'max_depth': 30, 'min_samples_split': 5, 'min_samples_leaf': 2, 'max_features': 'log2', 'bootstrap': False}. Best is trial 41 with value: 0.4840324586143165.\n"
     ]
    },
    {
     "name": "stdout",
     "output_type": "stream",
     "text": [
      "🏃 View run Trial - 41 at: http://127.0.0.1:5000/#/experiments/962208812792484732/runs/3a975ef8899e46ee95102bee1dbb7966\n",
      "🧪 View experiment at: http://127.0.0.1:5000/#/experiments/962208812792484732\n"
     ]
    },
    {
     "name": "stderr",
     "output_type": "stream",
     "text": [
      "[I 2025-07-27 17:41:14,192] Trial 42 finished with value: 0.4817568655961482 and parameters: {'n_estimators': 1294, 'max_depth': 30, 'min_samples_split': 3, 'min_samples_leaf': 2, 'max_features': 'log2', 'bootstrap': False}. Best is trial 42 with value: 0.4817568655961482.\n"
     ]
    },
    {
     "name": "stdout",
     "output_type": "stream",
     "text": [
      "🏃 View run Trial - 42 at: http://127.0.0.1:5000/#/experiments/962208812792484732/runs/60ff1af4797f448ca44beb62fc987160\n",
      "🧪 View experiment at: http://127.0.0.1:5000/#/experiments/962208812792484732\n"
     ]
    },
    {
     "name": "stderr",
     "output_type": "stream",
     "text": [
      "[I 2025-07-27 17:41:36,207] Trial 43 finished with value: 0.5546575696817149 and parameters: {'n_estimators': 1238, 'max_depth': 30, 'min_samples_split': 2, 'min_samples_leaf': 5, 'max_features': 'log2', 'bootstrap': False}. Best is trial 42 with value: 0.4817568655961482.\n"
     ]
    },
    {
     "name": "stdout",
     "output_type": "stream",
     "text": [
      "🏃 View run Trial - 43 at: http://127.0.0.1:5000/#/experiments/962208812792484732/runs/8c45875b40bf4b22afff20e8667f8ade\n",
      "🧪 View experiment at: http://127.0.0.1:5000/#/experiments/962208812792484732\n"
     ]
    },
    {
     "name": "stderr",
     "output_type": "stream",
     "text": [
      "[I 2025-07-27 17:42:33,842] Trial 44 finished with value: 0.5666598171685266 and parameters: {'n_estimators': 1429, 'max_depth': 29, 'min_samples_split': 3, 'min_samples_leaf': 4, 'max_features': 0.75, 'bootstrap': False}. Best is trial 42 with value: 0.4817568655961482.\n"
     ]
    },
    {
     "name": "stdout",
     "output_type": "stream",
     "text": [
      "🏃 View run Trial - 44 at: http://127.0.0.1:5000/#/experiments/962208812792484732/runs/bd258c466cf84bafa109632ff2f3bdd1\n",
      "🧪 View experiment at: http://127.0.0.1:5000/#/experiments/962208812792484732\n"
     ]
    },
    {
     "name": "stderr",
     "output_type": "stream",
     "text": [
      "[I 2025-07-27 17:42:56,451] Trial 45 finished with value: 0.4838374289438985 and parameters: {'n_estimators': 1073, 'max_depth': 26, 'min_samples_split': 5, 'min_samples_leaf': 2, 'max_features': 'log2', 'bootstrap': False}. Best is trial 42 with value: 0.4817568655961482.\n"
     ]
    },
    {
     "name": "stdout",
     "output_type": "stream",
     "text": [
      "🏃 View run Trial - 45 at: http://127.0.0.1:5000/#/experiments/962208812792484732/runs/af180005aa474d4ba88ce2c0835e13b4\n",
      "🧪 View experiment at: http://127.0.0.1:5000/#/experiments/962208812792484732\n"
     ]
    },
    {
     "name": "stderr",
     "output_type": "stream",
     "text": [
      "[I 2025-07-27 17:43:12,016] Trial 46 finished with value: 0.6053379488460175 and parameters: {'n_estimators': 1055, 'max_depth': 26, 'min_samples_split': 5, 'min_samples_leaf': 12, 'max_features': 'sqrt', 'bootstrap': False}. Best is trial 42 with value: 0.4817568655961482.\n"
     ]
    },
    {
     "name": "stdout",
     "output_type": "stream",
     "text": [
      "🏃 View run Trial - 46 at: http://127.0.0.1:5000/#/experiments/962208812792484732/runs/c26954ac7fe2413ab92e3a6ea3ae7903\n",
      "🧪 View experiment at: http://127.0.0.1:5000/#/experiments/962208812792484732\n"
     ]
    },
    {
     "name": "stderr",
     "output_type": "stream",
     "text": [
      "[I 2025-07-27 17:43:27,571] Trial 47 finished with value: 0.48176055031253406 and parameters: {'n_estimators': 740, 'max_depth': 29, 'min_samples_split': 2, 'min_samples_leaf': 2, 'max_features': 'log2', 'bootstrap': False}. Best is trial 42 with value: 0.4817568655961482.\n"
     ]
    },
    {
     "name": "stdout",
     "output_type": "stream",
     "text": [
      "🏃 View run Trial - 47 at: http://127.0.0.1:5000/#/experiments/962208812792484732/runs/92b071b668d84a59be67f4f3bdc0b76a\n",
      "🧪 View experiment at: http://127.0.0.1:5000/#/experiments/962208812792484732\n"
     ]
    },
    {
     "name": "stderr",
     "output_type": "stream",
     "text": [
      "[I 2025-07-27 17:43:35,868] Trial 48 finished with value: 0.5556130336390577 and parameters: {'n_estimators': 490, 'max_depth': 29, 'min_samples_split': 2, 'min_samples_leaf': 5, 'max_features': 'log2', 'bootstrap': False}. Best is trial 42 with value: 0.4817568655961482.\n"
     ]
    },
    {
     "name": "stdout",
     "output_type": "stream",
     "text": [
      "🏃 View run Trial - 48 at: http://127.0.0.1:5000/#/experiments/962208812792484732/runs/3a3fd511335a44c7baff1b24df9df124\n",
      "🧪 View experiment at: http://127.0.0.1:5000/#/experiments/962208812792484732\n"
     ]
    },
    {
     "name": "stderr",
     "output_type": "stream",
     "text": [
      "[I 2025-07-27 17:43:46,994] Trial 49 finished with value: 0.5824100386410297 and parameters: {'n_estimators': 727, 'max_depth': 30, 'min_samples_split': 20, 'min_samples_leaf': 7, 'max_features': 'log2', 'bootstrap': False}. Best is trial 42 with value: 0.4817568655961482.\n"
     ]
    },
    {
     "name": "stdout",
     "output_type": "stream",
     "text": [
      "🏃 View run Trial - 49 at: http://127.0.0.1:5000/#/experiments/962208812792484732/runs/bde96c88977b4042993c55a2955aefd9\n",
      "🧪 View experiment at: http://127.0.0.1:5000/#/experiments/962208812792484732\n",
      "Melhores hiperparâmetros:\n",
      "{'n_estimators': 1294, 'max_depth': 30, 'min_samples_split': 3, 'min_samples_leaf': 2, 'max_features': 'log2', 'bootstrap': False}\n",
      "Melhor RMSE: 0.4818\n",
      "🏃 View run Random Forest optimization at: http://127.0.0.1:5000/#/experiments/962208812792484732/runs/c34602bdae614615b6645e8fddd101ef\n",
      "🧪 View experiment at: http://127.0.0.1:5000/#/experiments/962208812792484732\n"
     ]
    }
   ],
   "source": [
    "study = optuna.create_study(\n",
    "    direction='minimize',\n",
    "    sampler=optuna.samplers.TPESampler(seed=42),\n",
    "    pruner=optuna.pruners.MedianPruner(\n",
    "        n_startup_trials=20,\n",
    "        n_warmup_steps=10,\n",
    "        interval_steps=5\n",
    "    )\n",
    ")\n",
    "\n",
    "mlflow.set_tracking_uri('http://127.0.0.1:5000')\n",
    "mlflow.set_experiment('DSWA - Competicao3')\n",
    "with mlflow.start_run(run_name='Random Forest optimization'):\n",
    "    study.optimize(objective, n_trials=50)\n",
    "    \n",
    "    print(\"Melhores hiperparâmetros:\")\n",
    "    print(study.best_params)\n",
    "    print(f\"Melhor RMSE: {study.best_value:.4f}\")\n",
    "\n",
    "    # Loga os melhores parâmetros e métrica no MLflow\n",
    "    mlflow.log_params(study.best_params)\n",
    "    mlflow.log_metric(\"best_rmse\", study.best_value)\n"
   ]
  }
 ],
 "metadata": {
  "kernelspec": {
   "display_name": "Python 3",
   "language": "python",
   "name": "python3"
  },
  "language_info": {
   "codemirror_mode": {
    "name": "ipython",
    "version": 3
   },
   "file_extension": ".py",
   "mimetype": "text/x-python",
   "name": "python",
   "nbconvert_exporter": "python",
   "pygments_lexer": "ipython3",
   "version": "3.11.5"
  }
 },
 "nbformat": 4,
 "nbformat_minor": 5
}
