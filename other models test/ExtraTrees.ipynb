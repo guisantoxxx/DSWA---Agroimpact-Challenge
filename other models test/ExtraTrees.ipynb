{
 "cells": [
  {
   "cell_type": "code",
   "execution_count": 7,
   "id": "30e67c73",
   "metadata": {},
   "outputs": [],
   "source": [
    "from xgboost import XGBRegressor\n",
    "from sklearn.model_selection import train_test_split\n",
    "from sklearn.metrics import mean_squared_error\n",
    "import pandas as pd\n",
    "from sklearn.model_selection import cross_val_score, KFold\n",
    "from sklearn.metrics import make_scorer, mean_squared_error\n",
    "import numpy as np\n",
    "import mlflow"
   ]
  },
  {
   "cell_type": "code",
   "execution_count": 8,
   "id": "a8b905db",
   "metadata": {},
   "outputs": [],
   "source": [
    "train = pd.read_csv('../data/train.csv')"
   ]
  },
  {
   "cell_type": "code",
   "execution_count": 9,
   "id": "d6633906",
   "metadata": {},
   "outputs": [],
   "source": [
    "X = train.drop(columns=[\n",
    "    'ID', 'target1', 'target2', 'target3', 'target4', 'target5',\n",
    "    'target6', 'target7', 'target8', 'target9', 'target10', 'target11'\n",
    "])\n",
    "\n",
    "y = train.drop(columns=[\n",
    "    'ID', 'feature2', 'feature3', 'feature4', 'feature5', 'feature6',\n",
    "    'feature7', 'feature8', 'feature9', 'feature10', 'feature11',\n",
    "    'feature12', 'feature13', 'feature14', 'feature15'\n",
    "])\n"
   ]
  },
  {
   "cell_type": "code",
   "execution_count": 10,
   "id": "13fa9eb1",
   "metadata": {},
   "outputs": [],
   "source": [
    "#X_train, X_test, y_train, y_test = train_test_split(X, y, test_size=0.2)"
   ]
  },
  {
   "cell_type": "markdown",
   "id": "61d7ff3b",
   "metadata": {},
   "source": [
    "Hyper-param optmization"
   ]
  },
  {
   "cell_type": "code",
   "execution_count": null,
   "id": "8e58d24f",
   "metadata": {},
   "outputs": [],
   "source": [
    "import optuna\n",
    "from sklearn.ensemble import ExtraTreesRegressor\n",
    "from sklearn.model_selection import KFold\n",
    "import mlflow\n",
    "import numpy as np\n",
    "import warnings\n",
    "from sklearn.metrics import root_mean_squared_error\n",
    "from sklearn.ensemble import ExtraTreesRegressor\n",
    "\n",
    "warnings.filterwarnings('ignore')\n",
    "\n",
    "def objective(trial):\n",
    "   with mlflow.start_run(run_name=f'Trial-{trial.number}', nested=True):\n",
    "       params = {\n",
    "           'n_estimators': trial.suggest_int('n_estimators', 50, 500),\n",
    "           'max_depth': trial.suggest_int('max_depth', 3, 20),\n",
    "           'min_samples_split': trial.suggest_int('min_samples_split', 2, 20),\n",
    "           'min_samples_leaf': trial.suggest_int('min_samples_leaf', 1, 10),\n",
    "           'max_features': trial.suggest_categorical('max_features', ['sqrt', 'log2', None]),\n",
    "           'bootstrap': trial.suggest_categorical('bootstrap', [True, False]),\n",
    "           'random_state': 42\n",
    "       }\n",
    "       \n",
    "       mlflow.log_params(params)\n",
    "       \n",
    "       model = ExtraTreesRegressor(**params)\n",
    "       \n",
    "       kf = KFold(n_splits=10, shuffle=True, random_state=42)\n",
    "       rmses = []\n",
    "       \n",
    "       for train_idx, val_idx in kf.split(X):\n",
    "           X_tr, X_va = X.iloc[train_idx], X.iloc[val_idx]\n",
    "           y_tr, y_va = y.iloc[train_idx], y.iloc[val_idx]\n",
    "           \n",
    "           model.fit(X_tr, y_tr)\n",
    "           y_pred = model.predict(X_va)\n",
    "           \n",
    "           rmses.append(root_mean_squared_error(y_va, y_pred))\n",
    "       \n",
    "       rmse_mean = np.mean(rmses)\n",
    "       mlflow.log_metric('rmse', rmse_mean)\n",
    "       \n",
    "       return rmse_mean"
   ]
  },
  {
   "cell_type": "code",
   "execution_count": 12,
   "id": "d9c5c052",
   "metadata": {},
   "outputs": [
    {
     "name": "stderr",
     "output_type": "stream",
     "text": [
      "[I 2025-07-28 14:23:57,014] A new study created in memory with name: no-name-91506f6a-f567-468b-bb06-3f89de693d56\n",
      "[I 2025-07-28 14:23:59,267] Trial 0 finished with value: 0.7184475562306635 and parameters: {'n_estimators': 218, 'max_depth': 20, 'min_samples_split': 15, 'min_samples_leaf': 6, 'max_features': 'sqrt', 'bootstrap': True}. Best is trial 0 with value: 0.7184475562306635.\n"
     ]
    },
    {
     "name": "stdout",
     "output_type": "stream",
     "text": [
      "🏃 View run Trial-0 at: http://127.0.0.1:5000/#/experiments/962208812792484732/runs/b412233fe2fa4c4da4119383583a3662\n",
      "🧪 View experiment at: http://127.0.0.1:5000/#/experiments/962208812792484732\n"
     ]
    },
    {
     "name": "stderr",
     "output_type": "stream",
     "text": [
      "[I 2025-07-28 14:24:01,564] Trial 1 finished with value: 0.7713978437120709 and parameters: {'n_estimators': 369, 'max_depth': 3, 'min_samples_split': 20, 'min_samples_leaf': 9, 'max_features': 'sqrt', 'bootstrap': False}. Best is trial 0 with value: 0.7184475562306635.\n"
     ]
    },
    {
     "name": "stdout",
     "output_type": "stream",
     "text": [
      "🏃 View run Trial-1 at: http://127.0.0.1:5000/#/experiments/962208812792484732/runs/95ea02e5aecd496bab7e35533f7f0610\n",
      "🧪 View experiment at: http://127.0.0.1:5000/#/experiments/962208812792484732\n"
     ]
    },
    {
     "name": "stderr",
     "output_type": "stream",
     "text": [
      "[I 2025-07-28 14:24:04,244] Trial 2 finished with value: 0.5770234587242555 and parameters: {'n_estimators': 244, 'max_depth': 8, 'min_samples_split': 13, 'min_samples_leaf': 2, 'max_features': None, 'bootstrap': True}. Best is trial 2 with value: 0.5770234587242555.\n"
     ]
    },
    {
     "name": "stdout",
     "output_type": "stream",
     "text": [
      "🏃 View run Trial-2 at: http://127.0.0.1:5000/#/experiments/962208812792484732/runs/083fd763e435455391b192e8e140c0ba\n",
      "🧪 View experiment at: http://127.0.0.1:5000/#/experiments/962208812792484732\n"
     ]
    },
    {
     "name": "stderr",
     "output_type": "stream",
     "text": [
      "[I 2025-07-28 14:24:07,944] Trial 3 finished with value: 0.6238100545829359 and parameters: {'n_estimators': 281, 'max_depth': 13, 'min_samples_split': 2, 'min_samples_leaf': 7, 'max_features': None, 'bootstrap': True}. Best is trial 2 with value: 0.5770234587242555.\n"
     ]
    },
    {
     "name": "stdout",
     "output_type": "stream",
     "text": [
      "🏃 View run Trial-3 at: http://127.0.0.1:5000/#/experiments/962208812792484732/runs/1ef966996d2e4b82863fc7b4a0bf9175\n",
      "🧪 View experiment at: http://127.0.0.1:5000/#/experiments/962208812792484732\n"
     ]
    },
    {
     "name": "stderr",
     "output_type": "stream",
     "text": [
      "[I 2025-07-28 14:24:09,718] Trial 4 finished with value: 0.7419228520757386 and parameters: {'n_estimators': 187, 'max_depth': 4, 'min_samples_split': 15, 'min_samples_leaf': 5, 'max_features': 'log2', 'bootstrap': True}. Best is trial 2 with value: 0.5770234587242555.\n"
     ]
    },
    {
     "name": "stdout",
     "output_type": "stream",
     "text": [
      "🏃 View run Trial-4 at: http://127.0.0.1:5000/#/experiments/962208812792484732/runs/eec7658dbc6743eeae69f5bb4ef66939\n",
      "🧪 View experiment at: http://127.0.0.1:5000/#/experiments/962208812792484732\n"
     ]
    },
    {
     "name": "stderr",
     "output_type": "stream",
     "text": [
      "[I 2025-07-28 14:24:12,706] Trial 5 finished with value: 0.7229027880858315 and parameters: {'n_estimators': 348, 'max_depth': 8, 'min_samples_split': 11, 'min_samples_leaf': 6, 'max_features': 'log2', 'bootstrap': True}. Best is trial 2 with value: 0.5770234587242555.\n"
     ]
    },
    {
     "name": "stdout",
     "output_type": "stream",
     "text": [
      "🏃 View run Trial-5 at: http://127.0.0.1:5000/#/experiments/962208812792484732/runs/fcde9db7927449518ca8e68cd814d738\n",
      "🧪 View experiment at: http://127.0.0.1:5000/#/experiments/962208812792484732\n"
     ]
    },
    {
     "name": "stderr",
     "output_type": "stream",
     "text": [
      "[I 2025-07-28 14:24:19,223] Trial 6 finished with value: 0.46129068093308323 and parameters: {'n_estimators': 319, 'max_depth': 19, 'min_samples_split': 3, 'min_samples_leaf': 2, 'max_features': None, 'bootstrap': False}. Best is trial 6 with value: 0.46129068093308323.\n"
     ]
    },
    {
     "name": "stdout",
     "output_type": "stream",
     "text": [
      "🏃 View run Trial-6 at: http://127.0.0.1:5000/#/experiments/962208812792484732/runs/6e1e97b6f9d44dbeb6dca79973fb5b03\n",
      "🧪 View experiment at: http://127.0.0.1:5000/#/experiments/962208812792484732\n"
     ]
    },
    {
     "name": "stderr",
     "output_type": "stream",
     "text": [
      "[I 2025-07-28 14:24:22,301] Trial 7 finished with value: 0.5770104064991879 and parameters: {'n_estimators': 210, 'max_depth': 8, 'min_samples_split': 12, 'min_samples_leaf': 2, 'max_features': None, 'bootstrap': True}. Best is trial 6 with value: 0.46129068093308323.\n"
     ]
    },
    {
     "name": "stdout",
     "output_type": "stream",
     "text": [
      "🏃 View run Trial-7 at: http://127.0.0.1:5000/#/experiments/962208812792484732/runs/543d2d2b00414c629f77f082e1198709\n",
      "🧪 View experiment at: http://127.0.0.1:5000/#/experiments/962208812792484732\n"
     ]
    },
    {
     "name": "stderr",
     "output_type": "stream",
     "text": [
      "[I 2025-07-28 14:24:23,464] Trial 8 finished with value: 0.7279588305308687 and parameters: {'n_estimators': 52, 'max_depth': 17, 'min_samples_split': 15, 'min_samples_leaf': 8, 'max_features': 'sqrt', 'bootstrap': False}. Best is trial 6 with value: 0.46129068093308323.\n"
     ]
    },
    {
     "name": "stdout",
     "output_type": "stream",
     "text": [
      "🏃 View run Trial-8 at: http://127.0.0.1:5000/#/experiments/962208812792484732/runs/9ba3e88cfdaa4a39b1c72de81322de84\n",
      "🧪 View experiment at: http://127.0.0.1:5000/#/experiments/962208812792484732\n"
     ]
    },
    {
     "name": "stderr",
     "output_type": "stream",
     "text": [
      "[I 2025-07-28 14:24:28,214] Trial 9 finished with value: 0.6810481694077986 and parameters: {'n_estimators': 331, 'max_depth': 8, 'min_samples_split': 3, 'min_samples_leaf': 4, 'max_features': 'log2', 'bootstrap': True}. Best is trial 6 with value: 0.46129068093308323.\n"
     ]
    },
    {
     "name": "stdout",
     "output_type": "stream",
     "text": [
      "🏃 View run Trial-9 at: http://127.0.0.1:5000/#/experiments/962208812792484732/runs/e03d1512f1ea4f33bdc0a032b1ba5712\n",
      "🧪 View experiment at: http://127.0.0.1:5000/#/experiments/962208812792484732\n"
     ]
    },
    {
     "name": "stderr",
     "output_type": "stream",
     "text": [
      "[I 2025-07-28 14:24:36,805] Trial 10 finished with value: 0.4685223353720838 and parameters: {'n_estimators': 479, 'max_depth': 15, 'min_samples_split': 6, 'min_samples_leaf': 1, 'max_features': None, 'bootstrap': False}. Best is trial 6 with value: 0.46129068093308323.\n"
     ]
    },
    {
     "name": "stdout",
     "output_type": "stream",
     "text": [
      "🏃 View run Trial-10 at: http://127.0.0.1:5000/#/experiments/962208812792484732/runs/018b2b64714d4cc3866f8811c1b7ee4c\n",
      "🧪 View experiment at: http://127.0.0.1:5000/#/experiments/962208812792484732\n"
     ]
    },
    {
     "name": "stderr",
     "output_type": "stream",
     "text": [
      "[I 2025-07-28 14:24:45,320] Trial 11 finished with value: 0.47265538139664176 and parameters: {'n_estimators': 492, 'max_depth': 16, 'min_samples_split': 7, 'min_samples_leaf': 1, 'max_features': None, 'bootstrap': False}. Best is trial 6 with value: 0.46129068093308323.\n"
     ]
    },
    {
     "name": "stdout",
     "output_type": "stream",
     "text": [
      "🏃 View run Trial-11 at: http://127.0.0.1:5000/#/experiments/962208812792484732/runs/367c5c7ba9374c0c8b30cb3b7c49ad18\n",
      "🧪 View experiment at: http://127.0.0.1:5000/#/experiments/962208812792484732\n"
     ]
    },
    {
     "name": "stderr",
     "output_type": "stream",
     "text": [
      "[I 2025-07-28 14:24:53,950] Trial 12 finished with value: 0.5052017147110106 and parameters: {'n_estimators': 483, 'max_depth': 20, 'min_samples_split': 6, 'min_samples_leaf': 3, 'max_features': None, 'bootstrap': False}. Best is trial 6 with value: 0.46129068093308323.\n"
     ]
    },
    {
     "name": "stdout",
     "output_type": "stream",
     "text": [
      "🏃 View run Trial-12 at: http://127.0.0.1:5000/#/experiments/962208812792484732/runs/7dee399dda564302bf27f51761029f95\n",
      "🧪 View experiment at: http://127.0.0.1:5000/#/experiments/962208812792484732\n"
     ]
    },
    {
     "name": "stderr",
     "output_type": "stream",
     "text": [
      "[I 2025-07-28 14:25:01,605] Trial 13 finished with value: 0.472196527728092 and parameters: {'n_estimators': 420, 'max_depth': 16, 'min_samples_split': 7, 'min_samples_leaf': 1, 'max_features': None, 'bootstrap': False}. Best is trial 6 with value: 0.46129068093308323.\n"
     ]
    },
    {
     "name": "stdout",
     "output_type": "stream",
     "text": [
      "🏃 View run Trial-13 at: http://127.0.0.1:5000/#/experiments/962208812792484732/runs/8f24e9d68504416d9f344f6fb5471718\n",
      "🧪 View experiment at: http://127.0.0.1:5000/#/experiments/962208812792484732\n"
     ]
    },
    {
     "name": "stderr",
     "output_type": "stream",
     "text": [
      "[I 2025-07-28 14:25:02,994] Trial 14 finished with value: 0.5143784816966913 and parameters: {'n_estimators': 101, 'max_depth': 13, 'min_samples_split': 5, 'min_samples_leaf': 3, 'max_features': None, 'bootstrap': False}. Best is trial 6 with value: 0.46129068093308323.\n"
     ]
    },
    {
     "name": "stdout",
     "output_type": "stream",
     "text": [
      "🏃 View run Trial-14 at: http://127.0.0.1:5000/#/experiments/962208812792484732/runs/a1f54e7de00c45d8bf11fb1cdea43b8b\n",
      "🧪 View experiment at: http://127.0.0.1:5000/#/experiments/962208812792484732\n"
     ]
    },
    {
     "name": "stderr",
     "output_type": "stream",
     "text": [
      "[I 2025-07-28 14:25:08,608] Trial 15 finished with value: 0.533532540953313 and parameters: {'n_estimators': 426, 'max_depth': 18, 'min_samples_split': 9, 'min_samples_leaf': 4, 'max_features': None, 'bootstrap': False}. Best is trial 6 with value: 0.46129068093308323.\n"
     ]
    },
    {
     "name": "stdout",
     "output_type": "stream",
     "text": [
      "🏃 View run Trial-15 at: http://127.0.0.1:5000/#/experiments/962208812792484732/runs/7335f96534194ddcb773a20891603b10\n",
      "🧪 View experiment at: http://127.0.0.1:5000/#/experiments/962208812792484732\n"
     ]
    },
    {
     "name": "stderr",
     "output_type": "stream",
     "text": [
      "[I 2025-07-28 14:25:14,477] Trial 16 finished with value: 0.47709301048148056 and parameters: {'n_estimators': 424, 'max_depth': 13, 'min_samples_split': 4, 'min_samples_leaf': 1, 'max_features': None, 'bootstrap': False}. Best is trial 6 with value: 0.46129068093308323.\n"
     ]
    },
    {
     "name": "stdout",
     "output_type": "stream",
     "text": [
      "🏃 View run Trial-16 at: http://127.0.0.1:5000/#/experiments/962208812792484732/runs/2d46ee0c0c4345e28458da25090731a2\n",
      "🧪 View experiment at: http://127.0.0.1:5000/#/experiments/962208812792484732\n"
     ]
    },
    {
     "name": "stderr",
     "output_type": "stream",
     "text": [
      "[I 2025-07-28 14:25:18,292] Trial 17 finished with value: 0.5222324371463903 and parameters: {'n_estimators': 289, 'max_depth': 15, 'min_samples_split': 9, 'min_samples_leaf': 3, 'max_features': None, 'bootstrap': False}. Best is trial 6 with value: 0.46129068093308323.\n"
     ]
    },
    {
     "name": "stdout",
     "output_type": "stream",
     "text": [
      "🏃 View run Trial-17 at: http://127.0.0.1:5000/#/experiments/962208812792484732/runs/317aaffbc77c48b69be7d33cd6217ba6\n",
      "🧪 View experiment at: http://127.0.0.1:5000/#/experiments/962208812792484732\n"
     ]
    },
    {
     "name": "stderr",
     "output_type": "stream",
     "text": [
      "[I 2025-07-28 14:25:20,244] Trial 18 finished with value: 0.7360461857100422 and parameters: {'n_estimators': 388, 'max_depth': 18, 'min_samples_split': 3, 'min_samples_leaf': 10, 'max_features': 'sqrt', 'bootstrap': False}. Best is trial 6 with value: 0.46129068093308323.\n"
     ]
    },
    {
     "name": "stdout",
     "output_type": "stream",
     "text": [
      "🏃 View run Trial-18 at: http://127.0.0.1:5000/#/experiments/962208812792484732/runs/52bb16800be941afbad48ba63541d602\n",
      "🧪 View experiment at: http://127.0.0.1:5000/#/experiments/962208812792484732\n"
     ]
    },
    {
     "name": "stderr",
     "output_type": "stream",
     "text": [
      "[I 2025-07-28 14:25:21,586] Trial 19 finished with value: 0.5545036941955626 and parameters: {'n_estimators': 175, 'max_depth': 11, 'min_samples_split': 8, 'min_samples_leaf': 2, 'max_features': 'log2', 'bootstrap': False}. Best is trial 6 with value: 0.46129068093308323.\n"
     ]
    },
    {
     "name": "stdout",
     "output_type": "stream",
     "text": [
      "🏃 View run Trial-19 at: http://127.0.0.1:5000/#/experiments/962208812792484732/runs/46e87f5c2f104eab83e0e84f27696e14\n",
      "🧪 View experiment at: http://127.0.0.1:5000/#/experiments/962208812792484732\n"
     ]
    },
    {
     "name": "stderr",
     "output_type": "stream",
     "text": [
      "[I 2025-07-28 14:25:26,179] Trial 20 finished with value: 0.5297035883487234 and parameters: {'n_estimators': 310, 'max_depth': 19, 'min_samples_split': 5, 'min_samples_leaf': 4, 'max_features': None, 'bootstrap': False}. Best is trial 6 with value: 0.46129068093308323.\n"
     ]
    },
    {
     "name": "stdout",
     "output_type": "stream",
     "text": [
      "🏃 View run Trial-20 at: http://127.0.0.1:5000/#/experiments/962208812792484732/runs/1c016f1b9053408b9eafbef09ce27bc0\n",
      "🧪 View experiment at: http://127.0.0.1:5000/#/experiments/962208812792484732\n"
     ]
    },
    {
     "name": "stderr",
     "output_type": "stream",
     "text": [
      "[I 2025-07-28 14:25:34,076] Trial 21 finished with value: 0.47592445170580555 and parameters: {'n_estimators': 432, 'max_depth': 15, 'min_samples_split': 7, 'min_samples_leaf': 1, 'max_features': None, 'bootstrap': False}. Best is trial 6 with value: 0.46129068093308323.\n"
     ]
    },
    {
     "name": "stdout",
     "output_type": "stream",
     "text": [
      "🏃 View run Trial-21 at: http://127.0.0.1:5000/#/experiments/962208812792484732/runs/63678ae02cd149fd885bdbfad7b5c35f\n",
      "🧪 View experiment at: http://127.0.0.1:5000/#/experiments/962208812792484732\n"
     ]
    },
    {
     "name": "stderr",
     "output_type": "stream",
     "text": [
      "[I 2025-07-28 14:25:41,142] Trial 22 finished with value: 0.4830217818816018 and parameters: {'n_estimators': 454, 'max_depth': 16, 'min_samples_split': 9, 'min_samples_leaf': 1, 'max_features': None, 'bootstrap': False}. Best is trial 6 with value: 0.46129068093308323.\n"
     ]
    },
    {
     "name": "stdout",
     "output_type": "stream",
     "text": [
      "🏃 View run Trial-22 at: http://127.0.0.1:5000/#/experiments/962208812792484732/runs/19a5722362604da195647a2b12724fde\n",
      "🧪 View experiment at: http://127.0.0.1:5000/#/experiments/962208812792484732\n"
     ]
    },
    {
     "name": "stderr",
     "output_type": "stream",
     "text": [
      "[I 2025-07-28 14:25:45,888] Trial 23 finished with value: 0.48959160614468206 and parameters: {'n_estimators': 395, 'max_depth': 11, 'min_samples_split': 2, 'min_samples_leaf': 2, 'max_features': None, 'bootstrap': False}. Best is trial 6 with value: 0.46129068093308323.\n"
     ]
    },
    {
     "name": "stdout",
     "output_type": "stream",
     "text": [
      "🏃 View run Trial-23 at: http://127.0.0.1:5000/#/experiments/962208812792484732/runs/c3e547514f834817b0c22c640b8502b7\n",
      "🧪 View experiment at: http://127.0.0.1:5000/#/experiments/962208812792484732\n"
     ]
    },
    {
     "name": "stderr",
     "output_type": "stream",
     "text": [
      "[I 2025-07-28 14:25:52,922] Trial 24 finished with value: 0.47385675590939585 and parameters: {'n_estimators': 456, 'max_depth': 14, 'min_samples_split': 5, 'min_samples_leaf': 1, 'max_features': None, 'bootstrap': False}. Best is trial 6 with value: 0.46129068093308323.\n"
     ]
    },
    {
     "name": "stdout",
     "output_type": "stream",
     "text": [
      "🏃 View run Trial-24 at: http://127.0.0.1:5000/#/experiments/962208812792484732/runs/a197d1cbb7304aca8bef2983cee140e9\n",
      "🧪 View experiment at: http://127.0.0.1:5000/#/experiments/962208812792484732\n"
     ]
    },
    {
     "name": "stderr",
     "output_type": "stream",
     "text": [
      "[I 2025-07-28 14:25:58,652] Trial 25 finished with value: 0.5103706478097478 and parameters: {'n_estimators': 389, 'max_depth': 17, 'min_samples_split': 7, 'min_samples_leaf': 3, 'max_features': None, 'bootstrap': False}. Best is trial 6 with value: 0.46129068093308323.\n"
     ]
    },
    {
     "name": "stdout",
     "output_type": "stream",
     "text": [
      "🏃 View run Trial-25 at: http://127.0.0.1:5000/#/experiments/962208812792484732/runs/e7bb6e7f0e75432b8e4502c20763c16b\n",
      "🧪 View experiment at: http://127.0.0.1:5000/#/experiments/962208812792484732\n"
     ]
    },
    {
     "name": "stderr",
     "output_type": "stream",
     "text": [
      "[I 2025-07-28 14:26:04,581] Trial 26 finished with value: 0.4608082906799574 and parameters: {'n_estimators': 335, 'max_depth': 18, 'min_samples_split': 4, 'min_samples_leaf': 2, 'max_features': None, 'bootstrap': False}. Best is trial 26 with value: 0.4608082906799574.\n"
     ]
    },
    {
     "name": "stdout",
     "output_type": "stream",
     "text": [
      "🏃 View run Trial-26 at: http://127.0.0.1:5000/#/experiments/962208812792484732/runs/f9eb8772fe974e21a6adb6d7b9c25ada\n",
      "🧪 View experiment at: http://127.0.0.1:5000/#/experiments/962208812792484732\n"
     ]
    },
    {
     "name": "stderr",
     "output_type": "stream",
     "text": [
      "[I 2025-07-28 14:26:09,110] Trial 27 finished with value: 0.5489316363511365 and parameters: {'n_estimators': 332, 'max_depth': 19, 'min_samples_split': 4, 'min_samples_leaf': 5, 'max_features': None, 'bootstrap': False}. Best is trial 26 with value: 0.4608082906799574.\n"
     ]
    },
    {
     "name": "stdout",
     "output_type": "stream",
     "text": [
      "🏃 View run Trial-27 at: http://127.0.0.1:5000/#/experiments/962208812792484732/runs/0f55297ef900476fb5e76a2f947911e8\n",
      "🧪 View experiment at: http://127.0.0.1:5000/#/experiments/962208812792484732\n"
     ]
    },
    {
     "name": "stderr",
     "output_type": "stream",
     "text": [
      "[I 2025-07-28 14:26:11,900] Trial 28 finished with value: 0.49674622899128246 and parameters: {'n_estimators': 251, 'max_depth': 18, 'min_samples_split': 3, 'min_samples_leaf': 2, 'max_features': 'log2', 'bootstrap': False}. Best is trial 26 with value: 0.4608082906799574.\n"
     ]
    },
    {
     "name": "stdout",
     "output_type": "stream",
     "text": [
      "🏃 View run Trial-28 at: http://127.0.0.1:5000/#/experiments/962208812792484732/runs/4be279ae74e641d99ab5b5cae14a620a\n",
      "🧪 View experiment at: http://127.0.0.1:5000/#/experiments/962208812792484732\n"
     ]
    },
    {
     "name": "stderr",
     "output_type": "stream",
     "text": [
      "[I 2025-07-28 14:26:13,242] Trial 29 finished with value: 0.690602305421382 and parameters: {'n_estimators': 158, 'max_depth': 20, 'min_samples_split': 18, 'min_samples_leaf': 6, 'max_features': 'sqrt', 'bootstrap': False}. Best is trial 26 with value: 0.4608082906799574.\n"
     ]
    },
    {
     "name": "stdout",
     "output_type": "stream",
     "text": [
      "🏃 View run Trial-29 at: http://127.0.0.1:5000/#/experiments/962208812792484732/runs/55ed93f9ce8e4caf90597935e055dfed\n",
      "🧪 View experiment at: http://127.0.0.1:5000/#/experiments/962208812792484732\n"
     ]
    },
    {
     "name": "stderr",
     "output_type": "stream",
     "text": [
      "[I 2025-07-28 14:26:15,163] Trial 30 finished with value: 0.6208964476475706 and parameters: {'n_estimators': 250, 'max_depth': 19, 'min_samples_split': 4, 'min_samples_leaf': 4, 'max_features': 'sqrt', 'bootstrap': False}. Best is trial 26 with value: 0.4608082906799574.\n"
     ]
    },
    {
     "name": "stdout",
     "output_type": "stream",
     "text": [
      "🏃 View run Trial-30 at: http://127.0.0.1:5000/#/experiments/962208812792484732/runs/d32af7b82b8a47d4aa91c0e5352b88c0\n",
      "🧪 View experiment at: http://127.0.0.1:5000/#/experiments/962208812792484732\n"
     ]
    },
    {
     "name": "stderr",
     "output_type": "stream",
     "text": [
      "[I 2025-07-28 14:26:21,203] Trial 31 finished with value: 0.465876255895178 and parameters: {'n_estimators': 364, 'max_depth': 16, 'min_samples_split': 5, 'min_samples_leaf': 2, 'max_features': None, 'bootstrap': False}. Best is trial 26 with value: 0.4608082906799574.\n"
     ]
    },
    {
     "name": "stdout",
     "output_type": "stream",
     "text": [
      "🏃 View run Trial-31 at: http://127.0.0.1:5000/#/experiments/962208812792484732/runs/c966e98307004b2abff8b1ca45aa023c\n",
      "🧪 View experiment at: http://127.0.0.1:5000/#/experiments/962208812792484732\n"
     ]
    },
    {
     "name": "stderr",
     "output_type": "stream",
     "text": [
      "[I 2025-07-28 14:26:26,895] Trial 32 finished with value: 0.46032780398501083 and parameters: {'n_estimators': 353, 'max_depth': 17, 'min_samples_split': 2, 'min_samples_leaf': 2, 'max_features': None, 'bootstrap': False}. Best is trial 32 with value: 0.46032780398501083.\n"
     ]
    },
    {
     "name": "stdout",
     "output_type": "stream",
     "text": [
      "🏃 View run Trial-32 at: http://127.0.0.1:5000/#/experiments/962208812792484732/runs/b6cf150768074bb0957b5c41a2e7630e\n",
      "🧪 View experiment at: http://127.0.0.1:5000/#/experiments/962208812792484732\n"
     ]
    },
    {
     "name": "stderr",
     "output_type": "stream",
     "text": [
      "[I 2025-07-28 14:26:32,067] Trial 33 finished with value: 0.5047813563795305 and parameters: {'n_estimators': 356, 'max_depth': 17, 'min_samples_split': 2, 'min_samples_leaf': 3, 'max_features': None, 'bootstrap': False}. Best is trial 32 with value: 0.46032780398501083.\n"
     ]
    },
    {
     "name": "stdout",
     "output_type": "stream",
     "text": [
      "🏃 View run Trial-33 at: http://127.0.0.1:5000/#/experiments/962208812792484732/runs/3844af18951f4af9ae39eddfbeefd0e8\n",
      "🧪 View experiment at: http://127.0.0.1:5000/#/experiments/962208812792484732\n"
     ]
    },
    {
     "name": "stderr",
     "output_type": "stream",
     "text": [
      "[I 2025-07-28 14:26:37,289] Trial 34 finished with value: 0.46158636366347877 and parameters: {'n_estimators': 306, 'max_depth': 20, 'min_samples_split': 2, 'min_samples_leaf': 2, 'max_features': None, 'bootstrap': False}. Best is trial 32 with value: 0.46032780398501083.\n"
     ]
    },
    {
     "name": "stdout",
     "output_type": "stream",
     "text": [
      "🏃 View run Trial-34 at: http://127.0.0.1:5000/#/experiments/962208812792484732/runs/9f92da0588f84e9da8e4c393fabdea72\n",
      "🧪 View experiment at: http://127.0.0.1:5000/#/experiments/962208812792484732\n"
     ]
    },
    {
     "name": "stderr",
     "output_type": "stream",
     "text": [
      "[I 2025-07-28 14:26:41,626] Trial 35 finished with value: 0.5383366863305828 and parameters: {'n_estimators': 304, 'max_depth': 20, 'min_samples_split': 2, 'min_samples_leaf': 3, 'max_features': None, 'bootstrap': True}. Best is trial 32 with value: 0.46032780398501083.\n"
     ]
    },
    {
     "name": "stdout",
     "output_type": "stream",
     "text": [
      "🏃 View run Trial-35 at: http://127.0.0.1:5000/#/experiments/962208812792484732/runs/6e38162893df40cf9ee335481380f6ca\n",
      "🧪 View experiment at: http://127.0.0.1:5000/#/experiments/962208812792484732\n"
     ]
    },
    {
     "name": "stderr",
     "output_type": "stream",
     "text": [
      "[I 2025-07-28 14:26:46,469] Trial 36 finished with value: 0.46192374969898475 and parameters: {'n_estimators': 275, 'max_depth': 19, 'min_samples_split': 3, 'min_samples_leaf': 2, 'max_features': None, 'bootstrap': False}. Best is trial 32 with value: 0.46032780398501083.\n"
     ]
    },
    {
     "name": "stdout",
     "output_type": "stream",
     "text": [
      "🏃 View run Trial-36 at: http://127.0.0.1:5000/#/experiments/962208812792484732/runs/4ab31d1878444dca8c7c4a873443b186\n",
      "🧪 View experiment at: http://127.0.0.1:5000/#/experiments/962208812792484732\n"
     ]
    },
    {
     "name": "stderr",
     "output_type": "stream",
     "text": [
      "[I 2025-07-28 14:26:48,945] Trial 37 finished with value: 0.6671043889346271 and parameters: {'n_estimators': 317, 'max_depth': 20, 'min_samples_split': 2, 'min_samples_leaf': 4, 'max_features': 'sqrt', 'bootstrap': True}. Best is trial 32 with value: 0.46032780398501083.\n"
     ]
    },
    {
     "name": "stdout",
     "output_type": "stream",
     "text": [
      "🏃 View run Trial-37 at: http://127.0.0.1:5000/#/experiments/962208812792484732/runs/aa0699410bc24be2aaaa998445e9a63e\n",
      "🧪 View experiment at: http://127.0.0.1:5000/#/experiments/962208812792484732\n"
     ]
    },
    {
     "name": "stderr",
     "output_type": "stream",
     "text": [
      "[I 2025-07-28 14:26:50,531] Trial 38 finished with value: 0.656714532587329 and parameters: {'n_estimators': 227, 'max_depth': 18, 'min_samples_split': 4, 'min_samples_leaf': 5, 'max_features': 'log2', 'bootstrap': False}. Best is trial 32 with value: 0.46032780398501083.\n"
     ]
    },
    {
     "name": "stdout",
     "output_type": "stream",
     "text": [
      "🏃 View run Trial-38 at: http://127.0.0.1:5000/#/experiments/962208812792484732/runs/c4b7b4e5e5f542b79d752c1ae1200d82\n",
      "🧪 View experiment at: http://127.0.0.1:5000/#/experiments/962208812792484732\n"
     ]
    },
    {
     "name": "stderr",
     "output_type": "stream",
     "text": [
      "[I 2025-07-28 14:26:53,111] Trial 39 finished with value: 0.6492331496967745 and parameters: {'n_estimators': 280, 'max_depth': 6, 'min_samples_split': 11, 'min_samples_leaf': 7, 'max_features': None, 'bootstrap': True}. Best is trial 32 with value: 0.46032780398501083.\n"
     ]
    },
    {
     "name": "stdout",
     "output_type": "stream",
     "text": [
      "🏃 View run Trial-39 at: http://127.0.0.1:5000/#/experiments/962208812792484732/runs/cb1378bfbec64363a9ddce3aa78c4062\n",
      "🧪 View experiment at: http://127.0.0.1:5000/#/experiments/962208812792484732\n"
     ]
    },
    {
     "name": "stderr",
     "output_type": "stream",
     "text": [
      "[I 2025-07-28 14:26:56,599] Trial 40 finished with value: 0.5478754924923835 and parameters: {'n_estimators': 340, 'max_depth': 10, 'min_samples_split': 18, 'min_samples_leaf': 2, 'max_features': None, 'bootstrap': False}. Best is trial 32 with value: 0.46032780398501083.\n"
     ]
    },
    {
     "name": "stdout",
     "output_type": "stream",
     "text": [
      "🏃 View run Trial-40 at: http://127.0.0.1:5000/#/experiments/962208812792484732/runs/30c419b069b9440bb6223a5bc7c71109\n",
      "🧪 View experiment at: http://127.0.0.1:5000/#/experiments/962208812792484732\n"
     ]
    },
    {
     "name": "stderr",
     "output_type": "stream",
     "text": [
      "[I 2025-07-28 14:27:01,495] Trial 41 finished with value: 0.4619700013483987 and parameters: {'n_estimators': 278, 'max_depth': 19, 'min_samples_split': 3, 'min_samples_leaf': 2, 'max_features': None, 'bootstrap': False}. Best is trial 32 with value: 0.46032780398501083.\n"
     ]
    },
    {
     "name": "stdout",
     "output_type": "stream",
     "text": [
      "🏃 View run Trial-41 at: http://127.0.0.1:5000/#/experiments/962208812792484732/runs/d8af5648fe794caaae708d6dce07e6c6\n",
      "🧪 View experiment at: http://127.0.0.1:5000/#/experiments/962208812792484732\n"
     ]
    },
    {
     "name": "stderr",
     "output_type": "stream",
     "text": [
      "[I 2025-07-28 14:27:06,015] Trial 42 finished with value: 0.5052499316100818 and parameters: {'n_estimators': 304, 'max_depth': 17, 'min_samples_split': 3, 'min_samples_leaf': 3, 'max_features': None, 'bootstrap': False}. Best is trial 32 with value: 0.46032780398501083.\n"
     ]
    },
    {
     "name": "stdout",
     "output_type": "stream",
     "text": [
      "🏃 View run Trial-42 at: http://127.0.0.1:5000/#/experiments/962208812792484732/runs/4b029ae118744b69b10b053fea7c973f\n",
      "🧪 View experiment at: http://127.0.0.1:5000/#/experiments/962208812792484732\n"
     ]
    },
    {
     "name": "stderr",
     "output_type": "stream",
     "text": [
      "[I 2025-07-28 14:27:10,376] Trial 43 finished with value: 0.46155523690072026 and parameters: {'n_estimators': 249, 'max_depth': 19, 'min_samples_split': 2, 'min_samples_leaf': 2, 'max_features': None, 'bootstrap': False}. Best is trial 32 with value: 0.46032780398501083.\n"
     ]
    },
    {
     "name": "stdout",
     "output_type": "stream",
     "text": [
      "🏃 View run Trial-43 at: http://127.0.0.1:5000/#/experiments/962208812792484732/runs/33b783006b4247aebc61f3825320f7e5\n",
      "🧪 View experiment at: http://127.0.0.1:5000/#/experiments/962208812792484732\n"
     ]
    },
    {
     "name": "stderr",
     "output_type": "stream",
     "text": [
      "[I 2025-07-28 14:27:14,770] Trial 44 finished with value: 0.4656619122181219 and parameters: {'n_estimators': 205, 'max_depth': 18, 'min_samples_split': 2, 'min_samples_leaf': 1, 'max_features': None, 'bootstrap': False}. Best is trial 32 with value: 0.46032780398501083.\n"
     ]
    },
    {
     "name": "stdout",
     "output_type": "stream",
     "text": [
      "🏃 View run Trial-44 at: http://127.0.0.1:5000/#/experiments/962208812792484732/runs/2d5fd25bcafb4ca6b0bb6639a80a0780\n",
      "🧪 View experiment at: http://127.0.0.1:5000/#/experiments/962208812792484732\n"
     ]
    },
    {
     "name": "stderr",
     "output_type": "stream",
     "text": [
      "[I 2025-07-28 14:27:18,696] Trial 45 finished with value: 0.5111474598455384 and parameters: {'n_estimators': 257, 'max_depth': 20, 'min_samples_split': 6, 'min_samples_leaf': 2, 'max_features': None, 'bootstrap': True}. Best is trial 32 with value: 0.46032780398501083.\n"
     ]
    },
    {
     "name": "stdout",
     "output_type": "stream",
     "text": [
      "🏃 View run Trial-45 at: http://127.0.0.1:5000/#/experiments/962208812792484732/runs/ffaa3aa2fee94aaab2d9ac5da2c2faf1\n",
      "🧪 View experiment at: http://127.0.0.1:5000/#/experiments/962208812792484732\n"
     ]
    },
    {
     "name": "stderr",
     "output_type": "stream",
     "text": [
      "[I 2025-07-28 14:27:20,599] Trial 46 finished with value: 0.7430284762187729 and parameters: {'n_estimators': 373, 'max_depth': 3, 'min_samples_split': 4, 'min_samples_leaf': 3, 'max_features': 'log2', 'bootstrap': False}. Best is trial 32 with value: 0.46032780398501083.\n"
     ]
    },
    {
     "name": "stdout",
     "output_type": "stream",
     "text": [
      "🏃 View run Trial-46 at: http://127.0.0.1:5000/#/experiments/962208812792484732/runs/af532361417b4649b057c3d8377d1177\n",
      "🧪 View experiment at: http://127.0.0.1:5000/#/experiments/962208812792484732\n"
     ]
    },
    {
     "name": "stderr",
     "output_type": "stream",
     "text": [
      "[I 2025-07-28 14:27:24,713] Trial 47 finished with value: 0.4615921018695901 and parameters: {'n_estimators': 228, 'max_depth': 19, 'min_samples_split': 2, 'min_samples_leaf': 2, 'max_features': None, 'bootstrap': False}. Best is trial 32 with value: 0.46032780398501083.\n"
     ]
    },
    {
     "name": "stdout",
     "output_type": "stream",
     "text": [
      "🏃 View run Trial-47 at: http://127.0.0.1:5000/#/experiments/962208812792484732/runs/fd60dbc465d3491fb3f9094a53491993\n",
      "🧪 View experiment at: http://127.0.0.1:5000/#/experiments/962208812792484732\n"
     ]
    },
    {
     "name": "stderr",
     "output_type": "stream",
     "text": [
      "[I 2025-07-28 14:27:29,022] Trial 48 finished with value: 0.589854913377606 and parameters: {'n_estimators': 325, 'max_depth': 17, 'min_samples_split': 5, 'min_samples_leaf': 7, 'max_features': None, 'bootstrap': False}. Best is trial 32 with value: 0.46032780398501083.\n"
     ]
    },
    {
     "name": "stdout",
     "output_type": "stream",
     "text": [
      "🏃 View run Trial-48 at: http://127.0.0.1:5000/#/experiments/962208812792484732/runs/f7acd5b384bf47fb94eaf93363ec0b78\n",
      "🧪 View experiment at: http://127.0.0.1:5000/#/experiments/962208812792484732\n"
     ]
    },
    {
     "name": "stderr",
     "output_type": "stream",
     "text": [
      "[I 2025-07-28 14:27:32,383] Trial 49 finished with value: 0.5776578489205884 and parameters: {'n_estimators': 299, 'max_depth': 18, 'min_samples_split': 12, 'min_samples_leaf': 4, 'max_features': None, 'bootstrap': True}. Best is trial 32 with value: 0.46032780398501083.\n"
     ]
    },
    {
     "name": "stdout",
     "output_type": "stream",
     "text": [
      "🏃 View run Trial-49 at: http://127.0.0.1:5000/#/experiments/962208812792484732/runs/672a790a83204deaaa3e02028cbfe083\n",
      "🧪 View experiment at: http://127.0.0.1:5000/#/experiments/962208812792484732\n",
      "Melhores hiperparâmetros:\n",
      "{'n_estimators': 353, 'max_depth': 17, 'min_samples_split': 2, 'min_samples_leaf': 2, 'max_features': None, 'bootstrap': False}\n",
      "Melhor RMSE: 0.4603\n",
      "🏃 View run Extra Trees optimization at: http://127.0.0.1:5000/#/experiments/962208812792484732/runs/8029c50fe40045a59550c1df1fa588bc\n",
      "🧪 View experiment at: http://127.0.0.1:5000/#/experiments/962208812792484732\n"
     ]
    }
   ],
   "source": [
    "study = optuna.create_study(\n",
    "    direction='minimize',\n",
    "    sampler=optuna.samplers.TPESampler(seed=42),\n",
    "    pruner=optuna.pruners.MedianPruner(\n",
    "        n_startup_trials=20,\n",
    "        n_warmup_steps=10,\n",
    "        interval_steps=5\n",
    "    )\n",
    ")\n",
    "\n",
    "mlflow.set_tracking_uri('http://127.0.0.1:5000')\n",
    "mlflow.set_experiment('DSWA - Competicao3')\n",
    "with mlflow.start_run(run_name='Extra Trees optimization'):\n",
    "    study.optimize(objective, n_trials=50)\n",
    "    \n",
    "    print(\"Melhores hiperparâmetros:\")\n",
    "    print(study.best_params)\n",
    "    print(f\"Melhor RMSE: {study.best_value:.4f}\")\n",
    "\n",
    "    # Loga os melhores parâmetros e métrica no MLflow\n",
    "    mlflow.log_params(study.best_params)\n",
    "    mlflow.log_metric(\"best_rmse\", study.best_value)\n"
   ]
  }
 ],
 "metadata": {
  "kernelspec": {
   "display_name": "Python 3",
   "language": "python",
   "name": "python3"
  },
  "language_info": {
   "codemirror_mode": {
    "name": "ipython",
    "version": 3
   },
   "file_extension": ".py",
   "mimetype": "text/x-python",
   "name": "python",
   "nbconvert_exporter": "python",
   "pygments_lexer": "ipython3",
   "version": "3.11.5"
  }
 },
 "nbformat": 4,
 "nbformat_minor": 5
}
