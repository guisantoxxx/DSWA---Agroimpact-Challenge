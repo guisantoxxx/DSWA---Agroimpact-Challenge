{
 "cells": [
  {
   "cell_type": "code",
   "execution_count": 1,
   "id": "30e67c73",
   "metadata": {},
   "outputs": [],
   "source": [
    "from xgboost import XGBRegressor\n",
    "from sklearn.model_selection import train_test_split\n",
    "from sklearn.metrics import mean_squared_error\n",
    "import pandas as pd\n",
    "from sklearn.model_selection import cross_val_score, KFold\n",
    "from sklearn.metrics import make_scorer, mean_squared_error\n",
    "import numpy as np\n",
    "import mlflow"
   ]
  },
  {
   "cell_type": "code",
   "execution_count": 2,
   "id": "a8b905db",
   "metadata": {},
   "outputs": [],
   "source": [
    "train = pd.read_csv('../data/train.csv')"
   ]
  },
  {
   "cell_type": "code",
   "execution_count": 3,
   "id": "d6633906",
   "metadata": {},
   "outputs": [],
   "source": [
    "X = train.drop(columns=[\n",
    "    'ID', 'target1', 'target2', 'target3', 'target4', 'target5',\n",
    "    'target6', 'target7', 'target8', 'target9', 'target10', 'target11'\n",
    "])\n",
    "\n",
    "y = train.drop(columns=[\n",
    "    'ID', 'feature2', 'feature3', 'feature4', 'feature5', 'feature6',\n",
    "    'feature7', 'feature8', 'feature9', 'feature10', 'feature11',\n",
    "    'feature12', 'feature13', 'feature14', 'feature15'\n",
    "])\n"
   ]
  },
  {
   "cell_type": "code",
   "execution_count": 4,
   "id": "13fa9eb1",
   "metadata": {},
   "outputs": [],
   "source": [
    "#X_train, X_test, y_train, y_test = train_test_split(X, y, test_size=0.2)"
   ]
  },
  {
   "cell_type": "markdown",
   "id": "61d7ff3b",
   "metadata": {},
   "source": [
    "Hyper-param optmization"
   ]
  },
  {
   "cell_type": "code",
   "execution_count": 5,
   "id": "8e58d24f",
   "metadata": {},
   "outputs": [
    {
     "name": "stderr",
     "output_type": "stream",
     "text": [
      "c:\\Users\\Guilherme\\AppData\\Local\\Programs\\Python\\Python311\\Lib\\site-packages\\tqdm\\auto.py:21: TqdmWarning: IProgress not found. Please update jupyter and ipywidgets. See https://ipywidgets.readthedocs.io/en/stable/user_install.html\n",
      "  from .autonotebook import tqdm as notebook_tqdm\n"
     ]
    }
   ],
   "source": [
    "import optuna\n",
    "from sklearn.neural_network import MLPRegressor\n",
    "from sklearn.model_selection import cross_val_score, KFold\n",
    "import mlflow\n",
    "import numpy as np\n",
    "import warnings\n",
    "\n",
    "warnings.filterwarnings('ignore')\n",
    "\n",
    "def objective(trial):\n",
    "    with mlflow.start_run(run_name=f'Trial - {trial.number}', nested=True):\n",
    "        # Hiperparâmetros do MLP\n",
    "        params = {\n",
    "            'hidden_layer_sizes': tuple(\n",
    "                trial.suggest_int(f'n_units_l{i}', 16, 256, log=True)\n",
    "                for i in range(trial.suggest_int('n_layers', 1, 3))\n",
    "            ),\n",
    "            'activation': trial.suggest_categorical('activation', ['relu', 'tanh', 'logistic']),\n",
    "            'solver': trial.suggest_categorical('solver', ['adam', 'sgd']),\n",
    "            'alpha': trial.suggest_float('alpha', 1e-6, 1e-1, log=True),          # L2 penalty\n",
    "            'learning_rate': trial.suggest_categorical('learning_rate', ['constant', 'invscaling', 'adaptive']),\n",
    "            'learning_rate_init': trial.suggest_float('lr_init', 1e-4, 1e-1, log=True),\n",
    "            'max_iter': trial.suggest_int('max_iter', 200, 5000),\n",
    "            'early_stopping': True,\n",
    "            'random_state': 42\n",
    "        }\n",
    "\n",
    "        mlflow.log_params(params)\n",
    "\n",
    "        model = MLPRegressor(**params)\n",
    "\n",
    "        kf = KFold(n_splits=10, shuffle=True, random_state=42)\n",
    "        scores = cross_val_score(\n",
    "            model, X, y,\n",
    "            scoring='neg_root_mean_squared_error',\n",
    "            cv=kf\n",
    "        )\n",
    "\n",
    "        rmse = -scores.mean()\n",
    "        mlflow.log_metric(\"rmse\", rmse)\n",
    "        return rmse\n",
    "\n",
    "# Para rodar o estudo Optuna:\n",
    "# study = optuna.create_study(direction='minimize')\n",
    "# study.optimize(objective, n_trials=50)\n"
   ]
  },
  {
   "cell_type": "code",
   "execution_count": 6,
   "id": "d9c5c052",
   "metadata": {},
   "outputs": [
    {
     "name": "stderr",
     "output_type": "stream",
     "text": [
      "[I 2025-07-27 17:23:50,841] A new study created in memory with name: no-name-869436ca-35af-4892-bd4a-54858e148170\n",
      "[I 2025-07-27 17:24:00,932] Trial 0 finished with value: 0.5360699167712938 and parameters: {'n_layers': 2, 'n_units_l0': 223, 'n_units_l1': 121, 'activation': 'relu', 'solver': 'sgd', 'alpha': 0.0010129197956845735, 'learning_rate': 'adaptive', 'lr_init': 0.03142880890840111, 'max_iter': 1219}. Best is trial 0 with value: 0.5360699167712938.\n"
     ]
    },
    {
     "name": "stdout",
     "output_type": "stream",
     "text": [
      "🏃 View run Trial - 0 at: http://127.0.0.1:5000/#/experiments/962208812792484732/runs/62820e63ad594a00b96dffa1cef5b2ac\n",
      "🧪 View experiment at: http://127.0.0.1:5000/#/experiments/962208812792484732\n"
     ]
    },
    {
     "name": "stderr",
     "output_type": "stream",
     "text": [
      "[I 2025-07-27 17:24:03,767] Trial 1 finished with value: 0.6131356173823246 and parameters: {'n_layers': 1, 'n_units_l0': 26, 'activation': 'tanh', 'solver': 'sgd', 'alpha': 4.982752357076453e-06, 'learning_rate': 'adaptive', 'lr_init': 0.0226739865237804, 'max_iter': 1158}. Best is trial 0 with value: 0.5360699167712938.\n"
     ]
    },
    {
     "name": "stdout",
     "output_type": "stream",
     "text": [
      "🏃 View run Trial - 1 at: http://127.0.0.1:5000/#/experiments/962208812792484732/runs/6905fcaf9c5141b3afb5f214a423db3a\n",
      "🧪 View experiment at: http://127.0.0.1:5000/#/experiments/962208812792484732\n"
     ]
    },
    {
     "name": "stderr",
     "output_type": "stream",
     "text": [
      "[I 2025-07-27 17:24:08,599] Trial 2 finished with value: 0.774554912476001 and parameters: {'n_layers': 2, 'n_units_l0': 82, 'n_units_l1': 18, 'activation': 'relu', 'solver': 'sgd', 'alpha': 0.01101505679026964, 'learning_rate': 'adaptive', 'lr_init': 0.0020914981329035616, 'max_iter': 785}. Best is trial 0 with value: 0.5360699167712938.\n"
     ]
    },
    {
     "name": "stdout",
     "output_type": "stream",
     "text": [
      "🏃 View run Trial - 2 at: http://127.0.0.1:5000/#/experiments/962208812792484732/runs/d1ac17d3544a49b9a625bc46b98ad156\n",
      "🧪 View experiment at: http://127.0.0.1:5000/#/experiments/962208812792484732\n"
     ]
    },
    {
     "name": "stderr",
     "output_type": "stream",
     "text": [
      "[I 2025-07-27 17:24:10,472] Trial 3 finished with value: 0.6459773553133907 and parameters: {'n_layers': 2, 'n_units_l0': 17, 'n_units_l1': 199, 'activation': 'tanh', 'solver': 'sgd', 'alpha': 8.399864445957506e-06, 'learning_rate': 'constant', 'lr_init': 0.04835952776465952, 'max_iter': 3070}. Best is trial 0 with value: 0.5360699167712938.\n"
     ]
    },
    {
     "name": "stdout",
     "output_type": "stream",
     "text": [
      "🏃 View run Trial - 3 at: http://127.0.0.1:5000/#/experiments/962208812792484732/runs/0afa2d70b29242ef8847b32248fd1dea\n",
      "🧪 View experiment at: http://127.0.0.1:5000/#/experiments/962208812792484732\n"
     ]
    },
    {
     "name": "stderr",
     "output_type": "stream",
     "text": [
      "[I 2025-07-27 17:24:24,384] Trial 4 finished with value: 0.6254166848490622 and parameters: {'n_layers': 3, 'n_units_l0': 20, 'n_units_l1': 27, 'n_units_l2': 18, 'activation': 'tanh', 'solver': 'adam', 'alpha': 2.539057572102415e-05, 'learning_rate': 'adaptive', 'lr_init': 0.00016736010167825804, 'max_iter': 4938}. Best is trial 0 with value: 0.5360699167712938.\n"
     ]
    },
    {
     "name": "stdout",
     "output_type": "stream",
     "text": [
      "🏃 View run Trial - 4 at: http://127.0.0.1:5000/#/experiments/962208812792484732/runs/f036c90a1f7145aeae735414eb71217f\n",
      "🧪 View experiment at: http://127.0.0.1:5000/#/experiments/962208812792484732\n"
     ]
    },
    {
     "name": "stderr",
     "output_type": "stream",
     "text": [
      "[I 2025-07-27 17:24:27,040] Trial 5 finished with value: 0.8498345999057634 and parameters: {'n_layers': 3, 'n_units_l0': 27, 'n_units_l1': 16, 'n_units_l2': 153, 'activation': 'logistic', 'solver': 'sgd', 'alpha': 3.7961668958008125e-06, 'learning_rate': 'constant', 'lr_init': 0.0001551225912648476, 'max_iter': 1693}. Best is trial 0 with value: 0.5360699167712938.\n"
     ]
    },
    {
     "name": "stdout",
     "output_type": "stream",
     "text": [
      "🏃 View run Trial - 5 at: http://127.0.0.1:5000/#/experiments/962208812792484732/runs/1cd561ce65f6449aaa2efe0c25294b7f\n",
      "🧪 View experiment at: http://127.0.0.1:5000/#/experiments/962208812792484732\n"
     ]
    },
    {
     "name": "stderr",
     "output_type": "stream",
     "text": [
      "[I 2025-07-27 17:25:55,855] Trial 6 finished with value: 0.7009552167790695 and parameters: {'n_layers': 1, 'n_units_l0': 120, 'activation': 'tanh', 'solver': 'sgd', 'alpha': 0.006366859160799431, 'learning_rate': 'invscaling', 'lr_init': 0.0036999724314638123, 'max_iter': 2252}. Best is trial 0 with value: 0.5360699167712938.\n"
     ]
    },
    {
     "name": "stdout",
     "output_type": "stream",
     "text": [
      "🏃 View run Trial - 6 at: http://127.0.0.1:5000/#/experiments/962208812792484732/runs/1933fedf6c5649f5b13a9859f0c7c423\n",
      "🧪 View experiment at: http://127.0.0.1:5000/#/experiments/962208812792484732\n"
     ]
    },
    {
     "name": "stderr",
     "output_type": "stream",
     "text": [
      "[I 2025-07-27 17:26:25,115] Trial 7 finished with value: 1.0881103657230768 and parameters: {'n_layers': 1, 'n_units_l0': 21, 'activation': 'tanh', 'solver': 'sgd', 'alpha': 1.7638479543546876e-05, 'learning_rate': 'invscaling', 'lr_init': 0.00017019223026554014, 'max_iter': 1591}. Best is trial 0 with value: 0.5360699167712938.\n"
     ]
    },
    {
     "name": "stdout",
     "output_type": "stream",
     "text": [
      "🏃 View run Trial - 7 at: http://127.0.0.1:5000/#/experiments/962208812792484732/runs/b2e86bccb0a34003ae4b75f08e76f700\n",
      "🧪 View experiment at: http://127.0.0.1:5000/#/experiments/962208812792484732\n"
     ]
    },
    {
     "name": "stderr",
     "output_type": "stream",
     "text": [
      "[I 2025-07-27 17:26:29,098] Trial 8 finished with value: 0.8458817098471159 and parameters: {'n_layers': 1, 'n_units_l0': 211, 'activation': 'logistic', 'solver': 'adam', 'alpha': 0.029026521418263923, 'learning_rate': 'adaptive', 'lr_init': 0.0008995191735587172, 'max_iter': 728}. Best is trial 0 with value: 0.5360699167712938.\n"
     ]
    },
    {
     "name": "stdout",
     "output_type": "stream",
     "text": [
      "🏃 View run Trial - 8 at: http://127.0.0.1:5000/#/experiments/962208812792484732/runs/9e30024ef7c04912a9eaeb32bf50f700\n",
      "🧪 View experiment at: http://127.0.0.1:5000/#/experiments/962208812792484732\n"
     ]
    },
    {
     "name": "stderr",
     "output_type": "stream",
     "text": [
      "[I 2025-07-27 17:26:37,157] Trial 9 finished with value: 0.586564654529041 and parameters: {'n_layers': 1, 'n_units_l0': 51, 'activation': 'tanh', 'solver': 'adam', 'alpha': 1.2898495377182665e-05, 'learning_rate': 'adaptive', 'lr_init': 0.0009324140221663494, 'max_iter': 2690}. Best is trial 0 with value: 0.5360699167712938.\n"
     ]
    },
    {
     "name": "stdout",
     "output_type": "stream",
     "text": [
      "🏃 View run Trial - 9 at: http://127.0.0.1:5000/#/experiments/962208812792484732/runs/da572c6d9e664a78974a131b96df93dd\n",
      "🧪 View experiment at: http://127.0.0.1:5000/#/experiments/962208812792484732\n"
     ]
    },
    {
     "name": "stderr",
     "output_type": "stream",
     "text": [
      "[I 2025-07-27 17:26:40,584] Trial 10 finished with value: 0.5298357727902314 and parameters: {'n_layers': 2, 'n_units_l0': 212, 'n_units_l1': 146, 'activation': 'relu', 'solver': 'adam', 'alpha': 0.0005187095499279183, 'learning_rate': 'constant', 'lr_init': 0.011746931059660688, 'max_iter': 3775}. Best is trial 10 with value: 0.5298357727902314.\n"
     ]
    },
    {
     "name": "stdout",
     "output_type": "stream",
     "text": [
      "🏃 View run Trial - 10 at: http://127.0.0.1:5000/#/experiments/962208812792484732/runs/5802b4f353b94cf493f15c4adca92bf0\n",
      "🧪 View experiment at: http://127.0.0.1:5000/#/experiments/962208812792484732\n"
     ]
    },
    {
     "name": "stderr",
     "output_type": "stream",
     "text": [
      "[I 2025-07-27 17:26:45,878] Trial 11 finished with value: 0.5449926333173838 and parameters: {'n_layers': 2, 'n_units_l0': 251, 'n_units_l1': 137, 'activation': 'relu', 'solver': 'adam', 'alpha': 0.0004665410065184864, 'learning_rate': 'constant', 'lr_init': 0.01203810025074452, 'max_iter': 3885}. Best is trial 10 with value: 0.5298357727902314.\n"
     ]
    },
    {
     "name": "stdout",
     "output_type": "stream",
     "text": [
      "🏃 View run Trial - 11 at: http://127.0.0.1:5000/#/experiments/962208812792484732/runs/33e3068f2bae4a22814f9ad4cbe79c8a\n",
      "🧪 View experiment at: http://127.0.0.1:5000/#/experiments/962208812792484732\n"
     ]
    },
    {
     "name": "stderr",
     "output_type": "stream",
     "text": [
      "[I 2025-07-27 17:26:49,006] Trial 12 finished with value: 0.817591717378637 and parameters: {'n_layers': 2, 'n_units_l0': 146, 'n_units_l1': 84, 'activation': 'relu', 'solver': 'adam', 'alpha': 0.00046874076922631956, 'learning_rate': 'constant', 'lr_init': 0.08805140112998854, 'max_iter': 3718}. Best is trial 10 with value: 0.5298357727902314.\n"
     ]
    },
    {
     "name": "stdout",
     "output_type": "stream",
     "text": [
      "🏃 View run Trial - 12 at: http://127.0.0.1:5000/#/experiments/962208812792484732/runs/e04b2c926cf44776be72baf8807ef566\n",
      "🧪 View experiment at: http://127.0.0.1:5000/#/experiments/962208812792484732\n"
     ]
    },
    {
     "name": "stderr",
     "output_type": "stream",
     "text": [
      "[I 2025-07-27 17:26:54,481] Trial 13 finished with value: 0.5366934960800289 and parameters: {'n_layers': 3, 'n_units_l0': 150, 'n_units_l1': 91, 'n_units_l2': 256, 'activation': 'relu', 'solver': 'adam', 'alpha': 0.002075067091908272, 'learning_rate': 'constant', 'lr_init': 0.011389740369231415, 'max_iter': 263}. Best is trial 10 with value: 0.5298357727902314.\n"
     ]
    },
    {
     "name": "stdout",
     "output_type": "stream",
     "text": [
      "🏃 View run Trial - 13 at: http://127.0.0.1:5000/#/experiments/962208812792484732/runs/d76fabfcfe4e452cab4d827391ff0cc3\n",
      "🧪 View experiment at: http://127.0.0.1:5000/#/experiments/962208812792484732\n"
     ]
    },
    {
     "name": "stderr",
     "output_type": "stream",
     "text": [
      "[I 2025-07-27 17:26:56,065] Trial 14 finished with value: 0.8112193251806618 and parameters: {'n_layers': 2, 'n_units_l0': 61, 'n_units_l1': 254, 'activation': 'relu', 'solver': 'sgd', 'alpha': 0.00011913327527919114, 'learning_rate': 'invscaling', 'lr_init': 0.006464707211029458, 'max_iter': 4761}. Best is trial 10 with value: 0.5298357727902314.\n"
     ]
    },
    {
     "name": "stdout",
     "output_type": "stream",
     "text": [
      "🏃 View run Trial - 14 at: http://127.0.0.1:5000/#/experiments/962208812792484732/runs/2c07fd428ebf4653bb30dc40c6f261ad\n",
      "🧪 View experiment at: http://127.0.0.1:5000/#/experiments/962208812792484732\n"
     ]
    },
    {
     "name": "stderr",
     "output_type": "stream",
     "text": [
      "[I 2025-07-27 17:26:57,554] Trial 15 finished with value: 0.5684024620476531 and parameters: {'n_layers': 2, 'n_units_l0': 98, 'n_units_l1': 48, 'activation': 'relu', 'solver': 'adam', 'alpha': 0.00010267443666209461, 'learning_rate': 'adaptive', 'lr_init': 0.03298678976269927, 'max_iter': 3623}. Best is trial 10 with value: 0.5298357727902314.\n"
     ]
    },
    {
     "name": "stdout",
     "output_type": "stream",
     "text": [
      "🏃 View run Trial - 15 at: http://127.0.0.1:5000/#/experiments/962208812792484732/runs/040f47b18a164ab3b74c208cecc16e44\n",
      "🧪 View experiment at: http://127.0.0.1:5000/#/experiments/962208812792484732\n"
     ]
    },
    {
     "name": "stderr",
     "output_type": "stream",
     "text": [
      "[I 2025-07-27 17:27:00,845] Trial 16 finished with value: 0.5630947016958547 and parameters: {'n_layers': 2, 'n_units_l0': 190, 'n_units_l1': 129, 'activation': 'relu', 'solver': 'sgd', 'alpha': 0.0019307521256198739, 'learning_rate': 'constant', 'lr_init': 0.01840104887046059, 'max_iter': 2081}. Best is trial 10 with value: 0.5298357727902314.\n"
     ]
    },
    {
     "name": "stdout",
     "output_type": "stream",
     "text": [
      "🏃 View run Trial - 16 at: http://127.0.0.1:5000/#/experiments/962208812792484732/runs/5e53e5af7c534d968bf5d629251bbeed\n",
      "🧪 View experiment at: http://127.0.0.1:5000/#/experiments/962208812792484732\n"
     ]
    },
    {
     "name": "stderr",
     "output_type": "stream",
     "text": [
      "[I 2025-07-27 17:27:03,474] Trial 17 finished with value: 0.8490963556200951 and parameters: {'n_layers': 3, 'n_units_l0': 36, 'n_units_l1': 47, 'n_units_l2': 28, 'activation': 'logistic', 'solver': 'adam', 'alpha': 0.0973822020656517, 'learning_rate': 'adaptive', 'lr_init': 0.0977494667200521, 'max_iter': 4323}. Best is trial 10 with value: 0.5298357727902314.\n"
     ]
    },
    {
     "name": "stdout",
     "output_type": "stream",
     "text": [
      "🏃 View run Trial - 17 at: http://127.0.0.1:5000/#/experiments/962208812792484732/runs/b634d691104e4922b422c76b5a42e324\n",
      "🧪 View experiment at: http://127.0.0.1:5000/#/experiments/962208812792484732\n"
     ]
    },
    {
     "name": "stderr",
     "output_type": "stream",
     "text": [
      "[I 2025-07-27 17:27:07,917] Trial 18 finished with value: 0.5455333627682329 and parameters: {'n_layers': 3, 'n_units_l0': 174, 'n_units_l1': 154, 'n_units_l2': 63, 'activation': 'relu', 'solver': 'adam', 'alpha': 0.0016716450252618272, 'learning_rate': 'constant', 'lr_init': 0.0059781310291027534, 'max_iter': 3131}. Best is trial 10 with value: 0.5298357727902314.\n"
     ]
    },
    {
     "name": "stdout",
     "output_type": "stream",
     "text": [
      "🏃 View run Trial - 18 at: http://127.0.0.1:5000/#/experiments/962208812792484732/runs/0b8a6ef0bb904a228f5b9967787cc0a2\n",
      "🧪 View experiment at: http://127.0.0.1:5000/#/experiments/962208812792484732\n"
     ]
    },
    {
     "name": "stderr",
     "output_type": "stream",
     "text": [
      "[I 2025-07-27 17:30:58,635] Trial 19 finished with value: 0.7730279913621299 and parameters: {'n_layers': 2, 'n_units_l0': 243, 'n_units_l1': 90, 'activation': 'relu', 'solver': 'sgd', 'alpha': 6.801173337951034e-05, 'learning_rate': 'invscaling', 'lr_init': 0.0016754048841238665, 'max_iter': 2765}. Best is trial 10 with value: 0.5298357727902314.\n"
     ]
    },
    {
     "name": "stdout",
     "output_type": "stream",
     "text": [
      "🏃 View run Trial - 19 at: http://127.0.0.1:5000/#/experiments/962208812792484732/runs/a64c2db07ec64009823c8122b22e3327\n",
      "🧪 View experiment at: http://127.0.0.1:5000/#/experiments/962208812792484732\n"
     ]
    },
    {
     "name": "stderr",
     "output_type": "stream",
     "text": [
      "[I 2025-07-27 17:31:01,234] Trial 20 finished with value: 0.5728776159539486 and parameters: {'n_layers': 2, 'n_units_l0': 100, 'n_units_l1': 63, 'activation': 'relu', 'solver': 'adam', 'alpha': 0.0002998658044969287, 'learning_rate': 'adaptive', 'lr_init': 0.04788944563054388, 'max_iter': 4410}. Best is trial 10 with value: 0.5298357727902314.\n"
     ]
    },
    {
     "name": "stdout",
     "output_type": "stream",
     "text": [
      "🏃 View run Trial - 20 at: http://127.0.0.1:5000/#/experiments/962208812792484732/runs/ba3fe8c81a8e4d3ab06c691056b8c774\n",
      "🧪 View experiment at: http://127.0.0.1:5000/#/experiments/962208812792484732\n"
     ]
    },
    {
     "name": "stderr",
     "output_type": "stream",
     "text": [
      "[I 2025-07-27 17:31:05,484] Trial 21 finished with value: 0.5294955428402845 and parameters: {'n_layers': 3, 'n_units_l0': 157, 'n_units_l1': 105, 'n_units_l2': 245, 'activation': 'relu', 'solver': 'adam', 'alpha': 0.0019676546308791515, 'learning_rate': 'constant', 'lr_init': 0.010895231461708607, 'max_iter': 416}. Best is trial 21 with value: 0.5294955428402845.\n"
     ]
    },
    {
     "name": "stdout",
     "output_type": "stream",
     "text": [
      "🏃 View run Trial - 21 at: http://127.0.0.1:5000/#/experiments/962208812792484732/runs/25e0019c5ce7477ebde81d3ff6209aec\n",
      "🧪 View experiment at: http://127.0.0.1:5000/#/experiments/962208812792484732\n"
     ]
    },
    {
     "name": "stderr",
     "output_type": "stream",
     "text": [
      "[I 2025-07-27 17:31:08,612] Trial 22 finished with value: 0.5712102066105168 and parameters: {'n_layers': 3, 'n_units_l0': 143, 'n_units_l1': 111, 'n_units_l2': 89, 'activation': 'relu', 'solver': 'adam', 'alpha': 0.005437984896677509, 'learning_rate': 'constant', 'lr_init': 0.010016924566965407, 'max_iter': 406}. Best is trial 21 with value: 0.5294955428402845.\n"
     ]
    },
    {
     "name": "stdout",
     "output_type": "stream",
     "text": [
      "🏃 View run Trial - 22 at: http://127.0.0.1:5000/#/experiments/962208812792484732/runs/717bd886c955437bb7decc36007769d6\n",
      "🧪 View experiment at: http://127.0.0.1:5000/#/experiments/962208812792484732\n"
     ]
    },
    {
     "name": "stderr",
     "output_type": "stream",
     "text": [
      "[I 2025-07-27 17:31:13,873] Trial 23 finished with value: 0.5761765087870947 and parameters: {'n_layers': 2, 'n_units_l0': 190, 'n_units_l1': 159, 'activation': 'relu', 'solver': 'adam', 'alpha': 1.2519159499971138e-06, 'learning_rate': 'constant', 'lr_init': 0.017367342397009645, 'max_iter': 1214}. Best is trial 21 with value: 0.5294955428402845.\n"
     ]
    },
    {
     "name": "stdout",
     "output_type": "stream",
     "text": [
      "🏃 View run Trial - 23 at: http://127.0.0.1:5000/#/experiments/962208812792484732/runs/235d01ca31294556ae6cafcef85a86e3\n",
      "🧪 View experiment at: http://127.0.0.1:5000/#/experiments/962208812792484732\n"
     ]
    },
    {
     "name": "stderr",
     "output_type": "stream",
     "text": [
      "[I 2025-07-27 17:31:18,451] Trial 24 finished with value: 0.5716980255217983 and parameters: {'n_layers': 3, 'n_units_l0': 119, 'n_units_l1': 203, 'n_units_l2': 49, 'activation': 'relu', 'solver': 'adam', 'alpha': 0.0008815478662701056, 'learning_rate': 'constant', 'lr_init': 0.005002362320245279, 'max_iter': 709}. Best is trial 21 with value: 0.5294955428402845.\n"
     ]
    },
    {
     "name": "stdout",
     "output_type": "stream",
     "text": [
      "🏃 View run Trial - 24 at: http://127.0.0.1:5000/#/experiments/962208812792484732/runs/c38433df3c614f2fa60e16fbb40ea4b3\n",
      "🧪 View experiment at: http://127.0.0.1:5000/#/experiments/962208812792484732\n"
     ]
    },
    {
     "name": "stderr",
     "output_type": "stream",
     "text": [
      "[I 2025-07-27 17:31:27,500] Trial 25 finished with value: 0.7729826248969842 and parameters: {'n_layers': 2, 'n_units_l0': 247, 'n_units_l1': 73, 'activation': 'logistic', 'solver': 'adam', 'alpha': 0.0002753885278657617, 'learning_rate': 'constant', 'lr_init': 0.031465829235437275, 'max_iter': 1463}. Best is trial 21 with value: 0.5294955428402845.\n"
     ]
    },
    {
     "name": "stdout",
     "output_type": "stream",
     "text": [
      "🏃 View run Trial - 25 at: http://127.0.0.1:5000/#/experiments/962208812792484732/runs/bd9e4d0adace4fc3b7ddfa11e1f6e610\n",
      "🧪 View experiment at: http://127.0.0.1:5000/#/experiments/962208812792484732\n"
     ]
    },
    {
     "name": "stderr",
     "output_type": "stream",
     "text": [
      "[I 2025-07-27 17:31:31,639] Trial 26 finished with value: 0.5851246741835907 and parameters: {'n_layers': 3, 'n_units_l0': 79, 'n_units_l1': 116, 'n_units_l2': 251, 'activation': 'relu', 'solver': 'sgd', 'alpha': 0.003983662109917326, 'learning_rate': 'constant', 'lr_init': 0.009630941162047754, 'max_iter': 2035}. Best is trial 21 with value: 0.5294955428402845.\n"
     ]
    },
    {
     "name": "stdout",
     "output_type": "stream",
     "text": [
      "🏃 View run Trial - 26 at: http://127.0.0.1:5000/#/experiments/962208812792484732/runs/2aafe6966b3e4d6b9d01c007628baa91\n",
      "🧪 View experiment at: http://127.0.0.1:5000/#/experiments/962208812792484732\n"
     ]
    },
    {
     "name": "stderr",
     "output_type": "stream",
     "text": [
      "[I 2025-07-27 17:31:33,332] Trial 27 finished with value: 0.6378784111758887 and parameters: {'n_layers': 2, 'n_units_l0': 167, 'n_units_l1': 58, 'activation': 'relu', 'solver': 'adam', 'alpha': 0.01947692944315265, 'learning_rate': 'constant', 'lr_init': 0.0024859935421740883, 'max_iter': 3264}. Best is trial 21 with value: 0.5294955428402845.\n"
     ]
    },
    {
     "name": "stdout",
     "output_type": "stream",
     "text": [
      "🏃 View run Trial - 27 at: http://127.0.0.1:5000/#/experiments/962208812792484732/runs/b31f7ad2f8034d82a4a6490b6356111e\n",
      "🧪 View experiment at: http://127.0.0.1:5000/#/experiments/962208812792484732\n"
     ]
    },
    {
     "name": "stderr",
     "output_type": "stream",
     "text": [
      "[I 2025-07-27 17:32:20,865] Trial 28 finished with value: 0.6376072842743989 and parameters: {'n_layers': 2, 'n_units_l0': 125, 'n_units_l1': 187, 'activation': 'relu', 'solver': 'sgd', 'alpha': 0.0009326622699064495, 'learning_rate': 'invscaling', 'lr_init': 0.05783606803144429, 'max_iter': 1174}. Best is trial 21 with value: 0.5294955428402845.\n"
     ]
    },
    {
     "name": "stdout",
     "output_type": "stream",
     "text": [
      "🏃 View run Trial - 28 at: http://127.0.0.1:5000/#/experiments/962208812792484732/runs/bee0725ad9f042a0a6bca371c21448f7\n",
      "🧪 View experiment at: http://127.0.0.1:5000/#/experiments/962208812792484732\n"
     ]
    },
    {
     "name": "stderr",
     "output_type": "stream",
     "text": [
      "[I 2025-07-27 17:32:36,442] Trial 29 finished with value: 0.5884095723818534 and parameters: {'n_layers': 1, 'n_units_l0': 197, 'activation': 'logistic', 'solver': 'sgd', 'alpha': 5.297523653272873e-05, 'learning_rate': 'adaptive', 'lr_init': 0.030553438098477388, 'max_iter': 853}. Best is trial 21 with value: 0.5294955428402845.\n"
     ]
    },
    {
     "name": "stdout",
     "output_type": "stream",
     "text": [
      "🏃 View run Trial - 29 at: http://127.0.0.1:5000/#/experiments/962208812792484732/runs/bd8a84368ecd4dadab2f93a639e582d2\n",
      "🧪 View experiment at: http://127.0.0.1:5000/#/experiments/962208812792484732\n"
     ]
    },
    {
     "name": "stderr",
     "output_type": "stream",
     "text": [
      "[I 2025-07-27 17:32:39,516] Trial 30 finished with value: 0.542470644259093 and parameters: {'n_layers': 3, 'n_units_l0': 44, 'n_units_l1': 103, 'n_units_l2': 114, 'activation': 'relu', 'solver': 'adam', 'alpha': 0.0009120950083497729, 'learning_rate': 'adaptive', 'lr_init': 0.019746681587312336, 'max_iter': 228}. Best is trial 21 with value: 0.5294955428402845.\n"
     ]
    },
    {
     "name": "stdout",
     "output_type": "stream",
     "text": [
      "🏃 View run Trial - 30 at: http://127.0.0.1:5000/#/experiments/962208812792484732/runs/27da95c01fd24133be3b337ddc8cb5cf\n",
      "🧪 View experiment at: http://127.0.0.1:5000/#/experiments/962208812792484732\n"
     ]
    },
    {
     "name": "stderr",
     "output_type": "stream",
     "text": [
      "[I 2025-07-27 17:32:43,649] Trial 31 finished with value: 0.5950879685331352 and parameters: {'n_layers': 3, 'n_units_l0': 142, 'n_units_l1': 86, 'n_units_l2': 217, 'activation': 'relu', 'solver': 'adam', 'alpha': 0.0021124783066903533, 'learning_rate': 'constant', 'lr_init': 0.01148651134514793, 'max_iter': 424}. Best is trial 21 with value: 0.5294955428402845.\n"
     ]
    },
    {
     "name": "stdout",
     "output_type": "stream",
     "text": [
      "🏃 View run Trial - 31 at: http://127.0.0.1:5000/#/experiments/962208812792484732/runs/d3f2fdcb4f134aa78c0d7ef51069f26a\n",
      "🧪 View experiment at: http://127.0.0.1:5000/#/experiments/962208812792484732\n"
     ]
    },
    {
     "name": "stderr",
     "output_type": "stream",
     "text": [
      "[I 2025-07-27 17:32:47,723] Trial 32 finished with value: 0.5733431316657394 and parameters: {'n_layers': 3, 'n_units_l0': 160, 'n_units_l1': 100, 'n_units_l2': 169, 'activation': 'relu', 'solver': 'adam', 'alpha': 0.003649285390707803, 'learning_rate': 'constant', 'lr_init': 0.015026460469165963, 'max_iter': 207}. Best is trial 21 with value: 0.5294955428402845.\n"
     ]
    },
    {
     "name": "stdout",
     "output_type": "stream",
     "text": [
      "🏃 View run Trial - 32 at: http://127.0.0.1:5000/#/experiments/962208812792484732/runs/c122f8aee57b4f0f8cd624c1b61c6787\n",
      "🧪 View experiment at: http://127.0.0.1:5000/#/experiments/962208812792484732\n"
     ]
    },
    {
     "name": "stderr",
     "output_type": "stream",
     "text": [
      "[I 2025-07-27 17:32:53,641] Trial 33 finished with value: 0.5723434874005631 and parameters: {'n_layers': 3, 'n_units_l0': 215, 'n_units_l1': 150, 'n_units_l2': 119, 'activation': 'relu', 'solver': 'adam', 'alpha': 0.00018996684274743997, 'learning_rate': 'constant', 'lr_init': 0.007254769903915957, 'max_iter': 839}. Best is trial 21 with value: 0.5294955428402845.\n"
     ]
    },
    {
     "name": "stdout",
     "output_type": "stream",
     "text": [
      "🏃 View run Trial - 33 at: http://127.0.0.1:5000/#/experiments/962208812792484732/runs/e1c63e074ad04dfb94859b2040b5beb9\n",
      "🧪 View experiment at: http://127.0.0.1:5000/#/experiments/962208812792484732\n"
     ]
    },
    {
     "name": "stderr",
     "output_type": "stream",
     "text": [
      "[I 2025-07-27 17:32:56,837] Trial 34 finished with value: 0.5681066700744394 and parameters: {'n_layers': 2, 'n_units_l0': 89, 'n_units_l1': 76, 'activation': 'relu', 'solver': 'adam', 'alpha': 0.011277511629947185, 'learning_rate': 'constant', 'lr_init': 0.026833941636664787, 'max_iter': 525}. Best is trial 21 with value: 0.5294955428402845.\n"
     ]
    },
    {
     "name": "stdout",
     "output_type": "stream",
     "text": [
      "🏃 View run Trial - 34 at: http://127.0.0.1:5000/#/experiments/962208812792484732/runs/c23d5285c8a34237ae721edc7c9630c1\n",
      "🧪 View experiment at: http://127.0.0.1:5000/#/experiments/962208812792484732\n"
     ]
    },
    {
     "name": "stderr",
     "output_type": "stream",
     "text": [
      "[I 2025-07-27 17:33:05,982] Trial 35 finished with value: 0.5888645062518032 and parameters: {'n_layers': 3, 'n_units_l0': 221, 'n_units_l1': 115, 'n_units_l2': 253, 'activation': 'relu', 'solver': 'sgd', 'alpha': 0.0006742489245005445, 'learning_rate': 'constant', 'lr_init': 0.003173172200598628, 'max_iter': 1027}. Best is trial 21 with value: 0.5294955428402845.\n"
     ]
    },
    {
     "name": "stdout",
     "output_type": "stream",
     "text": [
      "🏃 View run Trial - 35 at: http://127.0.0.1:5000/#/experiments/962208812792484732/runs/d1b845c3c97644d1b5cd5684ae9b9476\n",
      "🧪 View experiment at: http://127.0.0.1:5000/#/experiments/962208812792484732\n"
     ]
    },
    {
     "name": "stderr",
     "output_type": "stream",
     "text": [
      "[I 2025-07-27 17:33:09,438] Trial 36 finished with value: 0.5731778372471186 and parameters: {'n_layers': 3, 'n_units_l0': 74, 'n_units_l1': 31, 'n_units_l2': 168, 'activation': 'tanh', 'solver': 'adam', 'alpha': 0.002348763190430029, 'learning_rate': 'adaptive', 'lr_init': 0.004278147668653317, 'max_iter': 2370}. Best is trial 21 with value: 0.5294955428402845.\n"
     ]
    },
    {
     "name": "stdout",
     "output_type": "stream",
     "text": [
      "🏃 View run Trial - 36 at: http://127.0.0.1:5000/#/experiments/962208812792484732/runs/70f001eba1784268ae2da5ad579b4d5a\n",
      "🧪 View experiment at: http://127.0.0.1:5000/#/experiments/962208812792484732\n"
     ]
    },
    {
     "name": "stderr",
     "output_type": "stream",
     "text": [
      "[I 2025-07-27 17:33:12,212] Trial 37 finished with value: 0.5362666603381445 and parameters: {'n_layers': 2, 'n_units_l0': 118, 'n_units_l1': 171, 'activation': 'relu', 'solver': 'sgd', 'alpha': 0.008403726642747446, 'learning_rate': 'constant', 'lr_init': 0.05138814406688031, 'max_iter': 1447}. Best is trial 21 with value: 0.5294955428402845.\n"
     ]
    },
    {
     "name": "stdout",
     "output_type": "stream",
     "text": [
      "🏃 View run Trial - 37 at: http://127.0.0.1:5000/#/experiments/962208812792484732/runs/65698463ce0e42c4b111dbc6de24912f\n",
      "🧪 View experiment at: http://127.0.0.1:5000/#/experiments/962208812792484732\n"
     ]
    },
    {
     "name": "stderr",
     "output_type": "stream",
     "text": [
      "[I 2025-07-27 17:33:23,676] Trial 38 finished with value: 0.6187008596823722 and parameters: {'n_layers': 2, 'n_units_l0': 116, 'n_units_l1': 241, 'activation': 'tanh', 'solver': 'sgd', 'alpha': 0.049393545856560514, 'learning_rate': 'adaptive', 'lr_init': 0.06130073988702184, 'max_iter': 1812}. Best is trial 21 with value: 0.5294955428402845.\n"
     ]
    },
    {
     "name": "stdout",
     "output_type": "stream",
     "text": [
      "🏃 View run Trial - 38 at: http://127.0.0.1:5000/#/experiments/962208812792484732/runs/0db4b6b345934ce3bc1d625ae10b07b8\n",
      "🧪 View experiment at: http://127.0.0.1:5000/#/experiments/962208812792484732\n"
     ]
    },
    {
     "name": "stderr",
     "output_type": "stream",
     "text": [
      "[I 2025-07-27 17:33:57,936] Trial 39 finished with value: 0.7767036269090728 and parameters: {'n_layers': 1, 'n_units_l0': 106, 'activation': 'logistic', 'solver': 'sgd', 'alpha': 0.013858412198514134, 'learning_rate': 'invscaling', 'lr_init': 0.0398179981826639, 'max_iter': 1439}. Best is trial 21 with value: 0.5294955428402845.\n"
     ]
    },
    {
     "name": "stdout",
     "output_type": "stream",
     "text": [
      "🏃 View run Trial - 39 at: http://127.0.0.1:5000/#/experiments/962208812792484732/runs/ce720adf4eaf4ad1b4e1bc4694f9c72e\n",
      "🧪 View experiment at: http://127.0.0.1:5000/#/experiments/962208812792484732\n"
     ]
    },
    {
     "name": "stderr",
     "output_type": "stream",
     "text": [
      "[I 2025-07-27 17:34:00,492] Trial 40 finished with value: 0.5656347938342876 and parameters: {'n_layers': 2, 'n_units_l0': 131, 'n_units_l1': 179, 'activation': 'relu', 'solver': 'sgd', 'alpha': 0.008956934918978409, 'learning_rate': 'constant', 'lr_init': 0.022626978102553687, 'max_iter': 1775}. Best is trial 21 with value: 0.5294955428402845.\n"
     ]
    },
    {
     "name": "stdout",
     "output_type": "stream",
     "text": [
      "🏃 View run Trial - 40 at: http://127.0.0.1:5000/#/experiments/962208812792484732/runs/0bc1753f15a247a58317ac6c2e11e37d\n",
      "🧪 View experiment at: http://127.0.0.1:5000/#/experiments/962208812792484732\n"
     ]
    },
    {
     "name": "stderr",
     "output_type": "stream",
     "text": [
      "[I 2025-07-27 17:34:04,483] Trial 41 finished with value: 0.5509379303040106 and parameters: {'n_layers': 2, 'n_units_l0': 165, 'n_units_l1': 130, 'activation': 'relu', 'solver': 'sgd', 'alpha': 0.0013007514089415275, 'learning_rate': 'constant', 'lr_init': 0.007840058968286233, 'max_iter': 615}. Best is trial 21 with value: 0.5294955428402845.\n"
     ]
    },
    {
     "name": "stdout",
     "output_type": "stream",
     "text": [
      "🏃 View run Trial - 41 at: http://127.0.0.1:5000/#/experiments/962208812792484732/runs/6afdf7d5a9ea4ea49c5688f03eeb1205\n",
      "🧪 View experiment at: http://127.0.0.1:5000/#/experiments/962208812792484732\n"
     ]
    },
    {
     "name": "stderr",
     "output_type": "stream",
     "text": [
      "[I 2025-07-27 17:34:06,622] Trial 42 finished with value: 0.5449738087592537 and parameters: {'n_layers': 1, 'n_units_l0': 181, 'activation': 'relu', 'solver': 'sgd', 'alpha': 0.002960489414689149, 'learning_rate': 'constant', 'lr_init': 0.012965179347205273, 'max_iter': 946}. Best is trial 21 with value: 0.5294955428402845.\n"
     ]
    },
    {
     "name": "stdout",
     "output_type": "stream",
     "text": [
      "🏃 View run Trial - 42 at: http://127.0.0.1:5000/#/experiments/962208812792484732/runs/1dc7d2dab119422c9ae3ff9b541dd287\n",
      "🧪 View experiment at: http://127.0.0.1:5000/#/experiments/962208812792484732\n"
     ]
    },
    {
     "name": "stderr",
     "output_type": "stream",
     "text": [
      "[I 2025-07-27 17:34:09,872] Trial 43 finished with value: 0.8144138369673714 and parameters: {'n_layers': 3, 'n_units_l0': 147, 'n_units_l1': 170, 'n_units_l2': 44, 'activation': 'relu', 'solver': 'sgd', 'alpha': 0.006607667380561693, 'learning_rate': 'constant', 'lr_init': 0.00031604198237968295, 'max_iter': 1301}. Best is trial 21 with value: 0.5294955428402845.\n"
     ]
    },
    {
     "name": "stdout",
     "output_type": "stream",
     "text": [
      "🏃 View run Trial - 43 at: http://127.0.0.1:5000/#/experiments/962208812792484732/runs/42c859edfb7f4fdd8b49c09022d78fb5\n",
      "🧪 View experiment at: http://127.0.0.1:5000/#/experiments/962208812792484732\n"
     ]
    },
    {
     "name": "stderr",
     "output_type": "stream",
     "text": [
      "[I 2025-07-27 17:34:17,028] Trial 44 finished with value: 0.6991232834208075 and parameters: {'n_layers': 2, 'n_units_l0': 216, 'n_units_l1': 212, 'activation': 'tanh', 'solver': 'adam', 'alpha': 0.00046175769320144756, 'learning_rate': 'constant', 'lr_init': 0.06521995272204968, 'max_iter': 2877}. Best is trial 21 with value: 0.5294955428402845.\n"
     ]
    },
    {
     "name": "stdout",
     "output_type": "stream",
     "text": [
      "🏃 View run Trial - 44 at: http://127.0.0.1:5000/#/experiments/962208812792484732/runs/b6971b5e1d664da0a976fe2d0c2fa4c8\n",
      "🧪 View experiment at: http://127.0.0.1:5000/#/experiments/962208812792484732\n"
     ]
    },
    {
     "name": "stderr",
     "output_type": "stream",
     "text": [
      "[I 2025-07-27 17:34:19,479] Trial 45 finished with value: 0.5377729363901895 and parameters: {'n_layers': 2, 'n_units_l0': 151, 'n_units_l1': 132, 'activation': 'relu', 'solver': 'sgd', 'alpha': 0.0013235460611659732, 'learning_rate': 'constant', 'lr_init': 0.04670582911898747, 'max_iter': 3474}. Best is trial 21 with value: 0.5294955428402845.\n"
     ]
    },
    {
     "name": "stdout",
     "output_type": "stream",
     "text": [
      "🏃 View run Trial - 45 at: http://127.0.0.1:5000/#/experiments/962208812792484732/runs/580cf88c53ce42c49459b9e6443e0fb3\n",
      "🧪 View experiment at: http://127.0.0.1:5000/#/experiments/962208812792484732\n"
     ]
    },
    {
     "name": "stderr",
     "output_type": "stream",
     "text": [
      "[I 2025-07-27 17:34:21,515] Trial 46 finished with value: 0.5895279326002243 and parameters: {'n_layers': 1, 'n_units_l0': 254, 'activation': 'relu', 'solver': 'adam', 'alpha': 0.0001643240782925168, 'learning_rate': 'adaptive', 'lr_init': 0.024791773425998878, 'max_iter': 4092}. Best is trial 21 with value: 0.5294955428402845.\n"
     ]
    },
    {
     "name": "stdout",
     "output_type": "stream",
     "text": [
      "🏃 View run Trial - 46 at: http://127.0.0.1:5000/#/experiments/962208812792484732/runs/2bd75a9dbc5a4ef899fd33d2826275d3\n",
      "🧪 View experiment at: http://127.0.0.1:5000/#/experiments/962208812792484732\n"
     ]
    },
    {
     "name": "stderr",
     "output_type": "stream",
     "text": [
      "[I 2025-07-27 17:34:24,439] Trial 47 finished with value: 0.5386953674846974 and parameters: {'n_layers': 3, 'n_units_l0': 68, 'n_units_l1': 95, 'n_units_l2': 84, 'activation': 'relu', 'solver': 'adam', 'alpha': 0.03791713571705407, 'learning_rate': 'constant', 'lr_init': 0.0014051792041198112, 'max_iter': 2419}. Best is trial 21 with value: 0.5294955428402845.\n"
     ]
    },
    {
     "name": "stdout",
     "output_type": "stream",
     "text": [
      "🏃 View run Trial - 47 at: http://127.0.0.1:5000/#/experiments/962208812792484732/runs/58b23f64c4d54dc0bfd5b96be9d38ca4\n",
      "🧪 View experiment at: http://127.0.0.1:5000/#/experiments/962208812792484732\n"
     ]
    },
    {
     "name": "stderr",
     "output_type": "stream",
     "text": [
      "[I 2025-07-27 17:34:25,079] Trial 48 finished with value: 0.8063547206294237 and parameters: {'n_layers': 2, 'n_units_l0': 92, 'n_units_l1': 73, 'activation': 'relu', 'solver': 'sgd', 'alpha': 0.004591462029252592, 'learning_rate': 'invscaling', 'lr_init': 0.015513466546379516, 'max_iter': 1064}. Best is trial 21 with value: 0.5294955428402845.\n"
     ]
    },
    {
     "name": "stdout",
     "output_type": "stream",
     "text": [
      "🏃 View run Trial - 48 at: http://127.0.0.1:5000/#/experiments/962208812792484732/runs/6bf7d0dfa3de4b5998b5b710edafc616\n",
      "🧪 View experiment at: http://127.0.0.1:5000/#/experiments/962208812792484732\n"
     ]
    },
    {
     "name": "stderr",
     "output_type": "stream",
     "text": [
      "[I 2025-07-27 17:34:33,572] Trial 49 finished with value: 0.8499966655848734 and parameters: {'n_layers': 3, 'n_units_l0': 111, 'n_units_l1': 145, 'n_units_l2': 185, 'activation': 'logistic', 'solver': 'adam', 'alpha': 0.01874373507365026, 'learning_rate': 'adaptive', 'lr_init': 0.08052943057242273, 'max_iter': 4986}. Best is trial 21 with value: 0.5294955428402845.\n"
     ]
    },
    {
     "name": "stdout",
     "output_type": "stream",
     "text": [
      "🏃 View run Trial - 49 at: http://127.0.0.1:5000/#/experiments/962208812792484732/runs/cb766aded04948e7b96356fdf43e0c07\n",
      "🧪 View experiment at: http://127.0.0.1:5000/#/experiments/962208812792484732\n",
      "Melhores hiperparâmetros:\n",
      "{'n_layers': 3, 'n_units_l0': 157, 'n_units_l1': 105, 'n_units_l2': 245, 'activation': 'relu', 'solver': 'adam', 'alpha': 0.0019676546308791515, 'learning_rate': 'constant', 'lr_init': 0.010895231461708607, 'max_iter': 416}\n",
      "Melhor RMSE: 0.5295\n",
      "🏃 View run MLP optimization at: http://127.0.0.1:5000/#/experiments/962208812792484732/runs/d68bd399e788412b8d8669496652b0a1\n",
      "🧪 View experiment at: http://127.0.0.1:5000/#/experiments/962208812792484732\n"
     ]
    }
   ],
   "source": [
    "study = optuna.create_study(\n",
    "    direction='minimize',\n",
    "    sampler=optuna.samplers.TPESampler(seed=42),\n",
    "    pruner=optuna.pruners.MedianPruner(\n",
    "        n_startup_trials=20,\n",
    "        n_warmup_steps=10,\n",
    "        interval_steps=5\n",
    "    )\n",
    ")\n",
    "\n",
    "mlflow.set_tracking_uri('http://127.0.0.1:5000')\n",
    "mlflow.set_experiment('DSWA - Competicao3')\n",
    "with mlflow.start_run(run_name='MLP optimization'):\n",
    "    study.optimize(objective, n_trials=50)\n",
    "    \n",
    "    print(\"Melhores hiperparâmetros:\")\n",
    "    print(study.best_params)\n",
    "    print(f\"Melhor RMSE: {study.best_value:.4f}\")\n",
    "\n",
    "    # Loga os melhores parâmetros e métrica no MLflow\n",
    "    mlflow.log_params(study.best_params)\n",
    "    mlflow.log_metric(\"best_rmse\", study.best_value)\n"
   ]
  }
 ],
 "metadata": {
  "kernelspec": {
   "display_name": "Python 3",
   "language": "python",
   "name": "python3"
  },
  "language_info": {
   "codemirror_mode": {
    "name": "ipython",
    "version": 3
   },
   "file_extension": ".py",
   "mimetype": "text/x-python",
   "name": "python",
   "nbconvert_exporter": "python",
   "pygments_lexer": "ipython3",
   "version": "3.11.5"
  }
 },
 "nbformat": 4,
 "nbformat_minor": 5
}
