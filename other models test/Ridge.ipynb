{
 "cells": [
  {
   "cell_type": "code",
   "execution_count": 1,
   "id": "30e67c73",
   "metadata": {},
   "outputs": [],
   "source": [
    "from xgboost import XGBRegressor\n",
    "from sklearn.model_selection import train_test_split\n",
    "from sklearn.metrics import mean_squared_error\n",
    "import pandas as pd\n",
    "from sklearn.model_selection import cross_val_score, KFold\n",
    "from sklearn.metrics import make_scorer, mean_squared_error\n",
    "import numpy as np\n",
    "import mlflow"
   ]
  },
  {
   "cell_type": "code",
   "execution_count": 2,
   "id": "a8b905db",
   "metadata": {},
   "outputs": [],
   "source": [
    "train = pd.read_csv('../data/train.csv')"
   ]
  },
  {
   "cell_type": "code",
   "execution_count": 3,
   "id": "d6633906",
   "metadata": {},
   "outputs": [],
   "source": [
    "X = train.drop(columns=[\n",
    "    'ID', 'target1', 'target2', 'target3', 'target4', 'target5',\n",
    "    'target6', 'target7', 'target8', 'target9', 'target10', 'target11'\n",
    "])\n",
    "\n",
    "y = train.drop(columns=[\n",
    "    'ID', 'feature2', 'feature3', 'feature4', 'feature5', 'feature6',\n",
    "    'feature7', 'feature8', 'feature9', 'feature10', 'feature11',\n",
    "    'feature12', 'feature13', 'feature14', 'feature15'\n",
    "])\n"
   ]
  },
  {
   "cell_type": "code",
   "execution_count": 4,
   "id": "13fa9eb1",
   "metadata": {},
   "outputs": [],
   "source": [
    "#X_train, X_test, y_train, y_test = train_test_split(X, y, test_size=0.2)"
   ]
  },
  {
   "cell_type": "markdown",
   "id": "61d7ff3b",
   "metadata": {},
   "source": [
    "Hyper-param optmization"
   ]
  },
  {
   "cell_type": "code",
   "execution_count": 5,
   "id": "8e58d24f",
   "metadata": {},
   "outputs": [
    {
     "name": "stderr",
     "output_type": "stream",
     "text": [
      "c:\\Users\\Guilherme\\AppData\\Local\\Programs\\Python\\Python311\\Lib\\site-packages\\tqdm\\auto.py:21: TqdmWarning: IProgress not found. Please update jupyter and ipywidgets. See https://ipywidgets.readthedocs.io/en/stable/user_install.html\n",
      "  from .autonotebook import tqdm as notebook_tqdm\n"
     ]
    }
   ],
   "source": [
    "import optuna\n",
    "from sklearn.linear_model import Ridge\n",
    "from sklearn.multioutput import MultiOutputRegressor\n",
    "from sklearn.model_selection import KFold\n",
    "import mlflow\n",
    "import numpy as np\n",
    "import warnings\n",
    "from sklearn.metrics import root_mean_squared_error\n",
    "\n",
    "warnings.filterwarnings('ignore')\n",
    "\n",
    "def objective(trial):\n",
    "    with mlflow.start_run(run_name=f'Trial-{trial.number}', nested=True):\n",
    "        params = {\n",
    "            'alpha': trial.suggest_float('alpha', 1e-4, 10.0, log=True),\n",
    "            'fit_intercept': trial.suggest_categorical('fit_intercept', [True, False]),\n",
    "            'solver': trial.suggest_categorical('solver', ['auto', 'svd', 'cholesky', 'lsqr', 'sparse_cg', 'sag', 'saga']),\n",
    "            'max_iter': trial.suggest_int('max_iter', 100, 5000),\n",
    "            'tol': trial.suggest_float('tol', 1e-6, 1e-2, log=True),\n",
    "            'random_state': 42\n",
    "        }\n",
    "\n",
    "        # Remove max_iter para solvers que não precisam\n",
    "        if params['solver'] in ['svd', 'cholesky']:\n",
    "            params.pop('max_iter')\n",
    "            params.pop('tol')\n",
    "\n",
    "        mlflow.log_params(params)\n",
    "\n",
    "        base = Ridge(**params)\n",
    "        model = MultiOutputRegressor(base, n_jobs=-1)\n",
    "\n",
    "        kf = KFold(n_splits=10, shuffle=True, random_state=42)\n",
    "        rmses = []\n",
    "\n",
    "        for train_idx, val_idx in kf.split(X):\n",
    "            X_tr, X_va = X.iloc[train_idx], X.iloc[val_idx]\n",
    "            y_tr, y_va = y.iloc[train_idx], y.iloc[val_idx]\n",
    "\n",
    "            model.fit(X_tr, y_tr)\n",
    "\n",
    "            y_pred = model.predict(X_va)\n",
    "            rmses.append(root_mean_squared_error(y_va, y_pred))\n",
    "\n",
    "        rmse_mean = np.mean(rmses)\n",
    "        mlflow.log_metric('rmse', rmse_mean)\n",
    "        return rmse_mean"
   ]
  },
  {
   "cell_type": "code",
   "execution_count": 6,
   "id": "d9c5c052",
   "metadata": {},
   "outputs": [
    {
     "name": "stderr",
     "output_type": "stream",
     "text": [
      "[I 2025-07-29 15:20:02,448] A new study created in memory with name: no-name-377e62a5-8655-4a85-9a57-0e277927c4f9\n",
      "[I 2025-07-29 15:20:08,596] Trial 0 finished with value: 0.5953885916218324 and parameters: {'alpha': 0.0074593432857265485, 'fit_intercept': True, 'solver': 'sparse_cg', 'max_iter': 200, 'tol': 0.00757947995334801}. Best is trial 0 with value: 0.5953885916218324.\n"
     ]
    },
    {
     "name": "stdout",
     "output_type": "stream",
     "text": [
      "🏃 View run Trial-0 at: http://127.0.0.1:5000/#/experiments/962208812792484732/runs/b32e41aa0d0545829e1b555b36a0de38\n",
      "🧪 View experiment at: http://127.0.0.1:5000/#/experiments/962208812792484732\n"
     ]
    },
    {
     "name": "stderr",
     "output_type": "stream",
     "text": [
      "[I 2025-07-29 15:20:09,726] Trial 1 finished with value: 0.5951115651259281 and parameters: {'alpha': 1.452824663751602, 'fit_intercept': True, 'solver': 'sag', 'max_iter': 1531, 'tol': 2.9204338471814107e-05}. Best is trial 1 with value: 0.5951115651259281.\n"
     ]
    },
    {
     "name": "stdout",
     "output_type": "stream",
     "text": [
      "🏃 View run Trial-1 at: http://127.0.0.1:5000/#/experiments/962208812792484732/runs/07caa79c60cf40ffa675a31b641799f2\n",
      "🧪 View experiment at: http://127.0.0.1:5000/#/experiments/962208812792484732\n"
     ]
    },
    {
     "name": "stderr",
     "output_type": "stream",
     "text": [
      "[I 2025-07-29 15:20:10,151] Trial 2 finished with value: 0.5948233580073409 and parameters: {'alpha': 0.019069966103000432, 'fit_intercept': True, 'solver': 'saga', 'max_iter': 4832, 'tol': 0.0017123375973163992}. Best is trial 2 with value: 0.5948233580073409.\n"
     ]
    },
    {
     "name": "stdout",
     "output_type": "stream",
     "text": [
      "🏃 View run Trial-2 at: http://127.0.0.1:5000/#/experiments/962208812792484732/runs/f07ebe3f42eb4f449412fae956b4b1b5\n",
      "🧪 View experiment at: http://127.0.0.1:5000/#/experiments/962208812792484732\n"
     ]
    },
    {
     "name": "stderr",
     "output_type": "stream",
     "text": [
      "[I 2025-07-29 15:20:10,523] Trial 3 finished with value: 0.5959489889637493 and parameters: {'alpha': 0.0033347927286375843, 'fit_intercept': False, 'solver': 'sparse_cg', 'max_iter': 1627, 'tol': 0.00012030178871154674}. Best is trial 2 with value: 0.5948233580073409.\n"
     ]
    },
    {
     "name": "stdout",
     "output_type": "stream",
     "text": [
      "🏃 View run Trial-3 at: http://127.0.0.1:5000/#/experiments/962208812792484732/runs/522e5c55b9d0461fb51bfcfccd4d48c3\n",
      "🧪 View experiment at: http://127.0.0.1:5000/#/experiments/962208812792484732\n"
     ]
    },
    {
     "name": "stderr",
     "output_type": "stream",
     "text": [
      "[I 2025-07-29 15:20:10,876] Trial 4 finished with value: 0.5959141350730853 and parameters: {'alpha': 0.05414413211338523, 'fit_intercept': False, 'solver': 'svd', 'max_iter': 321, 'tol': 2.0013420622879995e-05}. Best is trial 2 with value: 0.5948233580073409.\n"
     ]
    },
    {
     "name": "stdout",
     "output_type": "stream",
     "text": [
      "🏃 View run Trial-4 at: http://127.0.0.1:5000/#/experiments/962208812792484732/runs/5467ee2066194255b5ba057e5dc54c07\n",
      "🧪 View experiment at: http://127.0.0.1:5000/#/experiments/962208812792484732\n"
     ]
    },
    {
     "name": "stderr",
     "output_type": "stream",
     "text": [
      "[I 2025-07-29 15:20:14,245] Trial 5 finished with value: 0.5959222571316797 and parameters: {'alpha': 0.00877781550471966, 'fit_intercept': False, 'solver': 'saga', 'max_iter': 3884, 'tol': 6.235377135673162e-06}. Best is trial 2 with value: 0.5948233580073409.\n"
     ]
    },
    {
     "name": "stdout",
     "output_type": "stream",
     "text": [
      "🏃 View run Trial-5 at: http://127.0.0.1:5000/#/experiments/962208812792484732/runs/53de77cd3a7b42caad20b22605cb9e28\n",
      "🧪 View experiment at: http://127.0.0.1:5000/#/experiments/962208812792484732\n"
     ]
    },
    {
     "name": "stderr",
     "output_type": "stream",
     "text": [
      "[I 2025-07-29 15:20:15,982] Trial 6 finished with value: 0.595404903266703 and parameters: {'alpha': 0.00010656401760606463, 'fit_intercept': True, 'solver': 'sag', 'max_iter': 1721, 'tol': 1.7956984225677624e-06}. Best is trial 2 with value: 0.5948233580073409.\n"
     ]
    },
    {
     "name": "stdout",
     "output_type": "stream",
     "text": [
      "🏃 View run Trial-6 at: http://127.0.0.1:5000/#/experiments/962208812792484732/runs/c19d68b55e9f421e8457a80ebe5e5e30\n",
      "🧪 View experiment at: http://127.0.0.1:5000/#/experiments/962208812792484732\n"
     ]
    },
    {
     "name": "stderr",
     "output_type": "stream",
     "text": [
      "[I 2025-07-29 15:20:16,346] Trial 7 finished with value: 0.5959485567524754 and parameters: {'alpha': 0.0035884889113862576, 'fit_intercept': False, 'solver': 'svd', 'max_iter': 3878, 'tol': 9.444574254983567e-05}. Best is trial 2 with value: 0.5948233580073409.\n"
     ]
    },
    {
     "name": "stdout",
     "output_type": "stream",
     "text": [
      "🏃 View run Trial-7 at: http://127.0.0.1:5000/#/experiments/962208812792484732/runs/b22538eeceea4bc9a77b485880a22101\n",
      "🧪 View experiment at: http://127.0.0.1:5000/#/experiments/962208812792484732\n"
     ]
    },
    {
     "name": "stderr",
     "output_type": "stream",
     "text": [
      "[I 2025-07-29 15:20:17,158] Trial 8 finished with value: 0.5954266319850148 and parameters: {'alpha': 0.04108318894699928, 'fit_intercept': True, 'solver': 'sag', 'max_iter': 2111, 'tol': 0.001052457468133564}. Best is trial 2 with value: 0.5948233580073409.\n"
     ]
    },
    {
     "name": "stdout",
     "output_type": "stream",
     "text": [
      "🏃 View run Trial-8 at: http://127.0.0.1:5000/#/experiments/962208812792484732/runs/f9a319f1119a420ea992d81b4fb7b802\n",
      "🧪 View experiment at: http://127.0.0.1:5000/#/experiments/962208812792484732\n"
     ]
    },
    {
     "name": "stderr",
     "output_type": "stream",
     "text": [
      "[I 2025-07-29 15:20:17,509] Trial 9 finished with value: 0.5959539887609451 and parameters: {'alpha': 0.0013931273790066707, 'fit_intercept': False, 'solver': 'svd', 'max_iter': 4474, 'tol': 0.00014367095138664247}. Best is trial 2 with value: 0.5948233580073409.\n"
     ]
    },
    {
     "name": "stdout",
     "output_type": "stream",
     "text": [
      "🏃 View run Trial-9 at: http://127.0.0.1:5000/#/experiments/962208812792484732/runs/630de60d6e7d4dd680735ad9f1ffb8b0\n",
      "🧪 View experiment at: http://127.0.0.1:5000/#/experiments/962208812792484732\n"
     ]
    },
    {
     "name": "stderr",
     "output_type": "stream",
     "text": [
      "[I 2025-07-29 15:20:17,932] Trial 10 finished with value: 0.5935414863568813 and parameters: {'alpha': 0.7694592576177771, 'fit_intercept': True, 'solver': 'saga', 'max_iter': 3042, 'tol': 0.008426639821637225}. Best is trial 10 with value: 0.5935414863568813.\n"
     ]
    },
    {
     "name": "stdout",
     "output_type": "stream",
     "text": [
      "🏃 View run Trial-10 at: http://127.0.0.1:5000/#/experiments/962208812792484732/runs/03022a01d8474c6facc73c5abb3082e7\n",
      "🧪 View experiment at: http://127.0.0.1:5000/#/experiments/962208812792484732\n"
     ]
    },
    {
     "name": "stderr",
     "output_type": "stream",
     "text": [
      "[I 2025-07-29 15:20:18,295] Trial 11 finished with value: 0.5934629404504229 and parameters: {'alpha': 1.0256503696905537, 'fit_intercept': True, 'solver': 'saga', 'max_iter': 3155, 'tol': 0.009786742545003233}. Best is trial 11 with value: 0.5934629404504229.\n"
     ]
    },
    {
     "name": "stdout",
     "output_type": "stream",
     "text": [
      "🏃 View run Trial-11 at: http://127.0.0.1:5000/#/experiments/962208812792484732/runs/a842d2d804924738aa314c3796a3f42d\n",
      "🧪 View experiment at: http://127.0.0.1:5000/#/experiments/962208812792484732\n"
     ]
    },
    {
     "name": "stderr",
     "output_type": "stream",
     "text": [
      "[I 2025-07-29 15:20:18,655] Trial 12 finished with value: 0.5943624939131512 and parameters: {'alpha': 4.369036866362811, 'fit_intercept': True, 'solver': 'auto', 'max_iter': 3059, 'tol': 0.009462717483850835}. Best is trial 11 with value: 0.5934629404504229.\n"
     ]
    },
    {
     "name": "stdout",
     "output_type": "stream",
     "text": [
      "🏃 View run Trial-12 at: http://127.0.0.1:5000/#/experiments/962208812792484732/runs/a24c077642364a17a6785664c8c29c84\n",
      "🧪 View experiment at: http://127.0.0.1:5000/#/experiments/962208812792484732\n"
     ]
    },
    {
     "name": "stderr",
     "output_type": "stream",
     "text": [
      "[I 2025-07-29 15:20:19,081] Trial 13 finished with value: 0.5949596001213742 and parameters: {'alpha': 0.5186466442780846, 'fit_intercept': True, 'solver': 'saga', 'max_iter': 2741, 'tol': 0.001030681812595592}. Best is trial 11 with value: 0.5934629404504229.\n"
     ]
    },
    {
     "name": "stdout",
     "output_type": "stream",
     "text": [
      "🏃 View run Trial-13 at: http://127.0.0.1:5000/#/experiments/962208812792484732/runs/c9c00f3bab89428080579dc61174a0a7\n",
      "🧪 View experiment at: http://127.0.0.1:5000/#/experiments/962208812792484732\n"
     ]
    },
    {
     "name": "stderr",
     "output_type": "stream",
     "text": [
      "[I 2025-07-29 15:20:19,436] Trial 14 finished with value: 0.5948956451151208 and parameters: {'alpha': 0.31778803830401053, 'fit_intercept': True, 'solver': 'lsqr', 'max_iter': 3327, 'tol': 0.0028717043296641576}. Best is trial 11 with value: 0.5934629404504229.\n"
     ]
    },
    {
     "name": "stdout",
     "output_type": "stream",
     "text": [
      "🏃 View run Trial-14 at: http://127.0.0.1:5000/#/experiments/962208812792484732/runs/7e784cd546334316aa64407ae7ef812a\n",
      "🧪 View experiment at: http://127.0.0.1:5000/#/experiments/962208812792484732\n"
     ]
    },
    {
     "name": "stderr",
     "output_type": "stream",
     "text": [
      "[I 2025-07-29 15:20:19,797] Trial 15 finished with value: 0.5933819869603116 and parameters: {'alpha': 8.85106849629236, 'fit_intercept': True, 'solver': 'cholesky', 'max_iter': 2444, 'tol': 0.0004399698345455783}. Best is trial 15 with value: 0.5933819869603116.\n"
     ]
    },
    {
     "name": "stdout",
     "output_type": "stream",
     "text": [
      "🏃 View run Trial-15 at: http://127.0.0.1:5000/#/experiments/962208812792484732/runs/e7eee3a9326846c9b2492e66415edc72\n",
      "🧪 View experiment at: http://127.0.0.1:5000/#/experiments/962208812792484732\n"
     ]
    },
    {
     "name": "stderr",
     "output_type": "stream",
     "text": [
      "[I 2025-07-29 15:20:20,154] Trial 16 finished with value: 0.5931764602031615 and parameters: {'alpha': 9.926866770500936, 'fit_intercept': True, 'solver': 'cholesky', 'max_iter': 2313, 'tol': 0.0003706579216651078}. Best is trial 16 with value: 0.5931764602031615.\n"
     ]
    },
    {
     "name": "stdout",
     "output_type": "stream",
     "text": [
      "🏃 View run Trial-16 at: http://127.0.0.1:5000/#/experiments/962208812792484732/runs/53b91ff7a31b4585829375b2703185c8\n",
      "🧪 View experiment at: http://127.0.0.1:5000/#/experiments/962208812792484732\n"
     ]
    },
    {
     "name": "stderr",
     "output_type": "stream",
     "text": [
      "[I 2025-07-29 15:20:20,525] Trial 17 finished with value: 0.5931849436809369 and parameters: {'alpha': 9.881319628831443, 'fit_intercept': True, 'solver': 'cholesky', 'max_iter': 1007, 'tol': 0.00040246634497426463}. Best is trial 16 with value: 0.5931764602031615.\n"
     ]
    },
    {
     "name": "stdout",
     "output_type": "stream",
     "text": [
      "🏃 View run Trial-17 at: http://127.0.0.1:5000/#/experiments/962208812792484732/runs/34a3492b27954252837df5ec58301940\n",
      "🧪 View experiment at: http://127.0.0.1:5000/#/experiments/962208812792484732\n"
     ]
    },
    {
     "name": "stderr",
     "output_type": "stream",
     "text": [
      "[I 2025-07-29 15:20:20,901] Trial 18 finished with value: 0.5952477589840134 and parameters: {'alpha': 0.15038627456499357, 'fit_intercept': True, 'solver': 'cholesky', 'max_iter': 911, 'tol': 0.000399799104145448}. Best is trial 16 with value: 0.5931764602031615.\n"
     ]
    },
    {
     "name": "stdout",
     "output_type": "stream",
     "text": [
      "🏃 View run Trial-18 at: http://127.0.0.1:5000/#/experiments/962208812792484732/runs/e1d177f3558c42de9df8d02499ef4934\n",
      "🧪 View experiment at: http://127.0.0.1:5000/#/experiments/962208812792484732\n"
     ]
    },
    {
     "name": "stderr",
     "output_type": "stream",
     "text": [
      "[I 2025-07-29 15:20:21,286] Trial 19 finished with value: 0.5944922309271481 and parameters: {'alpha': 3.8402174328065186, 'fit_intercept': True, 'solver': 'cholesky', 'max_iter': 1045, 'tol': 0.0003645116674004483}. Best is trial 16 with value: 0.5931764602031615.\n"
     ]
    },
    {
     "name": "stdout",
     "output_type": "stream",
     "text": [
      "🏃 View run Trial-19 at: http://127.0.0.1:5000/#/experiments/962208812792484732/runs/0836e5744de54f5a86eb0c1f259a7678\n",
      "🧪 View experiment at: http://127.0.0.1:5000/#/experiments/962208812792484732\n"
     ]
    },
    {
     "name": "stderr",
     "output_type": "stream",
     "text": [
      "[I 2025-07-29 15:20:21,682] Trial 20 finished with value: 0.5934461337345476 and parameters: {'alpha': 8.526557902652936, 'fit_intercept': True, 'solver': 'cholesky', 'max_iter': 962, 'tol': 3.700327786932868e-05}. Best is trial 16 with value: 0.5931764602031615.\n"
     ]
    },
    {
     "name": "stdout",
     "output_type": "stream",
     "text": [
      "🏃 View run Trial-20 at: http://127.0.0.1:5000/#/experiments/962208812792484732/runs/a1ff0470362446279a60e8dffc132c10\n",
      "🧪 View experiment at: http://127.0.0.1:5000/#/experiments/962208812792484732\n"
     ]
    },
    {
     "name": "stderr",
     "output_type": "stream",
     "text": [
      "[I 2025-07-29 15:20:22,044] Trial 21 finished with value: 0.5946890195693313 and parameters: {'alpha': 3.060107330122756, 'fit_intercept': True, 'solver': 'cholesky', 'max_iter': 2441, 'tol': 0.00035753960589422583}. Best is trial 16 with value: 0.5931764602031615.\n"
     ]
    },
    {
     "name": "stdout",
     "output_type": "stream",
     "text": [
      "🏃 View run Trial-21 at: http://127.0.0.1:5000/#/experiments/962208812792484732/runs/61a6dbec18514da6b54ec46d9ba43c05\n",
      "🧪 View experiment at: http://127.0.0.1:5000/#/experiments/962208812792484732\n"
     ]
    },
    {
     "name": "stderr",
     "output_type": "stream",
     "text": [
      "[I 2025-07-29 15:20:22,399] Trial 22 finished with value: 0.5932431821336935 and parameters: {'alpha': 9.571365419661356, 'fit_intercept': True, 'solver': 'cholesky', 'max_iter': 2198, 'tol': 0.0006080550767593508}. Best is trial 16 with value: 0.5931764602031615.\n"
     ]
    },
    {
     "name": "stdout",
     "output_type": "stream",
     "text": [
      "🏃 View run Trial-22 at: http://127.0.0.1:5000/#/experiments/962208812792484732/runs/c0ebd70b99dc4e60854ed2a202a00d5f\n",
      "🧪 View experiment at: http://127.0.0.1:5000/#/experiments/962208812792484732\n"
     ]
    },
    {
     "name": "stderr",
     "output_type": "stream",
     "text": [
      "[I 2025-07-29 15:20:22,753] Trial 23 finished with value: 0.5949309540382368 and parameters: {'alpha': 2.130403332302556, 'fit_intercept': True, 'solver': 'cholesky', 'max_iter': 1963, 'tol': 0.002783852688660212}. Best is trial 16 with value: 0.5931764602031615.\n"
     ]
    },
    {
     "name": "stdout",
     "output_type": "stream",
     "text": [
      "🏃 View run Trial-23 at: http://127.0.0.1:5000/#/experiments/962208812792484732/runs/3f3f212857b74980b2b15824b231be36\n",
      "🧪 View experiment at: http://127.0.0.1:5000/#/experiments/962208812792484732\n"
     ]
    },
    {
     "name": "stderr",
     "output_type": "stream",
     "text": [
      "[I 2025-07-29 15:20:23,118] Trial 24 finished with value: 0.5931688129091858 and parameters: {'alpha': 9.968012209041024, 'fit_intercept': True, 'solver': 'cholesky', 'max_iter': 1253, 'tol': 0.0001820605314968277}. Best is trial 24 with value: 0.5931688129091858.\n"
     ]
    },
    {
     "name": "stdout",
     "output_type": "stream",
     "text": [
      "🏃 View run Trial-24 at: http://127.0.0.1:5000/#/experiments/962208812792484732/runs/5dba853bc4f843d3aa8f3f4fd93547a9\n",
      "🧪 View experiment at: http://127.0.0.1:5000/#/experiments/962208812792484732\n"
     ]
    },
    {
     "name": "stderr",
     "output_type": "stream",
     "text": [
      "[I 2025-07-29 15:20:23,493] Trial 25 finished with value: 0.595378627658172 and parameters: {'alpha': 0.2105416448325772, 'fit_intercept': True, 'solver': 'lsqr', 'max_iter': 1338, 'tol': 0.00018193543748280745}. Best is trial 24 with value: 0.5931688129091858.\n"
     ]
    },
    {
     "name": "stdout",
     "output_type": "stream",
     "text": [
      "🏃 View run Trial-25 at: http://127.0.0.1:5000/#/experiments/962208812792484732/runs/e507ba21369e4fcba6069c90de06fd74\n",
      "🧪 View experiment at: http://127.0.0.1:5000/#/experiments/962208812792484732\n"
     ]
    },
    {
     "name": "stderr",
     "output_type": "stream",
     "text": [
      "[I 2025-07-29 15:20:23,869] Trial 26 finished with value: 0.5962294506935475 and parameters: {'alpha': 2.305183633164899, 'fit_intercept': False, 'solver': 'auto', 'max_iter': 592, 'tol': 6.004936504933277e-05}. Best is trial 24 with value: 0.5931688129091858.\n"
     ]
    },
    {
     "name": "stdout",
     "output_type": "stream",
     "text": [
      "🏃 View run Trial-26 at: http://127.0.0.1:5000/#/experiments/962208812792484732/runs/d8ae8fbdaa0741559ddcc5c7a848165f\n",
      "🧪 View experiment at: http://127.0.0.1:5000/#/experiments/962208812792484732\n"
     ]
    },
    {
     "name": "stderr",
     "output_type": "stream",
     "text": [
      "[I 2025-07-29 15:20:24,251] Trial 27 finished with value: 0.5951666008380949 and parameters: {'alpha': 0.11032594697578292, 'fit_intercept': True, 'solver': 'cholesky', 'max_iter': 1241, 'tol': 1.3722737232593698e-05}. Best is trial 24 with value: 0.5931688129091858.\n"
     ]
    },
    {
     "name": "stdout",
     "output_type": "stream",
     "text": [
      "🏃 View run Trial-27 at: http://127.0.0.1:5000/#/experiments/962208812792484732/runs/8ce7c24c23134cf7b64dbfa819a83387\n",
      "🧪 View experiment at: http://127.0.0.1:5000/#/experiments/962208812792484732\n"
     ]
    },
    {
     "name": "stderr",
     "output_type": "stream",
     "text": [
      "[I 2025-07-29 15:20:24,617] Trial 28 finished with value: 0.5918291414044495 and parameters: {'alpha': 0.0002672556189469501, 'fit_intercept': True, 'solver': 'cholesky', 'max_iter': 790, 'tol': 0.00024510395638957007}. Best is trial 28 with value: 0.5918291414044495.\n"
     ]
    },
    {
     "name": "stdout",
     "output_type": "stream",
     "text": [
      "🏃 View run Trial-28 at: http://127.0.0.1:5000/#/experiments/962208812792484732/runs/15944de0aa4944dc91637734d295494e\n",
      "🧪 View experiment at: http://127.0.0.1:5000/#/experiments/962208812792484732\n"
     ]
    },
    {
     "name": "stderr",
     "output_type": "stream",
     "text": [
      "[I 2025-07-29 15:20:24,973] Trial 29 finished with value: 0.5927421404527881 and parameters: {'alpha': 0.0008983177946101522, 'fit_intercept': True, 'solver': 'sparse_cg', 'max_iter': 237, 'tol': 0.00022639244599786392}. Best is trial 28 with value: 0.5918291414044495.\n"
     ]
    },
    {
     "name": "stdout",
     "output_type": "stream",
     "text": [
      "🏃 View run Trial-29 at: http://127.0.0.1:5000/#/experiments/962208812792484732/runs/a677333580cb48448e39abcddabe512b\n",
      "🧪 View experiment at: http://127.0.0.1:5000/#/experiments/962208812792484732\n"
     ]
    },
    {
     "name": "stderr",
     "output_type": "stream",
     "text": [
      "[I 2025-07-29 15:20:25,328] Trial 30 finished with value: 0.5931214100111992 and parameters: {'alpha': 0.00029191643563490676, 'fit_intercept': True, 'solver': 'sparse_cg', 'max_iter': 102, 'tol': 0.00017430603159986543}. Best is trial 28 with value: 0.5918291414044495.\n"
     ]
    },
    {
     "name": "stdout",
     "output_type": "stream",
     "text": [
      "🏃 View run Trial-30 at: http://127.0.0.1:5000/#/experiments/962208812792484732/runs/3a45dd7e730d48388daa1bdfb3d6628c\n",
      "🧪 View experiment at: http://127.0.0.1:5000/#/experiments/962208812792484732\n"
     ]
    },
    {
     "name": "stderr",
     "output_type": "stream",
     "text": [
      "[I 2025-07-29 15:20:25,745] Trial 31 finished with value: 0.5934835648882071 and parameters: {'alpha': 0.00023252099098949695, 'fit_intercept': True, 'solver': 'sparse_cg', 'max_iter': 160, 'tol': 0.00021669227098013155}. Best is trial 28 with value: 0.5918291414044495.\n"
     ]
    },
    {
     "name": "stdout",
     "output_type": "stream",
     "text": [
      "🏃 View run Trial-31 at: http://127.0.0.1:5000/#/experiments/962208812792484732/runs/c3db507487a94650b22e442557ea6d8d\n",
      "🧪 View experiment at: http://127.0.0.1:5000/#/experiments/962208812792484732\n"
     ]
    },
    {
     "name": "stderr",
     "output_type": "stream",
     "text": [
      "[I 2025-07-29 15:20:26,230] Trial 32 finished with value: 0.5914721685640504 and parameters: {'alpha': 0.0005846259153482611, 'fit_intercept': True, 'solver': 'sparse_cg', 'max_iter': 542, 'tol': 6.41046497346256e-05}. Best is trial 32 with value: 0.5914721685640504.\n"
     ]
    },
    {
     "name": "stdout",
     "output_type": "stream",
     "text": [
      "🏃 View run Trial-32 at: http://127.0.0.1:5000/#/experiments/962208812792484732/runs/3351219fa5ce47528c11cc626d5a723e\n",
      "🧪 View experiment at: http://127.0.0.1:5000/#/experiments/962208812792484732\n"
     ]
    },
    {
     "name": "stderr",
     "output_type": "stream",
     "text": [
      "[I 2025-07-29 15:20:26,747] Trial 33 finished with value: 0.5916812846515457 and parameters: {'alpha': 0.0003788206982500397, 'fit_intercept': True, 'solver': 'sparse_cg', 'max_iter': 581, 'tol': 5.4090724064365586e-05}. Best is trial 32 with value: 0.5914721685640504.\n"
     ]
    },
    {
     "name": "stdout",
     "output_type": "stream",
     "text": [
      "🏃 View run Trial-33 at: http://127.0.0.1:5000/#/experiments/962208812792484732/runs/a0e1b81a2bb44468ac6c6a592418845e\n",
      "🧪 View experiment at: http://127.0.0.1:5000/#/experiments/962208812792484732\n"
     ]
    },
    {
     "name": "stderr",
     "output_type": "stream",
     "text": [
      "[I 2025-07-29 15:20:27,248] Trial 34 finished with value: 0.5913875658288056 and parameters: {'alpha': 0.0006949233337497886, 'fit_intercept': True, 'solver': 'sparse_cg', 'max_iter': 615, 'tol': 6.99370038797374e-05}. Best is trial 34 with value: 0.5913875658288056.\n"
     ]
    },
    {
     "name": "stdout",
     "output_type": "stream",
     "text": [
      "🏃 View run Trial-34 at: http://127.0.0.1:5000/#/experiments/962208812792484732/runs/112f13729dd2462380eb0c3ba781a670\n",
      "🧪 View experiment at: http://127.0.0.1:5000/#/experiments/962208812792484732\n"
     ]
    },
    {
     "name": "stderr",
     "output_type": "stream",
     "text": [
      "[I 2025-07-29 15:20:27,723] Trial 35 finished with value: 0.59147724905104 and parameters: {'alpha': 0.0005786686831494936, 'fit_intercept': True, 'solver': 'sparse_cg', 'max_iter': 602, 'tol': 5.7782945569050864e-05}. Best is trial 34 with value: 0.5913875658288056.\n"
     ]
    },
    {
     "name": "stdout",
     "output_type": "stream",
     "text": [
      "🏃 View run Trial-35 at: http://127.0.0.1:5000/#/experiments/962208812792484732/runs/1228842b13b04cfba8bdd636bdbb532f\n",
      "🧪 View experiment at: http://127.0.0.1:5000/#/experiments/962208812792484732\n"
     ]
    },
    {
     "name": "stderr",
     "output_type": "stream",
     "text": [
      "[I 2025-07-29 15:20:28,142] Trial 36 finished with value: 0.595955259825629 and parameters: {'alpha': 0.0009050449529833342, 'fit_intercept': False, 'solver': 'sparse_cg', 'max_iter': 508, 'tol': 8.986678439163674e-06}. Best is trial 34 with value: 0.5913875658288056.\n"
     ]
    },
    {
     "name": "stdout",
     "output_type": "stream",
     "text": [
      "🏃 View run Trial-36 at: http://127.0.0.1:5000/#/experiments/962208812792484732/runs/03086e199f9a4f52b1a61aeb235529ba\n",
      "🧪 View experiment at: http://127.0.0.1:5000/#/experiments/962208812792484732\n"
     ]
    },
    {
     "name": "stderr",
     "output_type": "stream",
     "text": [
      "[I 2025-07-29 15:20:28,597] Trial 37 finished with value: 0.591232608613546 and parameters: {'alpha': 0.0024708943834356725, 'fit_intercept': True, 'solver': 'sparse_cg', 'max_iter': 564, 'tol': 4.9793849602720996e-05}. Best is trial 37 with value: 0.591232608613546.\n"
     ]
    },
    {
     "name": "stdout",
     "output_type": "stream",
     "text": [
      "🏃 View run Trial-37 at: http://127.0.0.1:5000/#/experiments/962208812792484732/runs/2a1353c8345e4c239f2b4bb090e187c6\n",
      "🧪 View experiment at: http://127.0.0.1:5000/#/experiments/962208812792484732\n"
     ]
    },
    {
     "name": "stderr",
     "output_type": "stream",
     "text": [
      "[I 2025-07-29 15:20:29,056] Trial 38 finished with value: 0.5959382730956151 and parameters: {'alpha': 0.008964510998521056, 'fit_intercept': False, 'solver': 'sparse_cg', 'max_iter': 1699, 'tol': 3.023211618006992e-05}. Best is trial 37 with value: 0.591232608613546.\n"
     ]
    },
    {
     "name": "stdout",
     "output_type": "stream",
     "text": [
      "🏃 View run Trial-38 at: http://127.0.0.1:5000/#/experiments/962208812792484732/runs/04927d093ee0482f9913113d459710f3\n",
      "🧪 View experiment at: http://127.0.0.1:5000/#/experiments/962208812792484732\n"
     ]
    },
    {
     "name": "stderr",
     "output_type": "stream",
     "text": [
      "[I 2025-07-29 15:20:29,508] Trial 39 finished with value: 0.5913324862605356 and parameters: {'alpha': 0.0029101202407477134, 'fit_intercept': True, 'solver': 'sparse_cg', 'max_iter': 404, 'tol': 7.191449639929483e-05}. Best is trial 37 with value: 0.591232608613546.\n"
     ]
    },
    {
     "name": "stdout",
     "output_type": "stream",
     "text": [
      "🏃 View run Trial-39 at: http://127.0.0.1:5000/#/experiments/962208812792484732/runs/bffcebaa6f2a479197fdc1b601af55ec\n",
      "🧪 View experiment at: http://127.0.0.1:5000/#/experiments/962208812792484732\n"
     ]
    },
    {
     "name": "stderr",
     "output_type": "stream",
     "text": [
      "[I 2025-07-29 15:20:29,967] Trial 40 finished with value: 0.5912511516174046 and parameters: {'alpha': 0.002559300281925816, 'fit_intercept': True, 'solver': 'sparse_cg', 'max_iter': 399, 'tol': 2.6726348863671047e-06}. Best is trial 37 with value: 0.591232608613546.\n"
     ]
    },
    {
     "name": "stdout",
     "output_type": "stream",
     "text": [
      "🏃 View run Trial-40 at: http://127.0.0.1:5000/#/experiments/962208812792484732/runs/01ba81f59836477da191364834c606a8\n",
      "🧪 View experiment at: http://127.0.0.1:5000/#/experiments/962208812792484732\n"
     ]
    },
    {
     "name": "stderr",
     "output_type": "stream",
     "text": [
      "[I 2025-07-29 15:20:30,397] Trial 41 finished with value: 0.5912545993097199 and parameters: {'alpha': 0.00257526008735922, 'fit_intercept': True, 'solver': 'sparse_cg', 'max_iter': 355, 'tol': 1.293423126475034e-06}. Best is trial 37 with value: 0.591232608613546.\n"
     ]
    },
    {
     "name": "stdout",
     "output_type": "stream",
     "text": [
      "🏃 View run Trial-41 at: http://127.0.0.1:5000/#/experiments/962208812792484732/runs/a7c343c8dc5f49199dca36c2742af34d\n",
      "🧪 View experiment at: http://127.0.0.1:5000/#/experiments/962208812792484732\n"
     ]
    },
    {
     "name": "stderr",
     "output_type": "stream",
     "text": [
      "[I 2025-07-29 15:20:31,003] Trial 42 finished with value: 0.5912242009451455 and parameters: {'alpha': 0.002428905705530942, 'fit_intercept': True, 'solver': 'sparse_cg', 'max_iter': 339, 'tol': 1.8561747574227795e-06}. Best is trial 42 with value: 0.5912242009451455.\n"
     ]
    },
    {
     "name": "stdout",
     "output_type": "stream",
     "text": [
      "🏃 View run Trial-42 at: http://127.0.0.1:5000/#/experiments/962208812792484732/runs/8aa4f0d7c78c4b06ae43ef0c31e0e2d5\n",
      "🧪 View experiment at: http://127.0.0.1:5000/#/experiments/962208812792484732\n"
     ]
    },
    {
     "name": "stderr",
     "output_type": "stream",
     "text": [
      "[I 2025-07-29 15:20:31,567] Trial 43 finished with value: 0.5912549862607833 and parameters: {'alpha': 0.0025770418673995107, 'fit_intercept': True, 'solver': 'sparse_cg', 'max_iter': 342, 'tol': 1.0439136207834902e-06}. Best is trial 42 with value: 0.5912242009451455.\n"
     ]
    },
    {
     "name": "stdout",
     "output_type": "stream",
     "text": [
      "🏃 View run Trial-43 at: http://127.0.0.1:5000/#/experiments/962208812792484732/runs/d43bfa8d2d93498d82eb97cf68e99fae\n",
      "🧪 View experiment at: http://127.0.0.1:5000/#/experiments/962208812792484732\n"
     ]
    },
    {
     "name": "stderr",
     "output_type": "stream",
     "text": [
      "[I 2025-07-29 15:20:32,023] Trial 44 finished with value: 0.5936821318275916 and parameters: {'alpha': 0.016604184650767666, 'fit_intercept': True, 'solver': 'sparse_cg', 'max_iter': 359, 'tol': 1.1639175376593762e-06}. Best is trial 42 with value: 0.5912242009451455.\n"
     ]
    },
    {
     "name": "stdout",
     "output_type": "stream",
     "text": [
      "🏃 View run Trial-44 at: http://127.0.0.1:5000/#/experiments/962208812792484732/runs/82cb65845e1c49f692090b06aff4f482\n",
      "🧪 View experiment at: http://127.0.0.1:5000/#/experiments/962208812792484732\n"
     ]
    },
    {
     "name": "stderr",
     "output_type": "stream",
     "text": [
      "[I 2025-07-29 15:20:32,816] Trial 45 finished with value: 0.5966583564035691 and parameters: {'alpha': 0.0022137574056507524, 'fit_intercept': False, 'solver': 'sag', 'max_iter': 300, 'tol': 3.2088852800355685e-06}. Best is trial 42 with value: 0.5912242009451455.\n"
     ]
    },
    {
     "name": "stdout",
     "output_type": "stream",
     "text": [
      "🏃 View run Trial-45 at: http://127.0.0.1:5000/#/experiments/962208812792484732/runs/ae66bdd654ff43adac7676162d39b082\n",
      "🧪 View experiment at: http://127.0.0.1:5000/#/experiments/962208812792484732\n"
     ]
    },
    {
     "name": "stderr",
     "output_type": "stream",
     "text": [
      "[I 2025-07-29 15:20:33,352] Trial 46 finished with value: 0.5922115731669135 and parameters: {'alpha': 0.006259091380942184, 'fit_intercept': True, 'solver': 'sparse_cg', 'max_iter': 780, 'tol': 3.1892153473108808e-06}. Best is trial 42 with value: 0.5912242009451455.\n"
     ]
    },
    {
     "name": "stdout",
     "output_type": "stream",
     "text": [
      "🏃 View run Trial-46 at: http://127.0.0.1:5000/#/experiments/962208812792484732/runs/40d4a7a1b3e643d09d488faaa4366800\n",
      "🧪 View experiment at: http://127.0.0.1:5000/#/experiments/962208812792484732\n"
     ]
    },
    {
     "name": "stderr",
     "output_type": "stream",
     "text": [
      "[I 2025-07-29 15:20:33,808] Trial 47 finished with value: 0.5918345072394045 and parameters: {'alpha': 0.004769211320523198, 'fit_intercept': True, 'solver': 'svd', 'max_iter': 1379, 'tol': 2.843953934788449e-06}. Best is trial 42 with value: 0.5912242009451455.\n"
     ]
    },
    {
     "name": "stdout",
     "output_type": "stream",
     "text": [
      "🏃 View run Trial-47 at: http://127.0.0.1:5000/#/experiments/962208812792484732/runs/5b681f9ec3ef4f12b8f61f741f1e9f19\n",
      "🧪 View experiment at: http://127.0.0.1:5000/#/experiments/962208812792484732\n"
     ]
    },
    {
     "name": "stderr",
     "output_type": "stream",
     "text": [
      "[I 2025-07-29 15:20:34,284] Trial 48 finished with value: 0.5911322563177795 and parameters: {'alpha': 0.001724192701153952, 'fit_intercept': True, 'solver': 'sparse_cg', 'max_iter': 788, 'tol': 1.1416388575443275e-06}. Best is trial 48 with value: 0.5911322563177795.\n"
     ]
    },
    {
     "name": "stdout",
     "output_type": "stream",
     "text": [
      "🏃 View run Trial-48 at: http://127.0.0.1:5000/#/experiments/962208812792484732/runs/3db4a7670022463fab0a2a37af856e39\n",
      "🧪 View experiment at: http://127.0.0.1:5000/#/experiments/962208812792484732\n"
     ]
    },
    {
     "name": "stderr",
     "output_type": "stream",
     "text": [
      "[I 2025-07-29 15:20:34,728] Trial 49 finished with value: 0.5959213461959253 and parameters: {'alpha': 0.020450367312082066, 'fit_intercept': False, 'solver': 'auto', 'max_iter': 1547, 'tol': 5.037162622848114e-06}. Best is trial 48 with value: 0.5911322563177795.\n"
     ]
    },
    {
     "name": "stdout",
     "output_type": "stream",
     "text": [
      "🏃 View run Trial-49 at: http://127.0.0.1:5000/#/experiments/962208812792484732/runs/33259b9bbbae40aa82742a7f4fa36ca1\n",
      "🧪 View experiment at: http://127.0.0.1:5000/#/experiments/962208812792484732\n",
      "Melhores hiperparâmetros:\n",
      "{'alpha': 0.001724192701153952, 'fit_intercept': True, 'solver': 'sparse_cg', 'max_iter': 788, 'tol': 1.1416388575443275e-06}\n",
      "Melhor RMSE: 0.5911\n",
      "🏃 View run Ridge optimization at: http://127.0.0.1:5000/#/experiments/962208812792484732/runs/73d01853224940b99de1d066ce9fc586\n",
      "🧪 View experiment at: http://127.0.0.1:5000/#/experiments/962208812792484732\n"
     ]
    }
   ],
   "source": [
    "study = optuna.create_study(\n",
    "    direction='minimize',\n",
    "    sampler=optuna.samplers.TPESampler(seed=42),\n",
    "    pruner=optuna.pruners.MedianPruner(\n",
    "        n_startup_trials=20,\n",
    "        n_warmup_steps=10,\n",
    "        interval_steps=5\n",
    "    )\n",
    ")\n",
    "\n",
    "mlflow.set_tracking_uri('http://127.0.0.1:5000')\n",
    "mlflow.set_experiment('DSWA - Competicao3')\n",
    "with mlflow.start_run(run_name='Ridge optimization'):\n",
    "    study.optimize(objective, n_trials=50)\n",
    "    \n",
    "    print(\"Melhores hiperparâmetros:\")\n",
    "    print(study.best_params)\n",
    "    print(f\"Melhor RMSE: {study.best_value:.4f}\")\n",
    "\n",
    "    # Loga os melhores parâmetros e métrica no MLflow\n",
    "    mlflow.log_params(study.best_params)\n",
    "    mlflow.log_metric(\"best_rmse\", study.best_value)\n"
   ]
  }
 ],
 "metadata": {
  "kernelspec": {
   "display_name": "Python 3",
   "language": "python",
   "name": "python3"
  },
  "language_info": {
   "codemirror_mode": {
    "name": "ipython",
    "version": 3
   },
   "file_extension": ".py",
   "mimetype": "text/x-python",
   "name": "python",
   "nbconvert_exporter": "python",
   "pygments_lexer": "ipython3",
   "version": "3.11.5"
  }
 },
 "nbformat": 4,
 "nbformat_minor": 5
}
