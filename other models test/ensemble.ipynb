{
 "cells": [
  {
   "cell_type": "code",
   "execution_count": 1,
   "id": "30e67c73",
   "metadata": {},
   "outputs": [],
   "source": [
    "from xgboost import XGBRegressor\n",
    "from sklearn.model_selection import train_test_split\n",
    "from sklearn.metrics import mean_squared_error\n",
    "import pandas as pd\n",
    "from sklearn.model_selection import cross_val_score, KFold\n",
    "from sklearn.metrics import make_scorer, mean_squared_error\n",
    "import numpy as np\n",
    "import mlflow"
   ]
  },
  {
   "cell_type": "code",
   "execution_count": 2,
   "id": "a8b905db",
   "metadata": {},
   "outputs": [],
   "source": [
    "train = pd.read_csv('../data/train.csv')"
   ]
  },
  {
   "cell_type": "code",
   "execution_count": 3,
   "id": "d6633906",
   "metadata": {},
   "outputs": [],
   "source": [
    "X = train.drop(columns=[\n",
    "    'ID', 'target1', 'target2', 'target3', 'target4', 'target5',\n",
    "    'target6', 'target7', 'target8', 'target9', 'target10', 'target11'\n",
    "])\n",
    "\n",
    "y = train.drop(columns=[\n",
    "    'ID', 'feature2', 'feature3', 'feature4', 'feature5', 'feature6',\n",
    "    'feature7', 'feature8', 'feature9', 'feature10', 'feature11',\n",
    "    'feature12', 'feature13', 'feature14', 'feature15'\n",
    "])\n"
   ]
  },
  {
   "cell_type": "code",
   "execution_count": 4,
   "id": "13fa9eb1",
   "metadata": {},
   "outputs": [],
   "source": [
    "#X_train, X_test, y_train, y_test = train_test_split(X, y, test_size=0.2)"
   ]
  },
  {
   "cell_type": "markdown",
   "id": "61d7ff3b",
   "metadata": {},
   "source": [
    "Hyper-param optmization"
   ]
  },
  {
   "cell_type": "code",
   "execution_count": 5,
   "id": "7d923918",
   "metadata": {},
   "outputs": [
    {
     "name": "stderr",
     "output_type": "stream",
     "text": [
      "c:\\Users\\Guilherme\\AppData\\Local\\Programs\\Python\\Python311\\Lib\\site-packages\\tqdm\\auto.py:21: TqdmWarning: IProgress not found. Please update jupyter and ipywidgets. See https://ipywidgets.readthedocs.io/en/stable/user_install.html\n",
      "  from .autonotebook import tqdm as notebook_tqdm\n"
     ]
    }
   ],
   "source": [
    "import optuna\n",
    "import xgboost as xgb\n",
    "from sklearn.ensemble import RandomForestRegressor\n",
    "from sklearn.model_selection import KFold\n",
    "from sklearn.metrics import root_mean_squared_error\n",
    "import numpy as np\n",
    "from sklearn.ensemble import ExtraTreesRegressor\n",
    "from sklearn.multioutput import MultiOutputRegressor\n",
    "import mlflow\n",
    "from lightgbm import LGBMRegressor\n",
    "\n",
    "# Parâmetros fixos dos modelos\n",
    "params_xgboost = {\n",
    "    'n_estimators': 1923,\n",
    "    'learning_rate': 0.0176491247294085,\n",
    "    'max_depth': 7,\n",
    "    'min_child_weight': 1,\n",
    "    'subsample': 0.7565637963621075,\n",
    "    'reg_alpha': 2.4180671613496878e-06,\n",
    "    'reg_lambda': 4.3213853733170415,\n",
    "    'gamma': 0.0017610181848471591,\n",
    "    'random_state': 42,\n",
    "    'n_jobs': 1,\n",
    "    'tree_method': 'hist',\n",
    "    'device': 'cuda'\n",
    "}\n",
    "\n",
    "params_rf = {\n",
    "    'n_estimators': 1294,\n",
    "    'max_depth': 30,\n",
    "    'min_samples_split': 3,\n",
    "    'min_samples_leaf': 2,\n",
    "    'max_features': 'log2',\n",
    "    'bootstrap': False,\n",
    "    'random_state': 42,\n",
    "    'n_jobs': 1\n",
    "}\n",
    "\n",
    "params_lightGBM = {\n",
    "    'max_depth': 6, \n",
    "    'num_leaves': 42, \n",
    "    'n_estimators': 2829, \n",
    "    'learning_rate': 0.05884206632618343, \n",
    "    'min_child_samples': 1, \n",
    "    'subsample': 0.7776450799851002, \n",
    "    'colsample_bytree': 0.9954751604555587, \n",
    "    'reg_alpha': 0.0024050306501921114, \n",
    "    'reg_lambda': 1.1406302521871943, \n",
    "    'min_split_gain': 0.0733413175114044,\n",
    "    'verbose': -1  \n",
    "    }\n",
    "\n",
    "\n",
    "kf = KFold(n_splits=10, shuffle=True, random_state=42)\n",
    "\n",
    "def objective(trial):\n",
    "    with mlflow.start_run(run_name=f'Trial-{trial.number}', nested=True):\n",
    "        # Sugere três pesos brutos entre 0 e 1\n",
    "        w1 = trial.suggest_float('w_xgb_raw', 0.0, 1.0, step=0.05)\n",
    "        w2 = trial.suggest_float('w_rf_raw',  0.0, 1.0, step = 0.05)\n",
    "        w3 = trial.suggest_float('w_gbm_raw', 0.0, 1.0, step=0.05)\n",
    "        \n",
    "        # Normaliza para somar 1\n",
    "        total = w1 + w2 + w3\n",
    "        w_xgb = w1 / total\n",
    "        w_rf  = w2 / total\n",
    "        w_gbm = w3 / total\n",
    "        \n",
    "        mlflow.log_param(\"w_xgb\", w_xgb)\n",
    "        mlflow.log_param(\"w_rf\",  w_rf)\n",
    "        mlflow.log_param(\"w_mlp\", w_gbm)\n",
    "\n",
    "        fold_rmse = []\n",
    "        for train_idx, val_idx in kf.split(X):\n",
    "            X_train, X_val = X.iloc[train_idx], X.iloc[val_idx]\n",
    "            y_train, y_val = y.iloc[train_idx], y.iloc[val_idx]\n",
    "\n",
    "            # 1) XGBoost\n",
    "            model_xgb = xgb.XGBRegressor(**params_xgboost)\n",
    "            model_xgb.fit(X_train, y_train)\n",
    "            y_pred_xgb = model_xgb.predict(X_val)\n",
    "            \n",
    "            # 2) Random Forest\n",
    "            model_rf = RandomForestRegressor(**params_rf)\n",
    "            model_rf.fit(X_train, y_train)\n",
    "            y_pred_rf = model_rf.predict(X_val)\n",
    "            \n",
    "            # 3) LightGBM\n",
    "            base = LGBMRegressor(**params_lightGBM)\n",
    "            model_lightGBM = MultiOutputRegressor(base, n_jobs=1)\n",
    "            model_lightGBM.fit(X_train, y_train)\n",
    "            y_pred_gbm = model_lightGBM.predict(X_val)\n",
    "            \n",
    "            # Ensemble ponderado\n",
    "            y_pred_ens = (w_xgb * y_pred_xgb\n",
    "                          + w_rf  * y_pred_rf\n",
    "                          + w_gbm *  y_pred_gbm )\n",
    "            \n",
    "            rmse = root_mean_squared_error(y_val, y_pred_ens)\n",
    "            fold_rmse.append(rmse)\n",
    "\n",
    "        mean_rmse = np.mean(fold_rmse)\n",
    "        mlflow.log_metric(\"rmse\", mean_rmse)\n",
    "        return mean_rmse"
   ]
  },
  {
   "cell_type": "code",
   "execution_count": 6,
   "id": "c2f12115",
   "metadata": {},
   "outputs": [
    {
     "name": "stderr",
     "output_type": "stream",
     "text": [
      "[I 2025-07-28 20:11:18,784] A new study created in memory with name: no-name-0fb42c4e-f26b-4299-8817-6f8e3228f014\n",
      "c:\\Users\\Guilherme\\AppData\\Local\\Programs\\Python\\Python311\\Lib\\site-packages\\xgboost\\core.py:729: UserWarning: [20:16:16] WARNING: C:\\actions-runner\\_work\\xgboost\\xgboost\\src\\common\\error_msg.cc:58: Falling back to prediction using DMatrix due to mismatched devices. This might lead to higher memory usage and slower performance. XGBoost is running on: cuda:0, while the input data is on: cpu.\n",
      "Potential solutions:\n",
      "- Use a data structure that matches the device ordinal in the booster.\n",
      "- Set the device for booster before call to inplace_predict.\n",
      "\n",
      "This warning will only be shown once.\n",
      "\n",
      "  return func(**kwargs)\n",
      "[I 2025-07-28 20:22:34,951] Trial 0 finished with value: 0.4666400179651461 and parameters: {'w_xgb_raw': 0.35000000000000003, 'w_rf_raw': 0.9500000000000001, 'w_gbm_raw': 0.75}. Best is trial 0 with value: 0.4666400179651461.\n"
     ]
    },
    {
     "name": "stdout",
     "output_type": "stream",
     "text": [
      "🏃 View run Trial-0 at: http://127.0.0.1:5000/#/experiments/962208812792484732/runs/d7a96a8ac1304e079ffe4f5e96c84434\n",
      "🧪 View experiment at: http://127.0.0.1:5000/#/experiments/962208812792484732\n"
     ]
    },
    {
     "name": "stderr",
     "output_type": "stream",
     "text": [
      "[I 2025-07-28 20:29:22,411] Trial 1 finished with value: 0.4353504131707629 and parameters: {'w_xgb_raw': 0.6000000000000001, 'w_rf_raw': 0.15000000000000002, 'w_gbm_raw': 0.15000000000000002}. Best is trial 1 with value: 0.4353504131707629.\n"
     ]
    },
    {
     "name": "stdout",
     "output_type": "stream",
     "text": [
      "🏃 View run Trial-1 at: http://127.0.0.1:5000/#/experiments/962208812792484732/runs/24c7e70532064c139ca17a6bda24b810\n",
      "🧪 View experiment at: http://127.0.0.1:5000/#/experiments/962208812792484732\n"
     ]
    },
    {
     "name": "stderr",
     "output_type": "stream",
     "text": [
      "[I 2025-07-28 20:36:08,048] Trial 2 finished with value: 0.4787282432160508 and parameters: {'w_xgb_raw': 0.05, 'w_rf_raw': 0.9, 'w_gbm_raw': 0.6000000000000001}. Best is trial 1 with value: 0.4353504131707629.\n"
     ]
    },
    {
     "name": "stdout",
     "output_type": "stream",
     "text": [
      "🏃 View run Trial-2 at: http://127.0.0.1:5000/#/experiments/962208812792484732/runs/e1e156d289db4e71bbeebca24eb2467a\n",
      "🧪 View experiment at: http://127.0.0.1:5000/#/experiments/962208812792484732\n"
     ]
    },
    {
     "name": "stderr",
     "output_type": "stream",
     "text": [
      "[I 2025-07-28 20:42:54,630] Trial 3 finished with value: 0.47705992146778636 and parameters: {'w_xgb_raw': 0.7000000000000001, 'w_rf_raw': 0.0, 'w_gbm_raw': 1.0}. Best is trial 1 with value: 0.4353504131707629.\n"
     ]
    },
    {
     "name": "stdout",
     "output_type": "stream",
     "text": [
      "🏃 View run Trial-3 at: http://127.0.0.1:5000/#/experiments/962208812792484732/runs/42012ce1e4934c48a182a7daa2e7900b\n",
      "🧪 View experiment at: http://127.0.0.1:5000/#/experiments/962208812792484732\n"
     ]
    },
    {
     "name": "stderr",
     "output_type": "stream",
     "text": [
      "[I 2025-07-28 20:49:40,269] Trial 4 finished with value: 0.43252631900564575 and parameters: {'w_xgb_raw': 0.8500000000000001, 'w_rf_raw': 0.2, 'w_gbm_raw': 0.15000000000000002}. Best is trial 4 with value: 0.43252631900564575.\n"
     ]
    },
    {
     "name": "stdout",
     "output_type": "stream",
     "text": [
      "🏃 View run Trial-4 at: http://127.0.0.1:5000/#/experiments/962208812792484732/runs/dc23907c8d4544659da30079666b956e\n",
      "🧪 View experiment at: http://127.0.0.1:5000/#/experiments/962208812792484732\n"
     ]
    },
    {
     "name": "stderr",
     "output_type": "stream",
     "text": [
      "[I 2025-07-28 20:56:27,068] Trial 5 finished with value: 0.4804521700860521 and parameters: {'w_xgb_raw': 0.15000000000000002, 'w_rf_raw': 0.30000000000000004, 'w_gbm_raw': 0.55}. Best is trial 4 with value: 0.43252631900564575.\n"
     ]
    },
    {
     "name": "stdout",
     "output_type": "stream",
     "text": [
      "🏃 View run Trial-5 at: http://127.0.0.1:5000/#/experiments/962208812792484732/runs/1e2d5f3c7d5744d3a24594c56c7e4f5b\n",
      "🧪 View experiment at: http://127.0.0.1:5000/#/experiments/962208812792484732\n"
     ]
    },
    {
     "name": "stderr",
     "output_type": "stream",
     "text": [
      "[I 2025-07-28 21:03:13,591] Trial 6 finished with value: 0.4634807612977604 and parameters: {'w_xgb_raw': 0.45, 'w_rf_raw': 0.30000000000000004, 'w_gbm_raw': 0.6000000000000001}. Best is trial 4 with value: 0.43252631900564575.\n"
     ]
    },
    {
     "name": "stdout",
     "output_type": "stream",
     "text": [
      "🏃 View run Trial-6 at: http://127.0.0.1:5000/#/experiments/962208812792484732/runs/273638eabbd046b49680d9d8a88d8c39\n",
      "🧪 View experiment at: http://127.0.0.1:5000/#/experiments/962208812792484732\n"
     ]
    },
    {
     "name": "stderr",
     "output_type": "stream",
     "text": [
      "[I 2025-07-28 21:10:02,477] Trial 7 finished with value: 0.47515803930476075 and parameters: {'w_xgb_raw': 0.1, 'w_rf_raw': 0.30000000000000004, 'w_gbm_raw': 0.35000000000000003}. Best is trial 4 with value: 0.43252631900564575.\n"
     ]
    },
    {
     "name": "stdout",
     "output_type": "stream",
     "text": [
      "🏃 View run Trial-7 at: http://127.0.0.1:5000/#/experiments/962208812792484732/runs/64716f00356c431c94534bb1ceb7e957\n",
      "🧪 View experiment at: http://127.0.0.1:5000/#/experiments/962208812792484732\n"
     ]
    },
    {
     "name": "stderr",
     "output_type": "stream",
     "text": [
      "[I 2025-07-28 21:16:50,095] Trial 8 finished with value: 0.4484794185432509 and parameters: {'w_xgb_raw': 0.45, 'w_rf_raw': 0.8, 'w_gbm_raw': 0.2}. Best is trial 4 with value: 0.43252631900564575.\n"
     ]
    },
    {
     "name": "stdout",
     "output_type": "stream",
     "text": [
      "🏃 View run Trial-8 at: http://127.0.0.1:5000/#/experiments/962208812792484732/runs/42e302b4cafb4d9a881ef84a22a791a7\n",
      "🧪 View experiment at: http://127.0.0.1:5000/#/experiments/962208812792484732\n"
     ]
    },
    {
     "name": "stderr",
     "output_type": "stream",
     "text": [
      "[I 2025-07-28 21:23:36,797] Trial 9 finished with value: 0.43773483198170365 and parameters: {'w_xgb_raw': 0.5, 'w_rf_raw': 0.6000000000000001, 'w_gbm_raw': 0.0}. Best is trial 4 with value: 0.43252631900564575.\n"
     ]
    },
    {
     "name": "stdout",
     "output_type": "stream",
     "text": [
      "🏃 View run Trial-9 at: http://127.0.0.1:5000/#/experiments/962208812792484732/runs/21b19baadfe24f3f8ba59aefdeb0f3f6\n",
      "🧪 View experiment at: http://127.0.0.1:5000/#/experiments/962208812792484732\n"
     ]
    },
    {
     "name": "stderr",
     "output_type": "stream",
     "text": [
      "[I 2025-07-28 21:30:21,402] Trial 10 finished with value: 0.4288645539949135 and parameters: {'w_xgb_raw': 1.0, 'w_rf_raw': 0.55, 'w_gbm_raw': 0.0}. Best is trial 10 with value: 0.4288645539949135.\n"
     ]
    },
    {
     "name": "stdout",
     "output_type": "stream",
     "text": [
      "🏃 View run Trial-10 at: http://127.0.0.1:5000/#/experiments/962208812792484732/runs/99d905350d2540bbb9b23d57e3f20b1f\n",
      "🧪 View experiment at: http://127.0.0.1:5000/#/experiments/962208812792484732\n"
     ]
    },
    {
     "name": "stderr",
     "output_type": "stream",
     "text": [
      "[I 2025-07-28 21:37:08,033] Trial 11 finished with value: 0.4288645539949135 and parameters: {'w_xgb_raw': 1.0, 'w_rf_raw': 0.55, 'w_gbm_raw': 0.0}. Best is trial 10 with value: 0.4288645539949135.\n"
     ]
    },
    {
     "name": "stdout",
     "output_type": "stream",
     "text": [
      "🏃 View run Trial-11 at: http://127.0.0.1:5000/#/experiments/962208812792484732/runs/c9632b5c250b4828a743a939f77a0768\n",
      "🧪 View experiment at: http://127.0.0.1:5000/#/experiments/962208812792484732\n"
     ]
    },
    {
     "name": "stderr",
     "output_type": "stream",
     "text": [
      "[I 2025-07-28 21:43:55,141] Trial 12 finished with value: 0.4288645539949135 and parameters: {'w_xgb_raw': 1.0, 'w_rf_raw': 0.55, 'w_gbm_raw': 0.0}. Best is trial 10 with value: 0.4288645539949135.\n"
     ]
    },
    {
     "name": "stdout",
     "output_type": "stream",
     "text": [
      "🏃 View run Trial-12 at: http://127.0.0.1:5000/#/experiments/962208812792484732/runs/98fcb44f800548c09f40f5e956841687\n",
      "🧪 View experiment at: http://127.0.0.1:5000/#/experiments/962208812792484732\n"
     ]
    },
    {
     "name": "stderr",
     "output_type": "stream",
     "text": [
      "[I 2025-07-28 21:50:42,184] Trial 13 finished with value: 0.4393131059607939 and parameters: {'w_xgb_raw': 1.0, 'w_rf_raw': 0.65, 'w_gbm_raw': 0.35000000000000003}. Best is trial 10 with value: 0.4288645539949135.\n"
     ]
    },
    {
     "name": "stdout",
     "output_type": "stream",
     "text": [
      "🏃 View run Trial-13 at: http://127.0.0.1:5000/#/experiments/962208812792484732/runs/7b7d990de6da49a8b1ca7eda44df398f\n",
      "🧪 View experiment at: http://127.0.0.1:5000/#/experiments/962208812792484732\n"
     ]
    },
    {
     "name": "stderr",
     "output_type": "stream",
     "text": [
      "[W 2025-07-28 21:51:57,537] Trial 14 failed with parameters: {'w_xgb_raw': 0.8, 'w_rf_raw': 0.45, 'w_gbm_raw': 0.35000000000000003} because of the following error: KeyboardInterrupt().\n",
      "Traceback (most recent call last):\n",
      "  File \"c:\\Users\\Guilherme\\AppData\\Local\\Programs\\Python\\Python311\\Lib\\site-packages\\optuna\\study\\_optimize.py\", line 201, in _run_trial\n",
      "    value_or_values = func(trial)\n",
      "                      ^^^^^^^^^^^\n",
      "  File \"C:\\Users\\Guilherme\\AppData\\Local\\Temp\\ipykernel_35448\\186583367.py\", line 80, in objective\n",
      "    model_xgb.fit(X_train, y_train)\n",
      "  File \"c:\\Users\\Guilherme\\AppData\\Local\\Programs\\Python\\Python311\\Lib\\site-packages\\xgboost\\core.py\", line 729, in inner_f\n",
      "    return func(**kwargs)\n",
      "           ^^^^^^^^^^^^^^\n",
      "  File \"c:\\Users\\Guilherme\\AppData\\Local\\Programs\\Python\\Python311\\Lib\\site-packages\\xgboost\\sklearn.py\", line 1247, in fit\n",
      "    self._Booster = train(\n",
      "                    ^^^^^^\n",
      "  File \"c:\\Users\\Guilherme\\AppData\\Local\\Programs\\Python\\Python311\\Lib\\site-packages\\xgboost\\core.py\", line 729, in inner_f\n",
      "    return func(**kwargs)\n",
      "           ^^^^^^^^^^^^^^\n",
      "  File \"c:\\Users\\Guilherme\\AppData\\Local\\Programs\\Python\\Python311\\Lib\\site-packages\\xgboost\\training.py\", line 183, in train\n",
      "    bst.update(dtrain, iteration=i, fobj=obj)\n",
      "  File \"c:\\Users\\Guilherme\\AppData\\Local\\Programs\\Python\\Python311\\Lib\\site-packages\\xgboost\\core.py\", line 2247, in update\n",
      "    _LIB.XGBoosterUpdateOneIter(\n",
      "KeyboardInterrupt\n",
      "[W 2025-07-28 21:51:57,554] Trial 14 failed with value None.\n"
     ]
    },
    {
     "name": "stdout",
     "output_type": "stream",
     "text": [
      "🏃 View run Trial-14 at: http://127.0.0.1:5000/#/experiments/962208812792484732/runs/cf2e610966e54dd6926b87294285a8e3\n",
      "🧪 View experiment at: http://127.0.0.1:5000/#/experiments/962208812792484732\n",
      "🏃 View run Ensemble weight optimization at: http://127.0.0.1:5000/#/experiments/962208812792484732/runs/31aad1a36640456390831b698bf0a3ad\n",
      "🧪 View experiment at: http://127.0.0.1:5000/#/experiments/962208812792484732\n"
     ]
    },
    {
     "ename": "KeyboardInterrupt",
     "evalue": "",
     "output_type": "error",
     "traceback": [
      "\u001b[31m---------------------------------------------------------------------------\u001b[39m",
      "\u001b[31mKeyboardInterrupt\u001b[39m                         Traceback (most recent call last)",
      "\u001b[36mCell\u001b[39m\u001b[36m \u001b[39m\u001b[32mIn[6]\u001b[39m\u001b[32m, line 14\u001b[39m\n\u001b[32m     12\u001b[39m mlflow.set_experiment(\u001b[33m'\u001b[39m\u001b[33mDSWA - Competicao3\u001b[39m\u001b[33m'\u001b[39m)\n\u001b[32m     13\u001b[39m \u001b[38;5;28;01mwith\u001b[39;00m mlflow.start_run(run_name=\u001b[33m'\u001b[39m\u001b[33mEnsemble weight optimization\u001b[39m\u001b[33m'\u001b[39m):\n\u001b[32m---> \u001b[39m\u001b[32m14\u001b[39m     \u001b[43mstudy\u001b[49m\u001b[43m.\u001b[49m\u001b[43moptimize\u001b[49m\u001b[43m(\u001b[49m\u001b[43mobjective\u001b[49m\u001b[43m,\u001b[49m\u001b[43m \u001b[49m\u001b[43mn_trials\u001b[49m\u001b[43m=\u001b[49m\u001b[32;43m50\u001b[39;49m\u001b[43m)\u001b[49m\n\u001b[32m     16\u001b[39m     \u001b[38;5;28mprint\u001b[39m(\u001b[33m\"\u001b[39m\u001b[33mMelhores hiperparâmetros:\u001b[39m\u001b[33m\"\u001b[39m)\n\u001b[32m     17\u001b[39m     \u001b[38;5;28mprint\u001b[39m(study.best_params)\n",
      "\u001b[36mFile \u001b[39m\u001b[32mc:\\Users\\Guilherme\\AppData\\Local\\Programs\\Python\\Python311\\Lib\\site-packages\\optuna\\study\\study.py:489\u001b[39m, in \u001b[36mStudy.optimize\u001b[39m\u001b[34m(self, func, n_trials, timeout, n_jobs, catch, callbacks, gc_after_trial, show_progress_bar)\u001b[39m\n\u001b[32m    387\u001b[39m \u001b[38;5;28;01mdef\u001b[39;00m\u001b[38;5;250m \u001b[39m\u001b[34moptimize\u001b[39m(\n\u001b[32m    388\u001b[39m     \u001b[38;5;28mself\u001b[39m,\n\u001b[32m    389\u001b[39m     func: ObjectiveFuncType,\n\u001b[32m   (...)\u001b[39m\u001b[32m    396\u001b[39m     show_progress_bar: \u001b[38;5;28mbool\u001b[39m = \u001b[38;5;28;01mFalse\u001b[39;00m,\n\u001b[32m    397\u001b[39m ) -> \u001b[38;5;28;01mNone\u001b[39;00m:\n\u001b[32m    398\u001b[39m \u001b[38;5;250m    \u001b[39m\u001b[33;03m\"\"\"Optimize an objective function.\u001b[39;00m\n\u001b[32m    399\u001b[39m \n\u001b[32m    400\u001b[39m \u001b[33;03m    Optimization is done by choosing a suitable set of hyperparameter values from a given\u001b[39;00m\n\u001b[32m   (...)\u001b[39m\u001b[32m    487\u001b[39m \u001b[33;03m            If nested invocation of this method occurs.\u001b[39;00m\n\u001b[32m    488\u001b[39m \u001b[33;03m    \"\"\"\u001b[39;00m\n\u001b[32m--> \u001b[39m\u001b[32m489\u001b[39m     \u001b[43m_optimize\u001b[49m\u001b[43m(\u001b[49m\n\u001b[32m    490\u001b[39m \u001b[43m        \u001b[49m\u001b[43mstudy\u001b[49m\u001b[43m=\u001b[49m\u001b[38;5;28;43mself\u001b[39;49m\u001b[43m,\u001b[49m\n\u001b[32m    491\u001b[39m \u001b[43m        \u001b[49m\u001b[43mfunc\u001b[49m\u001b[43m=\u001b[49m\u001b[43mfunc\u001b[49m\u001b[43m,\u001b[49m\n\u001b[32m    492\u001b[39m \u001b[43m        \u001b[49m\u001b[43mn_trials\u001b[49m\u001b[43m=\u001b[49m\u001b[43mn_trials\u001b[49m\u001b[43m,\u001b[49m\n\u001b[32m    493\u001b[39m \u001b[43m        \u001b[49m\u001b[43mtimeout\u001b[49m\u001b[43m=\u001b[49m\u001b[43mtimeout\u001b[49m\u001b[43m,\u001b[49m\n\u001b[32m    494\u001b[39m \u001b[43m        \u001b[49m\u001b[43mn_jobs\u001b[49m\u001b[43m=\u001b[49m\u001b[43mn_jobs\u001b[49m\u001b[43m,\u001b[49m\n\u001b[32m    495\u001b[39m \u001b[43m        \u001b[49m\u001b[43mcatch\u001b[49m\u001b[43m=\u001b[49m\u001b[38;5;28;43mtuple\u001b[39;49m\u001b[43m(\u001b[49m\u001b[43mcatch\u001b[49m\u001b[43m)\u001b[49m\u001b[43m \u001b[49m\u001b[38;5;28;43;01mif\u001b[39;49;00m\u001b[43m \u001b[49m\u001b[38;5;28;43misinstance\u001b[39;49m\u001b[43m(\u001b[49m\u001b[43mcatch\u001b[49m\u001b[43m,\u001b[49m\u001b[43m \u001b[49m\u001b[43mIterable\u001b[49m\u001b[43m)\u001b[49m\u001b[43m \u001b[49m\u001b[38;5;28;43;01melse\u001b[39;49;00m\u001b[43m \u001b[49m\u001b[43m(\u001b[49m\u001b[43mcatch\u001b[49m\u001b[43m,\u001b[49m\u001b[43m)\u001b[49m\u001b[43m,\u001b[49m\n\u001b[32m    496\u001b[39m \u001b[43m        \u001b[49m\u001b[43mcallbacks\u001b[49m\u001b[43m=\u001b[49m\u001b[43mcallbacks\u001b[49m\u001b[43m,\u001b[49m\n\u001b[32m    497\u001b[39m \u001b[43m        \u001b[49m\u001b[43mgc_after_trial\u001b[49m\u001b[43m=\u001b[49m\u001b[43mgc_after_trial\u001b[49m\u001b[43m,\u001b[49m\n\u001b[32m    498\u001b[39m \u001b[43m        \u001b[49m\u001b[43mshow_progress_bar\u001b[49m\u001b[43m=\u001b[49m\u001b[43mshow_progress_bar\u001b[49m\u001b[43m,\u001b[49m\n\u001b[32m    499\u001b[39m \u001b[43m    \u001b[49m\u001b[43m)\u001b[49m\n",
      "\u001b[36mFile \u001b[39m\u001b[32mc:\\Users\\Guilherme\\AppData\\Local\\Programs\\Python\\Python311\\Lib\\site-packages\\optuna\\study\\_optimize.py:64\u001b[39m, in \u001b[36m_optimize\u001b[39m\u001b[34m(study, func, n_trials, timeout, n_jobs, catch, callbacks, gc_after_trial, show_progress_bar)\u001b[39m\n\u001b[32m     62\u001b[39m \u001b[38;5;28;01mtry\u001b[39;00m:\n\u001b[32m     63\u001b[39m     \u001b[38;5;28;01mif\u001b[39;00m n_jobs == \u001b[32m1\u001b[39m:\n\u001b[32m---> \u001b[39m\u001b[32m64\u001b[39m         \u001b[43m_optimize_sequential\u001b[49m\u001b[43m(\u001b[49m\n\u001b[32m     65\u001b[39m \u001b[43m            \u001b[49m\u001b[43mstudy\u001b[49m\u001b[43m,\u001b[49m\n\u001b[32m     66\u001b[39m \u001b[43m            \u001b[49m\u001b[43mfunc\u001b[49m\u001b[43m,\u001b[49m\n\u001b[32m     67\u001b[39m \u001b[43m            \u001b[49m\u001b[43mn_trials\u001b[49m\u001b[43m,\u001b[49m\n\u001b[32m     68\u001b[39m \u001b[43m            \u001b[49m\u001b[43mtimeout\u001b[49m\u001b[43m,\u001b[49m\n\u001b[32m     69\u001b[39m \u001b[43m            \u001b[49m\u001b[43mcatch\u001b[49m\u001b[43m,\u001b[49m\n\u001b[32m     70\u001b[39m \u001b[43m            \u001b[49m\u001b[43mcallbacks\u001b[49m\u001b[43m,\u001b[49m\n\u001b[32m     71\u001b[39m \u001b[43m            \u001b[49m\u001b[43mgc_after_trial\u001b[49m\u001b[43m,\u001b[49m\n\u001b[32m     72\u001b[39m \u001b[43m            \u001b[49m\u001b[43mreseed_sampler_rng\u001b[49m\u001b[43m=\u001b[49m\u001b[38;5;28;43;01mFalse\u001b[39;49;00m\u001b[43m,\u001b[49m\n\u001b[32m     73\u001b[39m \u001b[43m            \u001b[49m\u001b[43mtime_start\u001b[49m\u001b[43m=\u001b[49m\u001b[38;5;28;43;01mNone\u001b[39;49;00m\u001b[43m,\u001b[49m\n\u001b[32m     74\u001b[39m \u001b[43m            \u001b[49m\u001b[43mprogress_bar\u001b[49m\u001b[43m=\u001b[49m\u001b[43mprogress_bar\u001b[49m\u001b[43m,\u001b[49m\n\u001b[32m     75\u001b[39m \u001b[43m        \u001b[49m\u001b[43m)\u001b[49m\n\u001b[32m     76\u001b[39m     \u001b[38;5;28;01melse\u001b[39;00m:\n\u001b[32m     77\u001b[39m         \u001b[38;5;28;01mif\u001b[39;00m n_jobs == -\u001b[32m1\u001b[39m:\n",
      "\u001b[36mFile \u001b[39m\u001b[32mc:\\Users\\Guilherme\\AppData\\Local\\Programs\\Python\\Python311\\Lib\\site-packages\\optuna\\study\\_optimize.py:161\u001b[39m, in \u001b[36m_optimize_sequential\u001b[39m\u001b[34m(study, func, n_trials, timeout, catch, callbacks, gc_after_trial, reseed_sampler_rng, time_start, progress_bar)\u001b[39m\n\u001b[32m    158\u001b[39m         \u001b[38;5;28;01mbreak\u001b[39;00m\n\u001b[32m    160\u001b[39m \u001b[38;5;28;01mtry\u001b[39;00m:\n\u001b[32m--> \u001b[39m\u001b[32m161\u001b[39m     frozen_trial = \u001b[43m_run_trial\u001b[49m\u001b[43m(\u001b[49m\u001b[43mstudy\u001b[49m\u001b[43m,\u001b[49m\u001b[43m \u001b[49m\u001b[43mfunc\u001b[49m\u001b[43m,\u001b[49m\u001b[43m \u001b[49m\u001b[43mcatch\u001b[49m\u001b[43m)\u001b[49m\n\u001b[32m    162\u001b[39m \u001b[38;5;28;01mfinally\u001b[39;00m:\n\u001b[32m    163\u001b[39m     \u001b[38;5;66;03m# The following line mitigates memory problems that can be occurred in some\u001b[39;00m\n\u001b[32m    164\u001b[39m     \u001b[38;5;66;03m# environments (e.g., services that use computing containers such as GitHub Actions).\u001b[39;00m\n\u001b[32m    165\u001b[39m     \u001b[38;5;66;03m# Please refer to the following PR for further details:\u001b[39;00m\n\u001b[32m    166\u001b[39m     \u001b[38;5;66;03m# https://github.com/optuna/optuna/pull/325.\u001b[39;00m\n\u001b[32m    167\u001b[39m     \u001b[38;5;28;01mif\u001b[39;00m gc_after_trial:\n",
      "\u001b[36mFile \u001b[39m\u001b[32mc:\\Users\\Guilherme\\AppData\\Local\\Programs\\Python\\Python311\\Lib\\site-packages\\optuna\\study\\_optimize.py:253\u001b[39m, in \u001b[36m_run_trial\u001b[39m\u001b[34m(study, func, catch)\u001b[39m\n\u001b[32m    246\u001b[39m         \u001b[38;5;28;01massert\u001b[39;00m \u001b[38;5;28;01mFalse\u001b[39;00m, \u001b[33m\"\u001b[39m\u001b[33mShould not reach.\u001b[39m\u001b[33m\"\u001b[39m\n\u001b[32m    248\u001b[39m \u001b[38;5;28;01mif\u001b[39;00m (\n\u001b[32m    249\u001b[39m     frozen_trial.state == TrialState.FAIL\n\u001b[32m    250\u001b[39m     \u001b[38;5;129;01mand\u001b[39;00m func_err \u001b[38;5;129;01mis\u001b[39;00m \u001b[38;5;129;01mnot\u001b[39;00m \u001b[38;5;28;01mNone\u001b[39;00m\n\u001b[32m    251\u001b[39m     \u001b[38;5;129;01mand\u001b[39;00m \u001b[38;5;129;01mnot\u001b[39;00m \u001b[38;5;28misinstance\u001b[39m(func_err, catch)\n\u001b[32m    252\u001b[39m ):\n\u001b[32m--> \u001b[39m\u001b[32m253\u001b[39m     \u001b[38;5;28;01mraise\u001b[39;00m func_err\n\u001b[32m    254\u001b[39m \u001b[38;5;28;01mreturn\u001b[39;00m frozen_trial\n",
      "\u001b[36mFile \u001b[39m\u001b[32mc:\\Users\\Guilherme\\AppData\\Local\\Programs\\Python\\Python311\\Lib\\site-packages\\optuna\\study\\_optimize.py:201\u001b[39m, in \u001b[36m_run_trial\u001b[39m\u001b[34m(study, func, catch)\u001b[39m\n\u001b[32m    199\u001b[39m \u001b[38;5;28;01mwith\u001b[39;00m get_heartbeat_thread(trial._trial_id, study._storage):\n\u001b[32m    200\u001b[39m     \u001b[38;5;28;01mtry\u001b[39;00m:\n\u001b[32m--> \u001b[39m\u001b[32m201\u001b[39m         value_or_values = \u001b[43mfunc\u001b[49m\u001b[43m(\u001b[49m\u001b[43mtrial\u001b[49m\u001b[43m)\u001b[49m\n\u001b[32m    202\u001b[39m     \u001b[38;5;28;01mexcept\u001b[39;00m exceptions.TrialPruned \u001b[38;5;28;01mas\u001b[39;00m e:\n\u001b[32m    203\u001b[39m         \u001b[38;5;66;03m# TODO(mamu): Handle multi-objective cases.\u001b[39;00m\n\u001b[32m    204\u001b[39m         state = TrialState.PRUNED\n",
      "\u001b[36mCell\u001b[39m\u001b[36m \u001b[39m\u001b[32mIn[5]\u001b[39m\u001b[32m, line 80\u001b[39m, in \u001b[36mobjective\u001b[39m\u001b[34m(trial)\u001b[39m\n\u001b[32m     78\u001b[39m \u001b[38;5;66;03m# 1) XGBoost\u001b[39;00m\n\u001b[32m     79\u001b[39m model_xgb = xgb.XGBRegressor(**params_xgboost)\n\u001b[32m---> \u001b[39m\u001b[32m80\u001b[39m \u001b[43mmodel_xgb\u001b[49m\u001b[43m.\u001b[49m\u001b[43mfit\u001b[49m\u001b[43m(\u001b[49m\u001b[43mX_train\u001b[49m\u001b[43m,\u001b[49m\u001b[43m \u001b[49m\u001b[43my_train\u001b[49m\u001b[43m)\u001b[49m\n\u001b[32m     81\u001b[39m y_pred_xgb = model_xgb.predict(X_val)\n\u001b[32m     83\u001b[39m \u001b[38;5;66;03m# 2) Random Forest\u001b[39;00m\n",
      "\u001b[36mFile \u001b[39m\u001b[32mc:\\Users\\Guilherme\\AppData\\Local\\Programs\\Python\\Python311\\Lib\\site-packages\\xgboost\\core.py:729\u001b[39m, in \u001b[36mrequire_keyword_args.<locals>.throw_if.<locals>.inner_f\u001b[39m\u001b[34m(*args, **kwargs)\u001b[39m\n\u001b[32m    727\u001b[39m \u001b[38;5;28;01mfor\u001b[39;00m k, arg \u001b[38;5;129;01min\u001b[39;00m \u001b[38;5;28mzip\u001b[39m(sig.parameters, args):\n\u001b[32m    728\u001b[39m     kwargs[k] = arg\n\u001b[32m--> \u001b[39m\u001b[32m729\u001b[39m \u001b[38;5;28;01mreturn\u001b[39;00m \u001b[43mfunc\u001b[49m\u001b[43m(\u001b[49m\u001b[43m*\u001b[49m\u001b[43m*\u001b[49m\u001b[43mkwargs\u001b[49m\u001b[43m)\u001b[49m\n",
      "\u001b[36mFile \u001b[39m\u001b[32mc:\\Users\\Guilherme\\AppData\\Local\\Programs\\Python\\Python311\\Lib\\site-packages\\xgboost\\sklearn.py:1247\u001b[39m, in \u001b[36mXGBModel.fit\u001b[39m\u001b[34m(self, X, y, sample_weight, base_margin, eval_set, verbose, xgb_model, sample_weight_eval_set, base_margin_eval_set, feature_weights)\u001b[39m\n\u001b[32m   1244\u001b[39m \u001b[38;5;28;01melse\u001b[39;00m:\n\u001b[32m   1245\u001b[39m     obj = \u001b[38;5;28;01mNone\u001b[39;00m\n\u001b[32m-> \u001b[39m\u001b[32m1247\u001b[39m \u001b[38;5;28mself\u001b[39m._Booster = \u001b[43mtrain\u001b[49m\u001b[43m(\u001b[49m\n\u001b[32m   1248\u001b[39m \u001b[43m    \u001b[49m\u001b[43mparams\u001b[49m\u001b[43m,\u001b[49m\n\u001b[32m   1249\u001b[39m \u001b[43m    \u001b[49m\u001b[43mtrain_dmatrix\u001b[49m\u001b[43m,\u001b[49m\n\u001b[32m   1250\u001b[39m \u001b[43m    \u001b[49m\u001b[38;5;28;43mself\u001b[39;49m\u001b[43m.\u001b[49m\u001b[43mget_num_boosting_rounds\u001b[49m\u001b[43m(\u001b[49m\u001b[43m)\u001b[49m\u001b[43m,\u001b[49m\n\u001b[32m   1251\u001b[39m \u001b[43m    \u001b[49m\u001b[43mevals\u001b[49m\u001b[43m=\u001b[49m\u001b[43mevals\u001b[49m\u001b[43m,\u001b[49m\n\u001b[32m   1252\u001b[39m \u001b[43m    \u001b[49m\u001b[43mearly_stopping_rounds\u001b[49m\u001b[43m=\u001b[49m\u001b[38;5;28;43mself\u001b[39;49m\u001b[43m.\u001b[49m\u001b[43mearly_stopping_rounds\u001b[49m\u001b[43m,\u001b[49m\n\u001b[32m   1253\u001b[39m \u001b[43m    \u001b[49m\u001b[43mevals_result\u001b[49m\u001b[43m=\u001b[49m\u001b[43mevals_result\u001b[49m\u001b[43m,\u001b[49m\n\u001b[32m   1254\u001b[39m \u001b[43m    \u001b[49m\u001b[43mobj\u001b[49m\u001b[43m=\u001b[49m\u001b[43mobj\u001b[49m\u001b[43m,\u001b[49m\n\u001b[32m   1255\u001b[39m \u001b[43m    \u001b[49m\u001b[43mcustom_metric\u001b[49m\u001b[43m=\u001b[49m\u001b[43mmetric\u001b[49m\u001b[43m,\u001b[49m\n\u001b[32m   1256\u001b[39m \u001b[43m    \u001b[49m\u001b[43mverbose_eval\u001b[49m\u001b[43m=\u001b[49m\u001b[43mverbose\u001b[49m\u001b[43m,\u001b[49m\n\u001b[32m   1257\u001b[39m \u001b[43m    \u001b[49m\u001b[43mxgb_model\u001b[49m\u001b[43m=\u001b[49m\u001b[43mmodel\u001b[49m\u001b[43m,\u001b[49m\n\u001b[32m   1258\u001b[39m \u001b[43m    \u001b[49m\u001b[43mcallbacks\u001b[49m\u001b[43m=\u001b[49m\u001b[38;5;28;43mself\u001b[39;49m\u001b[43m.\u001b[49m\u001b[43mcallbacks\u001b[49m\u001b[43m,\u001b[49m\n\u001b[32m   1259\u001b[39m \u001b[43m\u001b[49m\u001b[43m)\u001b[49m\n\u001b[32m   1261\u001b[39m \u001b[38;5;28mself\u001b[39m._set_evaluation_result(evals_result)\n\u001b[32m   1262\u001b[39m \u001b[38;5;28;01mreturn\u001b[39;00m \u001b[38;5;28mself\u001b[39m\n",
      "\u001b[36mFile \u001b[39m\u001b[32mc:\\Users\\Guilherme\\AppData\\Local\\Programs\\Python\\Python311\\Lib\\site-packages\\xgboost\\core.py:729\u001b[39m, in \u001b[36mrequire_keyword_args.<locals>.throw_if.<locals>.inner_f\u001b[39m\u001b[34m(*args, **kwargs)\u001b[39m\n\u001b[32m    727\u001b[39m \u001b[38;5;28;01mfor\u001b[39;00m k, arg \u001b[38;5;129;01min\u001b[39;00m \u001b[38;5;28mzip\u001b[39m(sig.parameters, args):\n\u001b[32m    728\u001b[39m     kwargs[k] = arg\n\u001b[32m--> \u001b[39m\u001b[32m729\u001b[39m \u001b[38;5;28;01mreturn\u001b[39;00m \u001b[43mfunc\u001b[49m\u001b[43m(\u001b[49m\u001b[43m*\u001b[49m\u001b[43m*\u001b[49m\u001b[43mkwargs\u001b[49m\u001b[43m)\u001b[49m\n",
      "\u001b[36mFile \u001b[39m\u001b[32mc:\\Users\\Guilherme\\AppData\\Local\\Programs\\Python\\Python311\\Lib\\site-packages\\xgboost\\training.py:183\u001b[39m, in \u001b[36mtrain\u001b[39m\u001b[34m(params, dtrain, num_boost_round, evals, obj, maximize, early_stopping_rounds, evals_result, verbose_eval, xgb_model, callbacks, custom_metric)\u001b[39m\n\u001b[32m    181\u001b[39m \u001b[38;5;28;01mif\u001b[39;00m cb_container.before_iteration(bst, i, dtrain, evals):\n\u001b[32m    182\u001b[39m     \u001b[38;5;28;01mbreak\u001b[39;00m\n\u001b[32m--> \u001b[39m\u001b[32m183\u001b[39m \u001b[43mbst\u001b[49m\u001b[43m.\u001b[49m\u001b[43mupdate\u001b[49m\u001b[43m(\u001b[49m\u001b[43mdtrain\u001b[49m\u001b[43m,\u001b[49m\u001b[43m \u001b[49m\u001b[43miteration\u001b[49m\u001b[43m=\u001b[49m\u001b[43mi\u001b[49m\u001b[43m,\u001b[49m\u001b[43m \u001b[49m\u001b[43mfobj\u001b[49m\u001b[43m=\u001b[49m\u001b[43mobj\u001b[49m\u001b[43m)\u001b[49m\n\u001b[32m    184\u001b[39m \u001b[38;5;28;01mif\u001b[39;00m cb_container.after_iteration(bst, i, dtrain, evals):\n\u001b[32m    185\u001b[39m     \u001b[38;5;28;01mbreak\u001b[39;00m\n",
      "\u001b[36mFile \u001b[39m\u001b[32mc:\\Users\\Guilherme\\AppData\\Local\\Programs\\Python\\Python311\\Lib\\site-packages\\xgboost\\core.py:2247\u001b[39m, in \u001b[36mBooster.update\u001b[39m\u001b[34m(self, dtrain, iteration, fobj)\u001b[39m\n\u001b[32m   2243\u001b[39m \u001b[38;5;28mself\u001b[39m._assign_dmatrix_features(dtrain)\n\u001b[32m   2245\u001b[39m \u001b[38;5;28;01mif\u001b[39;00m fobj \u001b[38;5;129;01mis\u001b[39;00m \u001b[38;5;28;01mNone\u001b[39;00m:\n\u001b[32m   2246\u001b[39m     _check_call(\n\u001b[32m-> \u001b[39m\u001b[32m2247\u001b[39m         \u001b[43m_LIB\u001b[49m\u001b[43m.\u001b[49m\u001b[43mXGBoosterUpdateOneIter\u001b[49m\u001b[43m(\u001b[49m\n\u001b[32m   2248\u001b[39m \u001b[43m            \u001b[49m\u001b[38;5;28;43mself\u001b[39;49m\u001b[43m.\u001b[49m\u001b[43mhandle\u001b[49m\u001b[43m,\u001b[49m\u001b[43m \u001b[49m\u001b[43mctypes\u001b[49m\u001b[43m.\u001b[49m\u001b[43mc_int\u001b[49m\u001b[43m(\u001b[49m\u001b[43miteration\u001b[49m\u001b[43m)\u001b[49m\u001b[43m,\u001b[49m\u001b[43m \u001b[49m\u001b[43mdtrain\u001b[49m\u001b[43m.\u001b[49m\u001b[43mhandle\u001b[49m\n\u001b[32m   2249\u001b[39m \u001b[43m        \u001b[49m\u001b[43m)\u001b[49m\n\u001b[32m   2250\u001b[39m     )\n\u001b[32m   2251\u001b[39m \u001b[38;5;28;01melse\u001b[39;00m:\n\u001b[32m   2252\u001b[39m     pred = \u001b[38;5;28mself\u001b[39m.predict(dtrain, output_margin=\u001b[38;5;28;01mTrue\u001b[39;00m, training=\u001b[38;5;28;01mTrue\u001b[39;00m)\n",
      "\u001b[31mKeyboardInterrupt\u001b[39m: "
     ]
    }
   ],
   "source": [
    "study = optuna.create_study(\n",
    "    direction='minimize',\n",
    "    sampler=optuna.samplers.TPESampler(seed=42),\n",
    "    pruner=optuna.pruners.MedianPruner(\n",
    "        n_startup_trials=20,\n",
    "        n_warmup_steps=10,\n",
    "        interval_steps=5\n",
    "    )\n",
    ")\n",
    "\n",
    "mlflow.set_tracking_uri('http://127.0.0.1:5000')\n",
    "mlflow.set_experiment('DSWA - Competicao3')\n",
    "with mlflow.start_run(run_name='Ensemble weight optimization'):\n",
    "    study.optimize(objective, n_trials=50)\n",
    "    \n",
    "    print(\"Melhores hiperparâmetros:\")\n",
    "    print(study.best_params)\n",
    "    print(f\"Melhor RMSE: {study.best_value:.4f}\")\n",
    "\n",
    "    # Loga os melhores parâmetros e métrica no MLflow\n",
    "    mlflow.log_params(study.best_params)\n",
    "    mlflow.log_metric(\"best_rmse\", study.best_value)\n"
   ]
  }
 ],
 "metadata": {
  "kernelspec": {
   "display_name": "Python 3",
   "language": "python",
   "name": "python3"
  },
  "language_info": {
   "codemirror_mode": {
    "name": "ipython",
    "version": 3
   },
   "file_extension": ".py",
   "mimetype": "text/x-python",
   "name": "python",
   "nbconvert_exporter": "python",
   "pygments_lexer": "ipython3",
   "version": "3.11.5"
  }
 },
 "nbformat": 4,
 "nbformat_minor": 5
}
